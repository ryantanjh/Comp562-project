{
 "cells": [
  {
   "cell_type": "markdown",
   "metadata": {
    "id": "qrmhXFZB2XVt"
   },
   "source": [
    "**COMP562 Final Project: Kan Yu Xuan, Ryan Lee, Tan Jun Han**\n",
    "<br> In this notebook, we will be exploring the [Ethereum dataset](https://www.kaggle.com/datasets/vagifa/ethereum-frauddetection-dataset) (Section A) and also the machine learning models (Section B) that we used for our Fraud Analytics Project.\n",
    "\n",
    "*More elaborations and explanation can be found in our report.*"
   ]
  },
  {
   "cell_type": "markdown",
   "metadata": {
    "id": "LFpYZLKw3FVc"
   },
   "source": [
    "# **A. Pre-processing Steps**\n",
    "\n",
    "In this section, we aim to get an overview of the dataset (number of observations, number of variables, type of variables, etc.). This will help us to better understand our dataset even before we carry out any form of fraud analysis. We also intend to identify any abnormalities that can potentially lead to biases in our analysis."
   ]
  },
  {
   "cell_type": "markdown",
   "metadata": {
    "id": "-d1t4YAsKCvJ"
   },
   "source": [
    "## **1. Load Data**"
   ]
  },
  {
   "cell_type": "code",
   "execution_count": 5,
   "metadata": {
    "id": "O8wMXEN52wid"
   },
   "outputs": [],
   "source": [
    "# Import packages\n",
    "import numpy as np\n",
    "import pandas as pd\n",
    "import matplotlib.pyplot as plt\n",
    "from scipy.stats import chi2_contingency\n",
    "import seaborn as sns\n",
    "from sklearn.model_selection import train_test_split"
   ]
  },
  {
   "cell_type": "code",
   "execution_count": 6,
   "metadata": {
    "id": "gXWAtZSDKGER"
   },
   "outputs": [],
   "source": [
    "url = 'https://raw.githubusercontent.com/joeyylow/EthereumFraudAnalysis/main/transaction_dataset.csv'\n",
    "df = pd.read_csv(url, index_col=0)"
   ]
  },
  {
   "cell_type": "code",
   "execution_count": 7,
   "metadata": {
    "id": "LfF7dMm63e2z"
   },
   "outputs": [],
   "source": [
    "from warnings import filterwarnings\n",
    "filterwarnings(action='ignore', category=DeprecationWarning, message='`np.bool` is a deprecated alias')"
   ]
  },
  {
   "cell_type": "markdown",
   "metadata": {
    "id": "b3XNqQaFE936"
   },
   "source": [
    "## **2. Exploratory Data Analysis (EDA)**"
   ]
  },
  {
   "cell_type": "markdown",
   "metadata": {
    "id": "uGa3CVTDGrno"
   },
   "source": [
    "### **2.1 Overview of each column in our dataset**"
   ]
  },
  {
   "cell_type": "code",
   "execution_count": 8,
   "metadata": {
    "colab": {
     "base_uri": "https://localhost:8080/"
    },
    "id": "tp-2Ql6GKQbj",
    "outputId": "73bda7d2-3fbf-42c6-f576-7b0168ad2edd"
   },
   "outputs": [
    {
     "data": {
      "text/html": [
       "<div>\n",
       "<style scoped>\n",
       "    .dataframe tbody tr th:only-of-type {\n",
       "        vertical-align: middle;\n",
       "    }\n",
       "\n",
       "    .dataframe tbody tr th {\n",
       "        vertical-align: top;\n",
       "    }\n",
       "\n",
       "    .dataframe thead th {\n",
       "        text-align: right;\n",
       "    }\n",
       "</style>\n",
       "<table border=\"1\" class=\"dataframe\">\n",
       "  <thead>\n",
       "    <tr style=\"text-align: right;\">\n",
       "      <th></th>\n",
       "      <th>Index</th>\n",
       "      <th>Address</th>\n",
       "      <th>FLAG</th>\n",
       "      <th>Avg min between sent tnx</th>\n",
       "      <th>Avg min between received tnx</th>\n",
       "      <th>Time Diff between first and last (Mins)</th>\n",
       "      <th>Sent tnx</th>\n",
       "      <th>Received Tnx</th>\n",
       "      <th>Number of Created Contracts</th>\n",
       "      <th>Unique Received From Addresses</th>\n",
       "      <th>...</th>\n",
       "      <th>ERC20 min val sent</th>\n",
       "      <th>ERC20 max val sent</th>\n",
       "      <th>ERC20 avg val sent</th>\n",
       "      <th>ERC20 min val sent contract</th>\n",
       "      <th>ERC20 max val sent contract</th>\n",
       "      <th>ERC20 avg val sent contract</th>\n",
       "      <th>ERC20 uniq sent token name</th>\n",
       "      <th>ERC20 uniq rec token name</th>\n",
       "      <th>ERC20 most sent token type</th>\n",
       "      <th>ERC20_most_rec_token_type</th>\n",
       "    </tr>\n",
       "  </thead>\n",
       "  <tbody>\n",
       "    <tr>\n",
       "      <th>0</th>\n",
       "      <td>1</td>\n",
       "      <td>0x00009277775ac7d0d59eaad8fee3d10ac6c805e8</td>\n",
       "      <td>0</td>\n",
       "      <td>844.26</td>\n",
       "      <td>1093.71</td>\n",
       "      <td>704785.63</td>\n",
       "      <td>721</td>\n",
       "      <td>89</td>\n",
       "      <td>0</td>\n",
       "      <td>40</td>\n",
       "      <td>...</td>\n",
       "      <td>0.000000</td>\n",
       "      <td>1.683100e+07</td>\n",
       "      <td>271779.920000</td>\n",
       "      <td>0.0</td>\n",
       "      <td>0.0</td>\n",
       "      <td>0.0</td>\n",
       "      <td>39.0</td>\n",
       "      <td>57.0</td>\n",
       "      <td>Cofoundit</td>\n",
       "      <td>Numeraire</td>\n",
       "    </tr>\n",
       "    <tr>\n",
       "      <th>1</th>\n",
       "      <td>2</td>\n",
       "      <td>0x0002b44ddb1476db43c868bd494422ee4c136fed</td>\n",
       "      <td>0</td>\n",
       "      <td>12709.07</td>\n",
       "      <td>2958.44</td>\n",
       "      <td>1218216.73</td>\n",
       "      <td>94</td>\n",
       "      <td>8</td>\n",
       "      <td>0</td>\n",
       "      <td>5</td>\n",
       "      <td>...</td>\n",
       "      <td>2.260809</td>\n",
       "      <td>2.260809e+00</td>\n",
       "      <td>2.260809</td>\n",
       "      <td>0.0</td>\n",
       "      <td>0.0</td>\n",
       "      <td>0.0</td>\n",
       "      <td>1.0</td>\n",
       "      <td>7.0</td>\n",
       "      <td>Livepeer Token</td>\n",
       "      <td>Livepeer Token</td>\n",
       "    </tr>\n",
       "    <tr>\n",
       "      <th>2</th>\n",
       "      <td>3</td>\n",
       "      <td>0x0002bda54cb772d040f779e88eb453cac0daa244</td>\n",
       "      <td>0</td>\n",
       "      <td>246194.54</td>\n",
       "      <td>2434.02</td>\n",
       "      <td>516729.30</td>\n",
       "      <td>2</td>\n",
       "      <td>10</td>\n",
       "      <td>0</td>\n",
       "      <td>10</td>\n",
       "      <td>...</td>\n",
       "      <td>0.000000</td>\n",
       "      <td>0.000000e+00</td>\n",
       "      <td>0.000000</td>\n",
       "      <td>0.0</td>\n",
       "      <td>0.0</td>\n",
       "      <td>0.0</td>\n",
       "      <td>0.0</td>\n",
       "      <td>8.0</td>\n",
       "      <td>None</td>\n",
       "      <td>XENON</td>\n",
       "    </tr>\n",
       "    <tr>\n",
       "      <th>3</th>\n",
       "      <td>4</td>\n",
       "      <td>0x00038e6ba2fd5c09aedb96697c8d7b8fa6632e5e</td>\n",
       "      <td>0</td>\n",
       "      <td>10219.60</td>\n",
       "      <td>15785.09</td>\n",
       "      <td>397555.90</td>\n",
       "      <td>25</td>\n",
       "      <td>9</td>\n",
       "      <td>0</td>\n",
       "      <td>7</td>\n",
       "      <td>...</td>\n",
       "      <td>100.000000</td>\n",
       "      <td>9.029231e+03</td>\n",
       "      <td>3804.076893</td>\n",
       "      <td>0.0</td>\n",
       "      <td>0.0</td>\n",
       "      <td>0.0</td>\n",
       "      <td>1.0</td>\n",
       "      <td>11.0</td>\n",
       "      <td>Raiden</td>\n",
       "      <td>XENON</td>\n",
       "    </tr>\n",
       "    <tr>\n",
       "      <th>4</th>\n",
       "      <td>5</td>\n",
       "      <td>0x00062d1dd1afb6fb02540ddad9cdebfe568e0d89</td>\n",
       "      <td>0</td>\n",
       "      <td>36.61</td>\n",
       "      <td>10707.77</td>\n",
       "      <td>382472.42</td>\n",
       "      <td>4598</td>\n",
       "      <td>20</td>\n",
       "      <td>1</td>\n",
       "      <td>7</td>\n",
       "      <td>...</td>\n",
       "      <td>0.000000</td>\n",
       "      <td>4.500000e+04</td>\n",
       "      <td>13726.659220</td>\n",
       "      <td>0.0</td>\n",
       "      <td>0.0</td>\n",
       "      <td>0.0</td>\n",
       "      <td>6.0</td>\n",
       "      <td>27.0</td>\n",
       "      <td>StatusNetwork</td>\n",
       "      <td>EOS</td>\n",
       "    </tr>\n",
       "  </tbody>\n",
       "</table>\n",
       "<p>5 rows × 50 columns</p>\n",
       "</div>"
      ],
      "text/plain": [
       "   Index                                     Address  FLAG  \\\n",
       "0      1  0x00009277775ac7d0d59eaad8fee3d10ac6c805e8     0   \n",
       "1      2  0x0002b44ddb1476db43c868bd494422ee4c136fed     0   \n",
       "2      3  0x0002bda54cb772d040f779e88eb453cac0daa244     0   \n",
       "3      4  0x00038e6ba2fd5c09aedb96697c8d7b8fa6632e5e     0   \n",
       "4      5  0x00062d1dd1afb6fb02540ddad9cdebfe568e0d89     0   \n",
       "\n",
       "   Avg min between sent tnx  Avg min between received tnx  \\\n",
       "0                    844.26                       1093.71   \n",
       "1                  12709.07                       2958.44   \n",
       "2                 246194.54                       2434.02   \n",
       "3                  10219.60                      15785.09   \n",
       "4                     36.61                      10707.77   \n",
       "\n",
       "   Time Diff between first and last (Mins)  Sent tnx  Received Tnx  \\\n",
       "0                                704785.63       721            89   \n",
       "1                               1218216.73        94             8   \n",
       "2                                516729.30         2            10   \n",
       "3                                397555.90        25             9   \n",
       "4                                382472.42      4598            20   \n",
       "\n",
       "   Number of Created Contracts  Unique Received From Addresses  ...  \\\n",
       "0                            0                              40  ...   \n",
       "1                            0                               5  ...   \n",
       "2                            0                              10  ...   \n",
       "3                            0                               7  ...   \n",
       "4                            1                               7  ...   \n",
       "\n",
       "    ERC20 min val sent   ERC20 max val sent   ERC20 avg val sent  \\\n",
       "0             0.000000         1.683100e+07        271779.920000   \n",
       "1             2.260809         2.260809e+00             2.260809   \n",
       "2             0.000000         0.000000e+00             0.000000   \n",
       "3           100.000000         9.029231e+03          3804.076893   \n",
       "4             0.000000         4.500000e+04         13726.659220   \n",
       "\n",
       "    ERC20 min val sent contract   ERC20 max val sent contract  \\\n",
       "0                           0.0                           0.0   \n",
       "1                           0.0                           0.0   \n",
       "2                           0.0                           0.0   \n",
       "3                           0.0                           0.0   \n",
       "4                           0.0                           0.0   \n",
       "\n",
       "    ERC20 avg val sent contract   ERC20 uniq sent token name  \\\n",
       "0                           0.0                         39.0   \n",
       "1                           0.0                          1.0   \n",
       "2                           0.0                          0.0   \n",
       "3                           0.0                          1.0   \n",
       "4                           0.0                          6.0   \n",
       "\n",
       "    ERC20 uniq rec token name   ERC20 most sent token type  \\\n",
       "0                        57.0                    Cofoundit   \n",
       "1                         7.0               Livepeer Token   \n",
       "2                         8.0                         None   \n",
       "3                        11.0                       Raiden   \n",
       "4                        27.0                StatusNetwork   \n",
       "\n",
       "    ERC20_most_rec_token_type  \n",
       "0                   Numeraire  \n",
       "1              Livepeer Token  \n",
       "2                       XENON  \n",
       "3                       XENON  \n",
       "4                         EOS  \n",
       "\n",
       "[5 rows x 50 columns]"
      ]
     },
     "execution_count": 8,
     "metadata": {},
     "output_type": "execute_result"
    }
   ],
   "source": [
    "# Displaying the first 5 rows of values for each column\n",
    "df.head()"
   ]
  },
  {
   "cell_type": "markdown",
   "metadata": {
    "id": "T5GgGCbRGtsc"
   },
   "source": [
    "### **2.2 Hypotheses**"
   ]
  },
  {
   "cell_type": "markdown",
   "metadata": {
    "id": "zUBlwbfQJFwI"
   },
   "source": [
    "#### 2.2.1 Hypothesis 1: **Our dataset is imbalanced**"
   ]
  },
  {
   "cell_type": "code",
   "execution_count": 9,
   "metadata": {
    "colab": {
     "base_uri": "https://localhost:8080/"
    },
    "id": "T2rsqbvpCtuI",
    "outputId": "9d833c09-e2a0-4417-9bd7-d6e3752e1c2c"
   },
   "outputs": [
    {
     "name": "stdout",
     "output_type": "stream",
     "text": [
      "0    7662\n",
      "1    2179\n",
      "Name: FLAG, dtype: int64\n",
      "The percentage of Non-Fraud activities is 77.86%.\n",
      "The percentage of Fraudulent activities is 22.14%.\n",
      "\n",
      "\n"
     ]
    },
    {
     "data": {
      "image/png": "[encoded data removed]",
      "text/plain": [
       "<Figure size 640x480 with 1 Axes>"
      ]
     },
     "metadata": {},
     "output_type": "display_data"
    }
   ],
   "source": [
    "# Calculating % of non-fraud vs fraud activities\n",
    "flag_count = df['FLAG'].value_counts()\n",
    "print(flag_count)\n",
    "#print('\\n')\n",
    "\n",
    "non_fraud = df['FLAG'].where(df['FLAG'] == 0)\n",
    "no_of_non_fraud = non_fraud.count()\n",
    "fraud = df['FLAG'].where(df['FLAG'] == 1)\n",
    "no_of_fraud = fraud.count()\n",
    "total_flags = df['FLAG'].count()\n",
    "percentage_non_fraud = round((no_of_non_fraud/total_flags)*100, 2)\n",
    "percentage_fraud = round((no_of_fraud/total_flags)*100, 2)\n",
    "\n",
    "print(f'The percentage of Non-Fraud activities is {percentage_non_fraud}%.')\n",
    "print(f'The percentage of Fraudulent activities is {percentage_fraud}%.')\n",
    "print('\\n')\n",
    "\n",
    "# Plotting a stacked bar graph\n",
    "ax = (df.groupby('FLAG')[['FLAG']].count()/df[['FLAG']].count()).T.plot(\n",
    "    kind = 'barh',\n",
    "    stacked = True,\n",
    "    width = 0.3,\n",
    "    title = 'Proportion of Non-Fraud vs Fraud Transactions'\n",
    ")"
   ]
  },
  {
   "cell_type": "markdown",
   "metadata": {
    "id": "sslQN4WFKxQ8"
   },
   "source": [
    "#### 2.2.2 Hypothesis 2: **Each row in our dataset is unique**"
   ]
  },
  {
   "cell_type": "code",
   "execution_count": 10,
   "metadata": {
    "colab": {
     "base_uri": "https://localhost:8080/"
    },
    "id": "FLunPCNh9nD-",
    "outputId": "9b60496e-b8c8-4f49-e895-fda291a702db"
   },
   "outputs": [
    {
     "data": {
      "text/html": [
       "<div>\n",
       "<style scoped>\n",
       "    .dataframe tbody tr th:only-of-type {\n",
       "        vertical-align: middle;\n",
       "    }\n",
       "\n",
       "    .dataframe tbody tr th {\n",
       "        vertical-align: top;\n",
       "    }\n",
       "\n",
       "    .dataframe thead th {\n",
       "        text-align: right;\n",
       "    }\n",
       "</style>\n",
       "<table border=\"1\" class=\"dataframe\">\n",
       "  <thead>\n",
       "    <tr style=\"text-align: right;\">\n",
       "      <th></th>\n",
       "      <th>Index</th>\n",
       "      <th>Address</th>\n",
       "      <th>FLAG</th>\n",
       "      <th>Avg min between sent tnx</th>\n",
       "      <th>Avg min between received tnx</th>\n",
       "      <th>Time Diff between first and last (Mins)</th>\n",
       "      <th>Sent tnx</th>\n",
       "      <th>Received Tnx</th>\n",
       "      <th>Number of Created Contracts</th>\n",
       "      <th>Unique Received From Addresses</th>\n",
       "      <th>...</th>\n",
       "      <th>ERC20 min val sent</th>\n",
       "      <th>ERC20 max val sent</th>\n",
       "      <th>ERC20 avg val sent</th>\n",
       "      <th>ERC20 min val sent contract</th>\n",
       "      <th>ERC20 max val sent contract</th>\n",
       "      <th>ERC20 avg val sent contract</th>\n",
       "      <th>ERC20 uniq sent token name</th>\n",
       "      <th>ERC20 uniq rec token name</th>\n",
       "      <th>ERC20 most sent token type</th>\n",
       "      <th>ERC20_most_rec_token_type</th>\n",
       "    </tr>\n",
       "  </thead>\n",
       "  <tbody>\n",
       "    <tr>\n",
       "      <th>2933</th>\n",
       "      <td>1</td>\n",
       "      <td>0x4c13f6966dc24c92489344f0fd6f0e61f3489b84</td>\n",
       "      <td>0</td>\n",
       "      <td>5980.35</td>\n",
       "      <td>18633.46</td>\n",
       "      <td>498256.47</td>\n",
       "      <td>21</td>\n",
       "      <td>20</td>\n",
       "      <td>0</td>\n",
       "      <td>2</td>\n",
       "      <td>...</td>\n",
       "      <td>0.000000</td>\n",
       "      <td>0.000000e+00</td>\n",
       "      <td>0.000000</td>\n",
       "      <td>0.0</td>\n",
       "      <td>0.0</td>\n",
       "      <td>0.0</td>\n",
       "      <td>0.0</td>\n",
       "      <td>0.0</td>\n",
       "      <td>0</td>\n",
       "      <td>0</td>\n",
       "    </tr>\n",
       "    <tr>\n",
       "      <th>2934</th>\n",
       "      <td>2</td>\n",
       "      <td>0x4c1da8781f6ca312bc11217b3f61e5dfdf428de1</td>\n",
       "      <td>0</td>\n",
       "      <td>7042.64</td>\n",
       "      <td>2694.86</td>\n",
       "      <td>80594.87</td>\n",
       "      <td>8</td>\n",
       "      <td>9</td>\n",
       "      <td>0</td>\n",
       "      <td>8</td>\n",
       "      <td>...</td>\n",
       "      <td>140.102687</td>\n",
       "      <td>1.401027e+02</td>\n",
       "      <td>140.102687</td>\n",
       "      <td>0.0</td>\n",
       "      <td>0.0</td>\n",
       "      <td>0.0</td>\n",
       "      <td>1.0</td>\n",
       "      <td>2.0</td>\n",
       "      <td>Golem</td>\n",
       "      <td>OmiseGO</td>\n",
       "    </tr>\n",
       "    <tr>\n",
       "      <th>2936</th>\n",
       "      <td>4</td>\n",
       "      <td>0x4c268c7b1d51b369153d6f1f28c61b15f0e17746</td>\n",
       "      <td>0</td>\n",
       "      <td>0.00</td>\n",
       "      <td>0.00</td>\n",
       "      <td>0.00</td>\n",
       "      <td>0</td>\n",
       "      <td>1</td>\n",
       "      <td>0</td>\n",
       "      <td>1</td>\n",
       "      <td>...</td>\n",
       "      <td>0.000000</td>\n",
       "      <td>0.000000e+00</td>\n",
       "      <td>0.000000</td>\n",
       "      <td>0.0</td>\n",
       "      <td>0.0</td>\n",
       "      <td>0.0</td>\n",
       "      <td>0.0</td>\n",
       "      <td>5.0</td>\n",
       "      <td>None</td>\n",
       "      <td>Livepeer Token</td>\n",
       "    </tr>\n",
       "    <tr>\n",
       "      <th>2937</th>\n",
       "      <td>5</td>\n",
       "      <td>0x4c26a3c12a64f33a3546fbb206c5365ce8e82c20</td>\n",
       "      <td>0</td>\n",
       "      <td>0.00</td>\n",
       "      <td>0.00</td>\n",
       "      <td>0.00</td>\n",
       "      <td>0</td>\n",
       "      <td>1</td>\n",
       "      <td>0</td>\n",
       "      <td>1</td>\n",
       "      <td>...</td>\n",
       "      <td>0.000000</td>\n",
       "      <td>0.000000e+00</td>\n",
       "      <td>0.000000</td>\n",
       "      <td>0.0</td>\n",
       "      <td>0.0</td>\n",
       "      <td>0.0</td>\n",
       "      <td>0.0</td>\n",
       "      <td>5.0</td>\n",
       "      <td>None</td>\n",
       "      <td>Livepeer Token</td>\n",
       "    </tr>\n",
       "    <tr>\n",
       "      <th>2939</th>\n",
       "      <td>7</td>\n",
       "      <td>0x4c27438a77738153f6cf3ed890b2817d52ebf584</td>\n",
       "      <td>0</td>\n",
       "      <td>9695.78</td>\n",
       "      <td>1133.48</td>\n",
       "      <td>257022.97</td>\n",
       "      <td>14</td>\n",
       "      <td>107</td>\n",
       "      <td>0</td>\n",
       "      <td>6</td>\n",
       "      <td>...</td>\n",
       "      <td>0.000000</td>\n",
       "      <td>0.000000e+00</td>\n",
       "      <td>0.000000</td>\n",
       "      <td>0.0</td>\n",
       "      <td>0.0</td>\n",
       "      <td>0.0</td>\n",
       "      <td>0.0</td>\n",
       "      <td>1.0</td>\n",
       "      <td>None</td>\n",
       "      <td>AICRYPTO</td>\n",
       "    </tr>\n",
       "    <tr>\n",
       "      <th>2940</th>\n",
       "      <td>8</td>\n",
       "      <td>0x4c391cc032c9107b596267610a05262c90fc2df7</td>\n",
       "      <td>0</td>\n",
       "      <td>161.24</td>\n",
       "      <td>0.92</td>\n",
       "      <td>324.32</td>\n",
       "      <td>2</td>\n",
       "      <td>2</td>\n",
       "      <td>0</td>\n",
       "      <td>2</td>\n",
       "      <td>...</td>\n",
       "      <td>0.000000</td>\n",
       "      <td>0.000000e+00</td>\n",
       "      <td>0.000000</td>\n",
       "      <td>0.0</td>\n",
       "      <td>0.0</td>\n",
       "      <td>0.0</td>\n",
       "      <td>0.0</td>\n",
       "      <td>0.0</td>\n",
       "      <td>0</td>\n",
       "      <td>0</td>\n",
       "    </tr>\n",
       "    <tr>\n",
       "      <th>2941</th>\n",
       "      <td>9</td>\n",
       "      <td>0x4c4a03e100b4b104355edc4c50ce12b9a2879547</td>\n",
       "      <td>0</td>\n",
       "      <td>6783.50</td>\n",
       "      <td>48019.41</td>\n",
       "      <td>1028223.27</td>\n",
       "      <td>10</td>\n",
       "      <td>20</td>\n",
       "      <td>0</td>\n",
       "      <td>7</td>\n",
       "      <td>...</td>\n",
       "      <td>0.883954</td>\n",
       "      <td>8.839540e-01</td>\n",
       "      <td>0.883954</td>\n",
       "      <td>0.0</td>\n",
       "      <td>0.0</td>\n",
       "      <td>0.0</td>\n",
       "      <td>1.0</td>\n",
       "      <td>1.0</td>\n",
       "      <td>OmiseGO</td>\n",
       "      <td>OmiseGO</td>\n",
       "    </tr>\n",
       "    <tr>\n",
       "      <th>2942</th>\n",
       "      <td>10</td>\n",
       "      <td>0x4c4da560350e302232a184c8fa16b126a772c326</td>\n",
       "      <td>0</td>\n",
       "      <td>0.00</td>\n",
       "      <td>0.00</td>\n",
       "      <td>5.70</td>\n",
       "      <td>1</td>\n",
       "      <td>1</td>\n",
       "      <td>0</td>\n",
       "      <td>1</td>\n",
       "      <td>...</td>\n",
       "      <td>0.000000</td>\n",
       "      <td>0.000000e+00</td>\n",
       "      <td>0.000000</td>\n",
       "      <td>0.0</td>\n",
       "      <td>0.0</td>\n",
       "      <td>0.0</td>\n",
       "      <td>0.0</td>\n",
       "      <td>0.0</td>\n",
       "      <td>0</td>\n",
       "      <td>0</td>\n",
       "    </tr>\n",
       "    <tr>\n",
       "      <th>2943</th>\n",
       "      <td>11</td>\n",
       "      <td>0x4c5b0709f66719861e7277c9dcda9175deb3d866</td>\n",
       "      <td>0</td>\n",
       "      <td>2.32</td>\n",
       "      <td>0.07</td>\n",
       "      <td>9.42</td>\n",
       "      <td>4</td>\n",
       "      <td>2</td>\n",
       "      <td>0</td>\n",
       "      <td>2</td>\n",
       "      <td>...</td>\n",
       "      <td>0.000000</td>\n",
       "      <td>0.000000e+00</td>\n",
       "      <td>0.000000</td>\n",
       "      <td>0.0</td>\n",
       "      <td>0.0</td>\n",
       "      <td>0.0</td>\n",
       "      <td>0.0</td>\n",
       "      <td>0.0</td>\n",
       "      <td>0</td>\n",
       "      <td>0</td>\n",
       "    </tr>\n",
       "    <tr>\n",
       "      <th>2947</th>\n",
       "      <td>15</td>\n",
       "      <td>0x4c7f6d5b287054bf41f9d49ea8d2ca6e6837850b</td>\n",
       "      <td>0</td>\n",
       "      <td>4.72</td>\n",
       "      <td>0.00</td>\n",
       "      <td>28.30</td>\n",
       "      <td>6</td>\n",
       "      <td>1</td>\n",
       "      <td>0</td>\n",
       "      <td>1</td>\n",
       "      <td>...</td>\n",
       "      <td>15.000000</td>\n",
       "      <td>1.500000e+01</td>\n",
       "      <td>15.000000</td>\n",
       "      <td>0.0</td>\n",
       "      <td>0.0</td>\n",
       "      <td>0.0</td>\n",
       "      <td>1.0</td>\n",
       "      <td>1.0</td>\n",
       "      <td>Veritaseum</td>\n",
       "      <td>Veritaseum</td>\n",
       "    </tr>\n",
       "    <tr>\n",
       "      <th>2948</th>\n",
       "      <td>16</td>\n",
       "      <td>0x4c97ccdaa61ca167e8a3b4d425ae6fbf16bcb39c</td>\n",
       "      <td>0</td>\n",
       "      <td>108.00</td>\n",
       "      <td>1.24</td>\n",
       "      <td>326.48</td>\n",
       "      <td>3</td>\n",
       "      <td>2</td>\n",
       "      <td>0</td>\n",
       "      <td>2</td>\n",
       "      <td>...</td>\n",
       "      <td>0.000000</td>\n",
       "      <td>0.000000e+00</td>\n",
       "      <td>0.000000</td>\n",
       "      <td>0.0</td>\n",
       "      <td>0.0</td>\n",
       "      <td>0.0</td>\n",
       "      <td>0.0</td>\n",
       "      <td>0.0</td>\n",
       "      <td>0</td>\n",
       "      <td>0</td>\n",
       "    </tr>\n",
       "    <tr>\n",
       "      <th>2950</th>\n",
       "      <td>18</td>\n",
       "      <td>0x4cb6f8f060365dd2e4eb949609dd6293bb950ae2</td>\n",
       "      <td>0</td>\n",
       "      <td>22.27</td>\n",
       "      <td>0.00</td>\n",
       "      <td>66.82</td>\n",
       "      <td>3</td>\n",
       "      <td>1</td>\n",
       "      <td>0</td>\n",
       "      <td>1</td>\n",
       "      <td>...</td>\n",
       "      <td>0.000000</td>\n",
       "      <td>0.000000e+00</td>\n",
       "      <td>0.000000</td>\n",
       "      <td>0.0</td>\n",
       "      <td>0.0</td>\n",
       "      <td>0.0</td>\n",
       "      <td>0.0</td>\n",
       "      <td>0.0</td>\n",
       "      <td>0</td>\n",
       "      <td>0</td>\n",
       "    </tr>\n",
       "    <tr>\n",
       "      <th>2952</th>\n",
       "      <td>20</td>\n",
       "      <td>0x4cbfd5b6b8d69c12fab524a01f5283fcc75d5bc9</td>\n",
       "      <td>0</td>\n",
       "      <td>4432.48</td>\n",
       "      <td>4207.66</td>\n",
       "      <td>55823.70</td>\n",
       "      <td>5</td>\n",
       "      <td>8</td>\n",
       "      <td>0</td>\n",
       "      <td>3</td>\n",
       "      <td>...</td>\n",
       "      <td>0.000000</td>\n",
       "      <td>0.000000e+00</td>\n",
       "      <td>0.000000</td>\n",
       "      <td>0.0</td>\n",
       "      <td>0.0</td>\n",
       "      <td>0.0</td>\n",
       "      <td>0.0</td>\n",
       "      <td>0.0</td>\n",
       "      <td>0</td>\n",
       "      <td>0</td>\n",
       "    </tr>\n",
       "    <tr>\n",
       "      <th>2953</th>\n",
       "      <td>21</td>\n",
       "      <td>0x4cc930a91865e30feff38465ace57711e3923881</td>\n",
       "      <td>0</td>\n",
       "      <td>1165.80</td>\n",
       "      <td>3078.05</td>\n",
       "      <td>1012331.27</td>\n",
       "      <td>597</td>\n",
       "      <td>103</td>\n",
       "      <td>0</td>\n",
       "      <td>57</td>\n",
       "      <td>...</td>\n",
       "      <td>0.000000</td>\n",
       "      <td>1.764299e+07</td>\n",
       "      <td>198670.411300</td>\n",
       "      <td>0.0</td>\n",
       "      <td>0.0</td>\n",
       "      <td>0.0</td>\n",
       "      <td>52.0</td>\n",
       "      <td>89.0</td>\n",
       "      <td>Request</td>\n",
       "      <td>OmiseGO</td>\n",
       "    </tr>\n",
       "    <tr>\n",
       "      <th>2954</th>\n",
       "      <td>22</td>\n",
       "      <td>0x4cce03d1fd8aa1d6172cec74d75bd1df9e6a8ac2</td>\n",
       "      <td>0</td>\n",
       "      <td>0.00</td>\n",
       "      <td>0.00</td>\n",
       "      <td>89.10</td>\n",
       "      <td>1</td>\n",
       "      <td>1</td>\n",
       "      <td>0</td>\n",
       "      <td>1</td>\n",
       "      <td>...</td>\n",
       "      <td>0.000000</td>\n",
       "      <td>0.000000e+00</td>\n",
       "      <td>0.000000</td>\n",
       "      <td>0.0</td>\n",
       "      <td>0.0</td>\n",
       "      <td>0.0</td>\n",
       "      <td>0.0</td>\n",
       "      <td>0.0</td>\n",
       "      <td>0</td>\n",
       "      <td>0</td>\n",
       "    </tr>\n",
       "    <tr>\n",
       "      <th>2955</th>\n",
       "      <td>23</td>\n",
       "      <td>0x4cd3bb2110eda1805dc63abc1959a5ee2d386e9f</td>\n",
       "      <td>0</td>\n",
       "      <td>0.00</td>\n",
       "      <td>0.00</td>\n",
       "      <td>3.35</td>\n",
       "      <td>1</td>\n",
       "      <td>1</td>\n",
       "      <td>0</td>\n",
       "      <td>1</td>\n",
       "      <td>...</td>\n",
       "      <td>0.000000</td>\n",
       "      <td>0.000000e+00</td>\n",
       "      <td>0.000000</td>\n",
       "      <td>0.0</td>\n",
       "      <td>0.0</td>\n",
       "      <td>0.0</td>\n",
       "      <td>0.0</td>\n",
       "      <td>0.0</td>\n",
       "      <td>0</td>\n",
       "      <td>0</td>\n",
       "    </tr>\n",
       "    <tr>\n",
       "      <th>2956</th>\n",
       "      <td>24</td>\n",
       "      <td>0x4cd526aa2db72eb1fd557b37c6b0394acd35b212</td>\n",
       "      <td>0</td>\n",
       "      <td>3.38</td>\n",
       "      <td>0.00</td>\n",
       "      <td>20.25</td>\n",
       "      <td>6</td>\n",
       "      <td>1</td>\n",
       "      <td>0</td>\n",
       "      <td>1</td>\n",
       "      <td>...</td>\n",
       "      <td>0.000000</td>\n",
       "      <td>0.000000e+00</td>\n",
       "      <td>0.000000</td>\n",
       "      <td>0.0</td>\n",
       "      <td>0.0</td>\n",
       "      <td>0.0</td>\n",
       "      <td>0.0</td>\n",
       "      <td>0.0</td>\n",
       "      <td>0</td>\n",
       "      <td>0</td>\n",
       "    </tr>\n",
       "    <tr>\n",
       "      <th>2957</th>\n",
       "      <td>25</td>\n",
       "      <td>0x4cdf46740d51a0f6735fe3f1d28fadf00c20cd34</td>\n",
       "      <td>0</td>\n",
       "      <td>3.92</td>\n",
       "      <td>0.00</td>\n",
       "      <td>11.77</td>\n",
       "      <td>3</td>\n",
       "      <td>2</td>\n",
       "      <td>0</td>\n",
       "      <td>2</td>\n",
       "      <td>...</td>\n",
       "      <td>0.000000</td>\n",
       "      <td>0.000000e+00</td>\n",
       "      <td>0.000000</td>\n",
       "      <td>0.0</td>\n",
       "      <td>0.0</td>\n",
       "      <td>0.0</td>\n",
       "      <td>0.0</td>\n",
       "      <td>0.0</td>\n",
       "      <td>0</td>\n",
       "      <td>0</td>\n",
       "    </tr>\n",
       "  </tbody>\n",
       "</table>\n",
       "<p>18 rows × 50 columns</p>\n",
       "</div>"
      ],
      "text/plain": [
       "      Index                                     Address  FLAG  \\\n",
       "2933      1  0x4c13f6966dc24c92489344f0fd6f0e61f3489b84     0   \n",
       "2934      2  0x4c1da8781f6ca312bc11217b3f61e5dfdf428de1     0   \n",
       "2936      4  0x4c268c7b1d51b369153d6f1f28c61b15f0e17746     0   \n",
       "2937      5  0x4c26a3c12a64f33a3546fbb206c5365ce8e82c20     0   \n",
       "2939      7  0x4c27438a77738153f6cf3ed890b2817d52ebf584     0   \n",
       "2940      8  0x4c391cc032c9107b596267610a05262c90fc2df7     0   \n",
       "2941      9  0x4c4a03e100b4b104355edc4c50ce12b9a2879547     0   \n",
       "2942     10  0x4c4da560350e302232a184c8fa16b126a772c326     0   \n",
       "2943     11  0x4c5b0709f66719861e7277c9dcda9175deb3d866     0   \n",
       "2947     15  0x4c7f6d5b287054bf41f9d49ea8d2ca6e6837850b     0   \n",
       "2948     16  0x4c97ccdaa61ca167e8a3b4d425ae6fbf16bcb39c     0   \n",
       "2950     18  0x4cb6f8f060365dd2e4eb949609dd6293bb950ae2     0   \n",
       "2952     20  0x4cbfd5b6b8d69c12fab524a01f5283fcc75d5bc9     0   \n",
       "2953     21  0x4cc930a91865e30feff38465ace57711e3923881     0   \n",
       "2954     22  0x4cce03d1fd8aa1d6172cec74d75bd1df9e6a8ac2     0   \n",
       "2955     23  0x4cd3bb2110eda1805dc63abc1959a5ee2d386e9f     0   \n",
       "2956     24  0x4cd526aa2db72eb1fd557b37c6b0394acd35b212     0   \n",
       "2957     25  0x4cdf46740d51a0f6735fe3f1d28fadf00c20cd34     0   \n",
       "\n",
       "      Avg min between sent tnx  Avg min between received tnx  \\\n",
       "2933                   5980.35                      18633.46   \n",
       "2934                   7042.64                       2694.86   \n",
       "2936                      0.00                          0.00   \n",
       "2937                      0.00                          0.00   \n",
       "2939                   9695.78                       1133.48   \n",
       "2940                    161.24                          0.92   \n",
       "2941                   6783.50                      48019.41   \n",
       "2942                      0.00                          0.00   \n",
       "2943                      2.32                          0.07   \n",
       "2947                      4.72                          0.00   \n",
       "2948                    108.00                          1.24   \n",
       "2950                     22.27                          0.00   \n",
       "2952                   4432.48                       4207.66   \n",
       "2953                   1165.80                       3078.05   \n",
       "2954                      0.00                          0.00   \n",
       "2955                      0.00                          0.00   \n",
       "2956                      3.38                          0.00   \n",
       "2957                      3.92                          0.00   \n",
       "\n",
       "      Time Diff between first and last (Mins)  Sent tnx  Received Tnx  \\\n",
       "2933                                498256.47        21            20   \n",
       "2934                                 80594.87         8             9   \n",
       "2936                                     0.00         0             1   \n",
       "2937                                     0.00         0             1   \n",
       "2939                                257022.97        14           107   \n",
       "2940                                   324.32         2             2   \n",
       "2941                               1028223.27        10            20   \n",
       "2942                                     5.70         1             1   \n",
       "2943                                     9.42         4             2   \n",
       "2947                                    28.30         6             1   \n",
       "2948                                   326.48         3             2   \n",
       "2950                                    66.82         3             1   \n",
       "2952                                 55823.70         5             8   \n",
       "2953                               1012331.27       597           103   \n",
       "2954                                    89.10         1             1   \n",
       "2955                                     3.35         1             1   \n",
       "2956                                    20.25         6             1   \n",
       "2957                                    11.77         3             2   \n",
       "\n",
       "      Number of Created Contracts  Unique Received From Addresses  ...  \\\n",
       "2933                            0                               2  ...   \n",
       "2934                            0                               8  ...   \n",
       "2936                            0                               1  ...   \n",
       "2937                            0                               1  ...   \n",
       "2939                            0                               6  ...   \n",
       "2940                            0                               2  ...   \n",
       "2941                            0                               7  ...   \n",
       "2942                            0                               1  ...   \n",
       "2943                            0                               2  ...   \n",
       "2947                            0                               1  ...   \n",
       "2948                            0                               2  ...   \n",
       "2950                            0                               1  ...   \n",
       "2952                            0                               3  ...   \n",
       "2953                            0                              57  ...   \n",
       "2954                            0                               1  ...   \n",
       "2955                            0                               1  ...   \n",
       "2956                            0                               1  ...   \n",
       "2957                            0                               2  ...   \n",
       "\n",
       "       ERC20 min val sent   ERC20 max val sent   ERC20 avg val sent  \\\n",
       "2933             0.000000         0.000000e+00             0.000000   \n",
       "2934           140.102687         1.401027e+02           140.102687   \n",
       "2936             0.000000         0.000000e+00             0.000000   \n",
       "2937             0.000000         0.000000e+00             0.000000   \n",
       "2939             0.000000         0.000000e+00             0.000000   \n",
       "2940             0.000000         0.000000e+00             0.000000   \n",
       "2941             0.883954         8.839540e-01             0.883954   \n",
       "2942             0.000000         0.000000e+00             0.000000   \n",
       "2943             0.000000         0.000000e+00             0.000000   \n",
       "2947            15.000000         1.500000e+01            15.000000   \n",
       "2948             0.000000         0.000000e+00             0.000000   \n",
       "2950             0.000000         0.000000e+00             0.000000   \n",
       "2952             0.000000         0.000000e+00             0.000000   \n",
       "2953             0.000000         1.764299e+07        198670.411300   \n",
       "2954             0.000000         0.000000e+00             0.000000   \n",
       "2955             0.000000         0.000000e+00             0.000000   \n",
       "2956             0.000000         0.000000e+00             0.000000   \n",
       "2957             0.000000         0.000000e+00             0.000000   \n",
       "\n",
       "       ERC20 min val sent contract   ERC20 max val sent contract  \\\n",
       "2933                           0.0                           0.0   \n",
       "2934                           0.0                           0.0   \n",
       "2936                           0.0                           0.0   \n",
       "2937                           0.0                           0.0   \n",
       "2939                           0.0                           0.0   \n",
       "2940                           0.0                           0.0   \n",
       "2941                           0.0                           0.0   \n",
       "2942                           0.0                           0.0   \n",
       "2943                           0.0                           0.0   \n",
       "2947                           0.0                           0.0   \n",
       "2948                           0.0                           0.0   \n",
       "2950                           0.0                           0.0   \n",
       "2952                           0.0                           0.0   \n",
       "2953                           0.0                           0.0   \n",
       "2954                           0.0                           0.0   \n",
       "2955                           0.0                           0.0   \n",
       "2956                           0.0                           0.0   \n",
       "2957                           0.0                           0.0   \n",
       "\n",
       "       ERC20 avg val sent contract   ERC20 uniq sent token name  \\\n",
       "2933                           0.0                          0.0   \n",
       "2934                           0.0                          1.0   \n",
       "2936                           0.0                          0.0   \n",
       "2937                           0.0                          0.0   \n",
       "2939                           0.0                          0.0   \n",
       "2940                           0.0                          0.0   \n",
       "2941                           0.0                          1.0   \n",
       "2942                           0.0                          0.0   \n",
       "2943                           0.0                          0.0   \n",
       "2947                           0.0                          1.0   \n",
       "2948                           0.0                          0.0   \n",
       "2950                           0.0                          0.0   \n",
       "2952                           0.0                          0.0   \n",
       "2953                           0.0                         52.0   \n",
       "2954                           0.0                          0.0   \n",
       "2955                           0.0                          0.0   \n",
       "2956                           0.0                          0.0   \n",
       "2957                           0.0                          0.0   \n",
       "\n",
       "       ERC20 uniq rec token name   ERC20 most sent token type  \\\n",
       "2933                         0.0                            0   \n",
       "2934                         2.0                        Golem   \n",
       "2936                         5.0                         None   \n",
       "2937                         5.0                         None   \n",
       "2939                         1.0                         None   \n",
       "2940                         0.0                            0   \n",
       "2941                         1.0                      OmiseGO   \n",
       "2942                         0.0                            0   \n",
       "2943                         0.0                            0   \n",
       "2947                         1.0                   Veritaseum   \n",
       "2948                         0.0                            0   \n",
       "2950                         0.0                            0   \n",
       "2952                         0.0                            0   \n",
       "2953                        89.0                      Request   \n",
       "2954                         0.0                            0   \n",
       "2955                         0.0                            0   \n",
       "2956                         0.0                            0   \n",
       "2957                         0.0                            0   \n",
       "\n",
       "       ERC20_most_rec_token_type  \n",
       "2933                           0  \n",
       "2934                     OmiseGO  \n",
       "2936              Livepeer Token  \n",
       "2937              Livepeer Token  \n",
       "2939                    AICRYPTO  \n",
       "2940                           0  \n",
       "2941                     OmiseGO  \n",
       "2942                           0  \n",
       "2943                           0  \n",
       "2947                  Veritaseum  \n",
       "2948                           0  \n",
       "2950                           0  \n",
       "2952                           0  \n",
       "2953                     OmiseGO  \n",
       "2954                           0  \n",
       "2955                           0  \n",
       "2956                           0  \n",
       "2957                           0  \n",
       "\n",
       "[18 rows x 50 columns]"
      ]
     },
     "execution_count": 10,
     "metadata": {},
     "output_type": "execute_result"
    }
   ],
   "source": [
    "# Displaying all the duplicated rows\n",
    "df[df.iloc[: , 1:].duplicated()]"
   ]
  },
  {
   "cell_type": "markdown",
   "metadata": {
    "id": "lBKBXWEpXywq"
   },
   "source": [
    "#### 2.2.3 Hypothesis 3: **Each row represents one transaction**"
   ]
  },
  {
   "cell_type": "code",
   "execution_count": 11,
   "metadata": {
    "colab": {
     "base_uri": "https://localhost:8080/"
    },
    "id": "_8IwzIzhX6KA",
    "outputId": "a645ac99-022d-4535-a6da-de5795f351a5"
   },
   "outputs": [
    {
     "data": {
      "text/html": [
       "<div>\n",
       "<style scoped>\n",
       "    .dataframe tbody tr th:only-of-type {\n",
       "        vertical-align: middle;\n",
       "    }\n",
       "\n",
       "    .dataframe tbody tr th {\n",
       "        vertical-align: top;\n",
       "    }\n",
       "\n",
       "    .dataframe thead th {\n",
       "        text-align: right;\n",
       "    }\n",
       "</style>\n",
       "<table border=\"1\" class=\"dataframe\">\n",
       "  <thead>\n",
       "    <tr style=\"text-align: right;\">\n",
       "      <th></th>\n",
       "      <th>Index</th>\n",
       "      <th>Address</th>\n",
       "      <th>FLAG</th>\n",
       "      <th>Avg min between sent tnx</th>\n",
       "      <th>Avg min between received tnx</th>\n",
       "      <th>Time Diff between first and last (Mins)</th>\n",
       "      <th>Sent tnx</th>\n",
       "      <th>Received Tnx</th>\n",
       "      <th>Number of Created Contracts</th>\n",
       "      <th>Unique Received From Addresses</th>\n",
       "      <th>...</th>\n",
       "      <th>ERC20 min val sent</th>\n",
       "      <th>ERC20 max val sent</th>\n",
       "      <th>ERC20 avg val sent</th>\n",
       "      <th>ERC20 min val sent contract</th>\n",
       "      <th>ERC20 max val sent contract</th>\n",
       "      <th>ERC20 avg val sent contract</th>\n",
       "      <th>ERC20 uniq sent token name</th>\n",
       "      <th>ERC20 uniq rec token name</th>\n",
       "      <th>ERC20 most sent token type</th>\n",
       "      <th>ERC20_most_rec_token_type</th>\n",
       "    </tr>\n",
       "  </thead>\n",
       "  <tbody>\n",
       "    <tr>\n",
       "      <th>0</th>\n",
       "      <td>1</td>\n",
       "      <td>0x00009277775ac7d0d59eaad8fee3d10ac6c805e8</td>\n",
       "      <td>0</td>\n",
       "      <td>844.26</td>\n",
       "      <td>1093.71</td>\n",
       "      <td>704785.63</td>\n",
       "      <td>721</td>\n",
       "      <td>89</td>\n",
       "      <td>0</td>\n",
       "      <td>40</td>\n",
       "      <td>...</td>\n",
       "      <td>0.000000</td>\n",
       "      <td>1.683100e+07</td>\n",
       "      <td>271779.920000</td>\n",
       "      <td>0.0</td>\n",
       "      <td>0.0</td>\n",
       "      <td>0.0</td>\n",
       "      <td>39.0</td>\n",
       "      <td>57.0</td>\n",
       "      <td>Cofoundit</td>\n",
       "      <td>Numeraire</td>\n",
       "    </tr>\n",
       "    <tr>\n",
       "      <th>1</th>\n",
       "      <td>2</td>\n",
       "      <td>0x0002b44ddb1476db43c868bd494422ee4c136fed</td>\n",
       "      <td>0</td>\n",
       "      <td>12709.07</td>\n",
       "      <td>2958.44</td>\n",
       "      <td>1218216.73</td>\n",
       "      <td>94</td>\n",
       "      <td>8</td>\n",
       "      <td>0</td>\n",
       "      <td>5</td>\n",
       "      <td>...</td>\n",
       "      <td>2.260809</td>\n",
       "      <td>2.260809e+00</td>\n",
       "      <td>2.260809</td>\n",
       "      <td>0.0</td>\n",
       "      <td>0.0</td>\n",
       "      <td>0.0</td>\n",
       "      <td>1.0</td>\n",
       "      <td>7.0</td>\n",
       "      <td>Livepeer Token</td>\n",
       "      <td>Livepeer Token</td>\n",
       "    </tr>\n",
       "    <tr>\n",
       "      <th>2</th>\n",
       "      <td>3</td>\n",
       "      <td>0x0002bda54cb772d040f779e88eb453cac0daa244</td>\n",
       "      <td>0</td>\n",
       "      <td>246194.54</td>\n",
       "      <td>2434.02</td>\n",
       "      <td>516729.30</td>\n",
       "      <td>2</td>\n",
       "      <td>10</td>\n",
       "      <td>0</td>\n",
       "      <td>10</td>\n",
       "      <td>...</td>\n",
       "      <td>0.000000</td>\n",
       "      <td>0.000000e+00</td>\n",
       "      <td>0.000000</td>\n",
       "      <td>0.0</td>\n",
       "      <td>0.0</td>\n",
       "      <td>0.0</td>\n",
       "      <td>0.0</td>\n",
       "      <td>8.0</td>\n",
       "      <td>None</td>\n",
       "      <td>XENON</td>\n",
       "    </tr>\n",
       "    <tr>\n",
       "      <th>3</th>\n",
       "      <td>4</td>\n",
       "      <td>0x00038e6ba2fd5c09aedb96697c8d7b8fa6632e5e</td>\n",
       "      <td>0</td>\n",
       "      <td>10219.60</td>\n",
       "      <td>15785.09</td>\n",
       "      <td>397555.90</td>\n",
       "      <td>25</td>\n",
       "      <td>9</td>\n",
       "      <td>0</td>\n",
       "      <td>7</td>\n",
       "      <td>...</td>\n",
       "      <td>100.000000</td>\n",
       "      <td>9.029231e+03</td>\n",
       "      <td>3804.076893</td>\n",
       "      <td>0.0</td>\n",
       "      <td>0.0</td>\n",
       "      <td>0.0</td>\n",
       "      <td>1.0</td>\n",
       "      <td>11.0</td>\n",
       "      <td>Raiden</td>\n",
       "      <td>XENON</td>\n",
       "    </tr>\n",
       "    <tr>\n",
       "      <th>4</th>\n",
       "      <td>5</td>\n",
       "      <td>0x00062d1dd1afb6fb02540ddad9cdebfe568e0d89</td>\n",
       "      <td>0</td>\n",
       "      <td>36.61</td>\n",
       "      <td>10707.77</td>\n",
       "      <td>382472.42</td>\n",
       "      <td>4598</td>\n",
       "      <td>20</td>\n",
       "      <td>1</td>\n",
       "      <td>7</td>\n",
       "      <td>...</td>\n",
       "      <td>0.000000</td>\n",
       "      <td>4.500000e+04</td>\n",
       "      <td>13726.659220</td>\n",
       "      <td>0.0</td>\n",
       "      <td>0.0</td>\n",
       "      <td>0.0</td>\n",
       "      <td>6.0</td>\n",
       "      <td>27.0</td>\n",
       "      <td>StatusNetwork</td>\n",
       "      <td>EOS</td>\n",
       "    </tr>\n",
       "  </tbody>\n",
       "</table>\n",
       "<p>5 rows × 50 columns</p>\n",
       "</div>"
      ],
      "text/plain": [
       "   Index                                     Address  FLAG  \\\n",
       "0      1  0x00009277775ac7d0d59eaad8fee3d10ac6c805e8     0   \n",
       "1      2  0x0002b44ddb1476db43c868bd494422ee4c136fed     0   \n",
       "2      3  0x0002bda54cb772d040f779e88eb453cac0daa244     0   \n",
       "3      4  0x00038e6ba2fd5c09aedb96697c8d7b8fa6632e5e     0   \n",
       "4      5  0x00062d1dd1afb6fb02540ddad9cdebfe568e0d89     0   \n",
       "\n",
       "   Avg min between sent tnx  Avg min between received tnx  \\\n",
       "0                    844.26                       1093.71   \n",
       "1                  12709.07                       2958.44   \n",
       "2                 246194.54                       2434.02   \n",
       "3                  10219.60                      15785.09   \n",
       "4                     36.61                      10707.77   \n",
       "\n",
       "   Time Diff between first and last (Mins)  Sent tnx  Received Tnx  \\\n",
       "0                                704785.63       721            89   \n",
       "1                               1218216.73        94             8   \n",
       "2                                516729.30         2            10   \n",
       "3                                397555.90        25             9   \n",
       "4                                382472.42      4598            20   \n",
       "\n",
       "   Number of Created Contracts  Unique Received From Addresses  ...  \\\n",
       "0                            0                              40  ...   \n",
       "1                            0                               5  ...   \n",
       "2                            0                              10  ...   \n",
       "3                            0                               7  ...   \n",
       "4                            1                               7  ...   \n",
       "\n",
       "    ERC20 min val sent   ERC20 max val sent   ERC20 avg val sent  \\\n",
       "0             0.000000         1.683100e+07        271779.920000   \n",
       "1             2.260809         2.260809e+00             2.260809   \n",
       "2             0.000000         0.000000e+00             0.000000   \n",
       "3           100.000000         9.029231e+03          3804.076893   \n",
       "4             0.000000         4.500000e+04         13726.659220   \n",
       "\n",
       "    ERC20 min val sent contract   ERC20 max val sent contract  \\\n",
       "0                           0.0                           0.0   \n",
       "1                           0.0                           0.0   \n",
       "2                           0.0                           0.0   \n",
       "3                           0.0                           0.0   \n",
       "4                           0.0                           0.0   \n",
       "\n",
       "    ERC20 avg val sent contract   ERC20 uniq sent token name  \\\n",
       "0                           0.0                         39.0   \n",
       "1                           0.0                          1.0   \n",
       "2                           0.0                          0.0   \n",
       "3                           0.0                          1.0   \n",
       "4                           0.0                          6.0   \n",
       "\n",
       "    ERC20 uniq rec token name   ERC20 most sent token type  \\\n",
       "0                        57.0                    Cofoundit   \n",
       "1                         7.0               Livepeer Token   \n",
       "2                         8.0                         None   \n",
       "3                        11.0                       Raiden   \n",
       "4                        27.0                StatusNetwork   \n",
       "\n",
       "    ERC20_most_rec_token_type  \n",
       "0                   Numeraire  \n",
       "1              Livepeer Token  \n",
       "2                       XENON  \n",
       "3                       XENON  \n",
       "4                         EOS  \n",
       "\n",
       "[5 rows x 50 columns]"
      ]
     },
     "execution_count": 11,
     "metadata": {},
     "output_type": "execute_result"
    }
   ],
   "source": [
    "df.head()"
   ]
  },
  {
   "cell_type": "markdown",
   "metadata": {
    "id": "xb-vTfRzXvFS"
   },
   "source": [
    "After taking a closer look at each column, it did not make sense to us that each row is a transaction. Our hypothesis was proven wrong and we now believe that each row represents the **activities of a particular address** (value in `Address` column), instead of representing one transaction."
   ]
  },
  {
   "cell_type": "markdown",
   "metadata": {
    "id": "CnxqnKT6PJWa"
   },
   "source": [
    "#### 2.2.4 Hypothesis 4: **There are missing values in our dataset**"
   ]
  },
  {
   "cell_type": "code",
   "execution_count": 12,
   "metadata": {
    "colab": {
     "base_uri": "https://localhost:8080/"
    },
    "id": "gE5BqAR4zImm",
    "outputId": "22406a4f-632f-4d7e-c7f8-671e71c8fa33"
   },
   "outputs": [
    {
     "data": {
      "image/png": "[encoded data removed]",
      "text/plain": [
       "<Figure size 1200x600 with 1 Axes>"
      ]
     },
     "metadata": {},
     "output_type": "display_data"
    }
   ],
   "source": [
    "# White portions of heatmap suggest the presence of missing values\n",
    "plt.figure(figsize=(12,6))\n",
    "sns.heatmap(df.isnull(), cbar = False)\n",
    "plt.show()"
   ]
  },
  {
   "cell_type": "code",
   "execution_count": 9,
   "metadata": {
    "colab": {
     "base_uri": "https://localhost:8080/"
    },
    "id": "ys_TybZnlfg0",
    "outputId": "11755cd2-c4c0-473d-c1b4-f24a8370d6e9"
   },
   "outputs": [
    {
     "data": {
      "text/plain": [
       "Index                                                     0\n",
       "Address                                                   0\n",
       "FLAG                                                      0\n",
       "Avg min between sent tnx                                  0\n",
       "Avg min between received tnx                              0\n",
       "Time Diff between first and last (Mins)                   0\n",
       "Sent tnx                                                  0\n",
       "Received Tnx                                              0\n",
       "Number of Created Contracts                               0\n",
       "Unique Received From Addresses                            0\n",
       "Unique Sent To Addresses                                  0\n",
       "min value received                                        0\n",
       "max value received                                        0\n",
       "avg val received                                          0\n",
       "min val sent                                              0\n",
       "max val sent                                              0\n",
       "avg val sent                                              0\n",
       "min value sent to contract                                0\n",
       "max val sent to contract                                  0\n",
       "avg value sent to contract                                0\n",
       "total transactions (including tnx to create contract      0\n",
       "total Ether sent                                          0\n",
       "total ether received                                      0\n",
       "total ether sent contracts                                0\n",
       "total ether balance                                       0\n",
       " Total ERC20 tnxs                                       829\n",
       " ERC20 total Ether received                             829\n",
       " ERC20 total ether sent                                 829\n",
       " ERC20 total Ether sent contract                        829\n",
       " ERC20 uniq sent addr                                   829\n",
       " ERC20 uniq rec addr                                    829\n",
       " ERC20 uniq sent addr.1                                 829\n",
       " ERC20 uniq rec contract addr                           829\n",
       " ERC20 avg time between sent tnx                        829\n",
       " ERC20 avg time between rec tnx                         829\n",
       " ERC20 avg time between rec 2 tnx                       829\n",
       " ERC20 avg time between contract tnx                    829\n",
       " ERC20 min val rec                                      829\n",
       " ERC20 max val rec                                      829\n",
       " ERC20 avg val rec                                      829\n",
       " ERC20 min val sent                                     829\n",
       " ERC20 max val sent                                     829\n",
       " ERC20 avg val sent                                     829\n",
       " ERC20 min val sent contract                            829\n",
       " ERC20 max val sent contract                            829\n",
       " ERC20 avg val sent contract                            829\n",
       " ERC20 uniq sent token name                             829\n",
       " ERC20 uniq rec token name                              829\n",
       " ERC20 most sent token type                             841\n",
       " ERC20_most_rec_token_type                              851\n",
       "dtype: int64"
      ]
     },
     "execution_count": 9,
     "metadata": {},
     "output_type": "execute_result"
    }
   ],
   "source": [
    "# Number of null values in each column\n",
    "df.isnull().sum()"
   ]
  },
  {
   "cell_type": "code",
   "execution_count": 14,
   "metadata": {
    "colab": {
     "base_uri": "https://localhost:8080/"
    },
    "id": "T7V_9-dvmOSi",
    "outputId": "dda4eb3f-66df-487e-ac41-b18696714b04"
   },
   "outputs": [
    {
     "data": {
      "text/html": [
       "<div>\n",
       "<style scoped>\n",
       "    .dataframe tbody tr th:only-of-type {\n",
       "        vertical-align: middle;\n",
       "    }\n",
       "\n",
       "    .dataframe tbody tr th {\n",
       "        vertical-align: top;\n",
       "    }\n",
       "\n",
       "    .dataframe thead th {\n",
       "        text-align: right;\n",
       "    }\n",
       "</style>\n",
       "<table border=\"1\" class=\"dataframe\">\n",
       "  <thead>\n",
       "    <tr style=\"text-align: right;\">\n",
       "      <th></th>\n",
       "      <th>Total ERC20 tnxs</th>\n",
       "      <th>ERC20 total Ether received</th>\n",
       "      <th>ERC20 total ether sent</th>\n",
       "      <th>ERC20 total Ether sent contract</th>\n",
       "      <th>ERC20 uniq sent addr</th>\n",
       "      <th>ERC20 uniq rec addr</th>\n",
       "      <th>ERC20 uniq sent addr.1</th>\n",
       "      <th>ERC20 uniq rec contract addr</th>\n",
       "      <th>ERC20 avg time between sent tnx</th>\n",
       "      <th>ERC20 avg time between rec tnx</th>\n",
       "      <th>...</th>\n",
       "      <th>ERC20 max val rec</th>\n",
       "      <th>ERC20 avg val rec</th>\n",
       "      <th>ERC20 min val sent</th>\n",
       "      <th>ERC20 max val sent</th>\n",
       "      <th>ERC20 avg val sent</th>\n",
       "      <th>ERC20 min val sent contract</th>\n",
       "      <th>ERC20 max val sent contract</th>\n",
       "      <th>ERC20 avg val sent contract</th>\n",
       "      <th>ERC20 uniq sent token name</th>\n",
       "      <th>ERC20 uniq rec token name</th>\n",
       "    </tr>\n",
       "  </thead>\n",
       "  <tbody>\n",
       "    <tr>\n",
       "      <th>7662</th>\n",
       "      <td>NaN</td>\n",
       "      <td>NaN</td>\n",
       "      <td>NaN</td>\n",
       "      <td>NaN</td>\n",
       "      <td>NaN</td>\n",
       "      <td>NaN</td>\n",
       "      <td>NaN</td>\n",
       "      <td>NaN</td>\n",
       "      <td>NaN</td>\n",
       "      <td>NaN</td>\n",
       "      <td>...</td>\n",
       "      <td>NaN</td>\n",
       "      <td>NaN</td>\n",
       "      <td>NaN</td>\n",
       "      <td>NaN</td>\n",
       "      <td>NaN</td>\n",
       "      <td>NaN</td>\n",
       "      <td>NaN</td>\n",
       "      <td>NaN</td>\n",
       "      <td>NaN</td>\n",
       "      <td>NaN</td>\n",
       "    </tr>\n",
       "    <tr>\n",
       "      <th>7666</th>\n",
       "      <td>NaN</td>\n",
       "      <td>NaN</td>\n",
       "      <td>NaN</td>\n",
       "      <td>NaN</td>\n",
       "      <td>NaN</td>\n",
       "      <td>NaN</td>\n",
       "      <td>NaN</td>\n",
       "      <td>NaN</td>\n",
       "      <td>NaN</td>\n",
       "      <td>NaN</td>\n",
       "      <td>...</td>\n",
       "      <td>NaN</td>\n",
       "      <td>NaN</td>\n",
       "      <td>NaN</td>\n",
       "      <td>NaN</td>\n",
       "      <td>NaN</td>\n",
       "      <td>NaN</td>\n",
       "      <td>NaN</td>\n",
       "      <td>NaN</td>\n",
       "      <td>NaN</td>\n",
       "      <td>NaN</td>\n",
       "    </tr>\n",
       "    <tr>\n",
       "      <th>7675</th>\n",
       "      <td>NaN</td>\n",
       "      <td>NaN</td>\n",
       "      <td>NaN</td>\n",
       "      <td>NaN</td>\n",
       "      <td>NaN</td>\n",
       "      <td>NaN</td>\n",
       "      <td>NaN</td>\n",
       "      <td>NaN</td>\n",
       "      <td>NaN</td>\n",
       "      <td>NaN</td>\n",
       "      <td>...</td>\n",
       "      <td>NaN</td>\n",
       "      <td>NaN</td>\n",
       "      <td>NaN</td>\n",
       "      <td>NaN</td>\n",
       "      <td>NaN</td>\n",
       "      <td>NaN</td>\n",
       "      <td>NaN</td>\n",
       "      <td>NaN</td>\n",
       "      <td>NaN</td>\n",
       "      <td>NaN</td>\n",
       "    </tr>\n",
       "    <tr>\n",
       "      <th>7676</th>\n",
       "      <td>NaN</td>\n",
       "      <td>NaN</td>\n",
       "      <td>NaN</td>\n",
       "      <td>NaN</td>\n",
       "      <td>NaN</td>\n",
       "      <td>NaN</td>\n",
       "      <td>NaN</td>\n",
       "      <td>NaN</td>\n",
       "      <td>NaN</td>\n",
       "      <td>NaN</td>\n",
       "      <td>...</td>\n",
       "      <td>NaN</td>\n",
       "      <td>NaN</td>\n",
       "      <td>NaN</td>\n",
       "      <td>NaN</td>\n",
       "      <td>NaN</td>\n",
       "      <td>NaN</td>\n",
       "      <td>NaN</td>\n",
       "      <td>NaN</td>\n",
       "      <td>NaN</td>\n",
       "      <td>NaN</td>\n",
       "    </tr>\n",
       "    <tr>\n",
       "      <th>7678</th>\n",
       "      <td>NaN</td>\n",
       "      <td>NaN</td>\n",
       "      <td>NaN</td>\n",
       "      <td>NaN</td>\n",
       "      <td>NaN</td>\n",
       "      <td>NaN</td>\n",
       "      <td>NaN</td>\n",
       "      <td>NaN</td>\n",
       "      <td>NaN</td>\n",
       "      <td>NaN</td>\n",
       "      <td>...</td>\n",
       "      <td>NaN</td>\n",
       "      <td>NaN</td>\n",
       "      <td>NaN</td>\n",
       "      <td>NaN</td>\n",
       "      <td>NaN</td>\n",
       "      <td>NaN</td>\n",
       "      <td>NaN</td>\n",
       "      <td>NaN</td>\n",
       "      <td>NaN</td>\n",
       "      <td>NaN</td>\n",
       "    </tr>\n",
       "    <tr>\n",
       "      <th>...</th>\n",
       "      <td>...</td>\n",
       "      <td>...</td>\n",
       "      <td>...</td>\n",
       "      <td>...</td>\n",
       "      <td>...</td>\n",
       "      <td>...</td>\n",
       "      <td>...</td>\n",
       "      <td>...</td>\n",
       "      <td>...</td>\n",
       "      <td>...</td>\n",
       "      <td>...</td>\n",
       "      <td>...</td>\n",
       "      <td>...</td>\n",
       "      <td>...</td>\n",
       "      <td>...</td>\n",
       "      <td>...</td>\n",
       "      <td>...</td>\n",
       "      <td>...</td>\n",
       "      <td>...</td>\n",
       "      <td>...</td>\n",
       "      <td>...</td>\n",
       "    </tr>\n",
       "    <tr>\n",
       "      <th>9831</th>\n",
       "      <td>NaN</td>\n",
       "      <td>NaN</td>\n",
       "      <td>NaN</td>\n",
       "      <td>NaN</td>\n",
       "      <td>NaN</td>\n",
       "      <td>NaN</td>\n",
       "      <td>NaN</td>\n",
       "      <td>NaN</td>\n",
       "      <td>NaN</td>\n",
       "      <td>NaN</td>\n",
       "      <td>...</td>\n",
       "      <td>NaN</td>\n",
       "      <td>NaN</td>\n",
       "      <td>NaN</td>\n",
       "      <td>NaN</td>\n",
       "      <td>NaN</td>\n",
       "      <td>NaN</td>\n",
       "      <td>NaN</td>\n",
       "      <td>NaN</td>\n",
       "      <td>NaN</td>\n",
       "      <td>NaN</td>\n",
       "    </tr>\n",
       "    <tr>\n",
       "      <th>9833</th>\n",
       "      <td>NaN</td>\n",
       "      <td>NaN</td>\n",
       "      <td>NaN</td>\n",
       "      <td>NaN</td>\n",
       "      <td>NaN</td>\n",
       "      <td>NaN</td>\n",
       "      <td>NaN</td>\n",
       "      <td>NaN</td>\n",
       "      <td>NaN</td>\n",
       "      <td>NaN</td>\n",
       "      <td>...</td>\n",
       "      <td>NaN</td>\n",
       "      <td>NaN</td>\n",
       "      <td>NaN</td>\n",
       "      <td>NaN</td>\n",
       "      <td>NaN</td>\n",
       "      <td>NaN</td>\n",
       "      <td>NaN</td>\n",
       "      <td>NaN</td>\n",
       "      <td>NaN</td>\n",
       "      <td>NaN</td>\n",
       "    </tr>\n",
       "    <tr>\n",
       "      <th>9834</th>\n",
       "      <td>NaN</td>\n",
       "      <td>NaN</td>\n",
       "      <td>NaN</td>\n",
       "      <td>NaN</td>\n",
       "      <td>NaN</td>\n",
       "      <td>NaN</td>\n",
       "      <td>NaN</td>\n",
       "      <td>NaN</td>\n",
       "      <td>NaN</td>\n",
       "      <td>NaN</td>\n",
       "      <td>...</td>\n",
       "      <td>NaN</td>\n",
       "      <td>NaN</td>\n",
       "      <td>NaN</td>\n",
       "      <td>NaN</td>\n",
       "      <td>NaN</td>\n",
       "      <td>NaN</td>\n",
       "      <td>NaN</td>\n",
       "      <td>NaN</td>\n",
       "      <td>NaN</td>\n",
       "      <td>NaN</td>\n",
       "    </tr>\n",
       "    <tr>\n",
       "      <th>9835</th>\n",
       "      <td>NaN</td>\n",
       "      <td>NaN</td>\n",
       "      <td>NaN</td>\n",
       "      <td>NaN</td>\n",
       "      <td>NaN</td>\n",
       "      <td>NaN</td>\n",
       "      <td>NaN</td>\n",
       "      <td>NaN</td>\n",
       "      <td>NaN</td>\n",
       "      <td>NaN</td>\n",
       "      <td>...</td>\n",
       "      <td>NaN</td>\n",
       "      <td>NaN</td>\n",
       "      <td>NaN</td>\n",
       "      <td>NaN</td>\n",
       "      <td>NaN</td>\n",
       "      <td>NaN</td>\n",
       "      <td>NaN</td>\n",
       "      <td>NaN</td>\n",
       "      <td>NaN</td>\n",
       "      <td>NaN</td>\n",
       "    </tr>\n",
       "    <tr>\n",
       "      <th>9839</th>\n",
       "      <td>NaN</td>\n",
       "      <td>NaN</td>\n",
       "      <td>NaN</td>\n",
       "      <td>NaN</td>\n",
       "      <td>NaN</td>\n",
       "      <td>NaN</td>\n",
       "      <td>NaN</td>\n",
       "      <td>NaN</td>\n",
       "      <td>NaN</td>\n",
       "      <td>NaN</td>\n",
       "      <td>...</td>\n",
       "      <td>NaN</td>\n",
       "      <td>NaN</td>\n",
       "      <td>NaN</td>\n",
       "      <td>NaN</td>\n",
       "      <td>NaN</td>\n",
       "      <td>NaN</td>\n",
       "      <td>NaN</td>\n",
       "      <td>NaN</td>\n",
       "      <td>NaN</td>\n",
       "      <td>NaN</td>\n",
       "    </tr>\n",
       "  </tbody>\n",
       "</table>\n",
       "<p>829 rows × 23 columns</p>\n",
       "</div>"
      ],
      "text/plain": [
       "       Total ERC20 tnxs   ERC20 total Ether received   ERC20 total ether sent  \\\n",
       "7662                NaN                          NaN                      NaN   \n",
       "7666                NaN                          NaN                      NaN   \n",
       "7675                NaN                          NaN                      NaN   \n",
       "7676                NaN                          NaN                      NaN   \n",
       "7678                NaN                          NaN                      NaN   \n",
       "...                 ...                          ...                      ...   \n",
       "9831                NaN                          NaN                      NaN   \n",
       "9833                NaN                          NaN                      NaN   \n",
       "9834                NaN                          NaN                      NaN   \n",
       "9835                NaN                          NaN                      NaN   \n",
       "9839                NaN                          NaN                      NaN   \n",
       "\n",
       "       ERC20 total Ether sent contract   ERC20 uniq sent addr  \\\n",
       "7662                               NaN                    NaN   \n",
       "7666                               NaN                    NaN   \n",
       "7675                               NaN                    NaN   \n",
       "7676                               NaN                    NaN   \n",
       "7678                               NaN                    NaN   \n",
       "...                                ...                    ...   \n",
       "9831                               NaN                    NaN   \n",
       "9833                               NaN                    NaN   \n",
       "9834                               NaN                    NaN   \n",
       "9835                               NaN                    NaN   \n",
       "9839                               NaN                    NaN   \n",
       "\n",
       "       ERC20 uniq rec addr   ERC20 uniq sent addr.1  \\\n",
       "7662                   NaN                      NaN   \n",
       "7666                   NaN                      NaN   \n",
       "7675                   NaN                      NaN   \n",
       "7676                   NaN                      NaN   \n",
       "7678                   NaN                      NaN   \n",
       "...                    ...                      ...   \n",
       "9831                   NaN                      NaN   \n",
       "9833                   NaN                      NaN   \n",
       "9834                   NaN                      NaN   \n",
       "9835                   NaN                      NaN   \n",
       "9839                   NaN                      NaN   \n",
       "\n",
       "       ERC20 uniq rec contract addr   ERC20 avg time between sent tnx  \\\n",
       "7662                            NaN                               NaN   \n",
       "7666                            NaN                               NaN   \n",
       "7675                            NaN                               NaN   \n",
       "7676                            NaN                               NaN   \n",
       "7678                            NaN                               NaN   \n",
       "...                             ...                               ...   \n",
       "9831                            NaN                               NaN   \n",
       "9833                            NaN                               NaN   \n",
       "9834                            NaN                               NaN   \n",
       "9835                            NaN                               NaN   \n",
       "9839                            NaN                               NaN   \n",
       "\n",
       "       ERC20 avg time between rec tnx  ...   ERC20 max val rec  \\\n",
       "7662                              NaN  ...                 NaN   \n",
       "7666                              NaN  ...                 NaN   \n",
       "7675                              NaN  ...                 NaN   \n",
       "7676                              NaN  ...                 NaN   \n",
       "7678                              NaN  ...                 NaN   \n",
       "...                               ...  ...                 ...   \n",
       "9831                              NaN  ...                 NaN   \n",
       "9833                              NaN  ...                 NaN   \n",
       "9834                              NaN  ...                 NaN   \n",
       "9835                              NaN  ...                 NaN   \n",
       "9839                              NaN  ...                 NaN   \n",
       "\n",
       "       ERC20 avg val rec   ERC20 min val sent   ERC20 max val sent  \\\n",
       "7662                 NaN                  NaN                  NaN   \n",
       "7666                 NaN                  NaN                  NaN   \n",
       "7675                 NaN                  NaN                  NaN   \n",
       "7676                 NaN                  NaN                  NaN   \n",
       "7678                 NaN                  NaN                  NaN   \n",
       "...                  ...                  ...                  ...   \n",
       "9831                 NaN                  NaN                  NaN   \n",
       "9833                 NaN                  NaN                  NaN   \n",
       "9834                 NaN                  NaN                  NaN   \n",
       "9835                 NaN                  NaN                  NaN   \n",
       "9839                 NaN                  NaN                  NaN   \n",
       "\n",
       "       ERC20 avg val sent   ERC20 min val sent contract  \\\n",
       "7662                  NaN                           NaN   \n",
       "7666                  NaN                           NaN   \n",
       "7675                  NaN                           NaN   \n",
       "7676                  NaN                           NaN   \n",
       "7678                  NaN                           NaN   \n",
       "...                   ...                           ...   \n",
       "9831                  NaN                           NaN   \n",
       "9833                  NaN                           NaN   \n",
       "9834                  NaN                           NaN   \n",
       "9835                  NaN                           NaN   \n",
       "9839                  NaN                           NaN   \n",
       "\n",
       "       ERC20 max val sent contract   ERC20 avg val sent contract  \\\n",
       "7662                           NaN                           NaN   \n",
       "7666                           NaN                           NaN   \n",
       "7675                           NaN                           NaN   \n",
       "7676                           NaN                           NaN   \n",
       "7678                           NaN                           NaN   \n",
       "...                            ...                           ...   \n",
       "9831                           NaN                           NaN   \n",
       "9833                           NaN                           NaN   \n",
       "9834                           NaN                           NaN   \n",
       "9835                           NaN                           NaN   \n",
       "9839                           NaN                           NaN   \n",
       "\n",
       "       ERC20 uniq sent token name   ERC20 uniq rec token name  \n",
       "7662                          NaN                         NaN  \n",
       "7666                          NaN                         NaN  \n",
       "7675                          NaN                         NaN  \n",
       "7676                          NaN                         NaN  \n",
       "7678                          NaN                         NaN  \n",
       "...                           ...                         ...  \n",
       "9831                          NaN                         NaN  \n",
       "9833                          NaN                         NaN  \n",
       "9834                          NaN                         NaN  \n",
       "9835                          NaN                         NaN  \n",
       "9839                          NaN                         NaN  \n",
       "\n",
       "[829 rows x 23 columns]"
      ]
     },
     "execution_count": 14,
     "metadata": {},
     "output_type": "execute_result"
    }
   ],
   "source": [
    "# Extract the columns with missing values\n",
    "# PART 1: Only extracting the columns with the same number of missing values \n",
    "\n",
    "missing_values_columns = df.iloc[:,25:48]\n",
    "na_columns = missing_values_columns[missing_values_columns[' Total ERC20 tnxs'].isna()]\n",
    "na_columns"
   ]
  },
  {
   "cell_type": "code",
   "execution_count": 15,
   "metadata": {
    "colab": {
     "base_uri": "https://localhost:8080/"
    },
    "id": "rQJ14AxSm2IE",
    "outputId": "3bae5a38-420b-4700-f43d-9d9a0b0a889a"
   },
   "outputs": [
    {
     "data": {
      "text/plain": [
       " Total ERC20 tnxs                       0\n",
       " ERC20 total Ether received             0\n",
       " ERC20 total ether sent                 0\n",
       " ERC20 total Ether sent contract        0\n",
       " ERC20 uniq sent addr                   0\n",
       " ERC20 uniq rec addr                    0\n",
       " ERC20 uniq sent addr.1                 0\n",
       " ERC20 uniq rec contract addr           0\n",
       " ERC20 avg time between sent tnx        0\n",
       " ERC20 avg time between rec tnx         0\n",
       " ERC20 avg time between rec 2 tnx       0\n",
       " ERC20 avg time between contract tnx    0\n",
       " ERC20 min val rec                      0\n",
       " ERC20 max val rec                      0\n",
       " ERC20 avg val rec                      0\n",
       " ERC20 min val sent                     0\n",
       " ERC20 max val sent                     0\n",
       " ERC20 avg val sent                     0\n",
       " ERC20 min val sent contract            0\n",
       " ERC20 max val sent contract            0\n",
       " ERC20 avg val sent contract            0\n",
       " ERC20 uniq sent token name             0\n",
       " ERC20 uniq rec token name              0\n",
       "dtype: int64"
      ]
     },
     "execution_count": 15,
     "metadata": {},
     "output_type": "execute_result"
    }
   ],
   "source": [
    "na_columns.count()"
   ]
  },
  {
   "cell_type": "markdown",
   "metadata": {
    "id": "3DW4gDZTm3rC"
   },
   "source": [
    "The above shows that the rows that have missing values for each of these columns are the same rows across all columns."
   ]
  },
  {
   "cell_type": "code",
   "execution_count": 17,
   "metadata": {
    "colab": {
     "base_uri": "https://localhost:8080/"
    },
    "id": "cUcthA1gm631",
    "outputId": "7c1a70bf-0003-435b-89a7-dddece182693"
   },
   "outputs": [
    {
     "data": {
      "text/html": [
       "<div>\n",
       "<style scoped>\n",
       "    .dataframe tbody tr th:only-of-type {\n",
       "        vertical-align: middle;\n",
       "    }\n",
       "\n",
       "    .dataframe tbody tr th {\n",
       "        vertical-align: top;\n",
       "    }\n",
       "\n",
       "    .dataframe thead th {\n",
       "        text-align: right;\n",
       "    }\n",
       "</style>\n",
       "<table border=\"1\" class=\"dataframe\">\n",
       "  <thead>\n",
       "    <tr style=\"text-align: right;\">\n",
       "      <th></th>\n",
       "      <th>FLAG</th>\n",
       "      <th>Total ERC20 tnxs</th>\n",
       "      <th>ERC20 total Ether received</th>\n",
       "      <th>ERC20 total ether sent</th>\n",
       "      <th>ERC20 total Ether sent contract</th>\n",
       "      <th>ERC20 uniq sent addr</th>\n",
       "      <th>ERC20 uniq rec addr</th>\n",
       "      <th>ERC20 uniq sent addr.1</th>\n",
       "      <th>ERC20 uniq rec contract addr</th>\n",
       "      <th>ERC20 avg time between sent tnx</th>\n",
       "      <th>...</th>\n",
       "      <th>ERC20 max val rec</th>\n",
       "      <th>ERC20 avg val rec</th>\n",
       "      <th>ERC20 min val sent</th>\n",
       "      <th>ERC20 max val sent</th>\n",
       "      <th>ERC20 avg val sent</th>\n",
       "      <th>ERC20 min val sent contract</th>\n",
       "      <th>ERC20 max val sent contract</th>\n",
       "      <th>ERC20 avg val sent contract</th>\n",
       "      <th>ERC20 uniq sent token name</th>\n",
       "      <th>ERC20 uniq rec token name</th>\n",
       "    </tr>\n",
       "  </thead>\n",
       "  <tbody>\n",
       "    <tr>\n",
       "      <th>7662</th>\n",
       "      <td>1</td>\n",
       "      <td>NaN</td>\n",
       "      <td>NaN</td>\n",
       "      <td>NaN</td>\n",
       "      <td>NaN</td>\n",
       "      <td>NaN</td>\n",
       "      <td>NaN</td>\n",
       "      <td>NaN</td>\n",
       "      <td>NaN</td>\n",
       "      <td>NaN</td>\n",
       "      <td>...</td>\n",
       "      <td>NaN</td>\n",
       "      <td>NaN</td>\n",
       "      <td>NaN</td>\n",
       "      <td>NaN</td>\n",
       "      <td>NaN</td>\n",
       "      <td>NaN</td>\n",
       "      <td>NaN</td>\n",
       "      <td>NaN</td>\n",
       "      <td>NaN</td>\n",
       "      <td>NaN</td>\n",
       "    </tr>\n",
       "    <tr>\n",
       "      <th>7666</th>\n",
       "      <td>1</td>\n",
       "      <td>NaN</td>\n",
       "      <td>NaN</td>\n",
       "      <td>NaN</td>\n",
       "      <td>NaN</td>\n",
       "      <td>NaN</td>\n",
       "      <td>NaN</td>\n",
       "      <td>NaN</td>\n",
       "      <td>NaN</td>\n",
       "      <td>NaN</td>\n",
       "      <td>...</td>\n",
       "      <td>NaN</td>\n",
       "      <td>NaN</td>\n",
       "      <td>NaN</td>\n",
       "      <td>NaN</td>\n",
       "      <td>NaN</td>\n",
       "      <td>NaN</td>\n",
       "      <td>NaN</td>\n",
       "      <td>NaN</td>\n",
       "      <td>NaN</td>\n",
       "      <td>NaN</td>\n",
       "    </tr>\n",
       "    <tr>\n",
       "      <th>7675</th>\n",
       "      <td>1</td>\n",
       "      <td>NaN</td>\n",
       "      <td>NaN</td>\n",
       "      <td>NaN</td>\n",
       "      <td>NaN</td>\n",
       "      <td>NaN</td>\n",
       "      <td>NaN</td>\n",
       "      <td>NaN</td>\n",
       "      <td>NaN</td>\n",
       "      <td>NaN</td>\n",
       "      <td>...</td>\n",
       "      <td>NaN</td>\n",
       "      <td>NaN</td>\n",
       "      <td>NaN</td>\n",
       "      <td>NaN</td>\n",
       "      <td>NaN</td>\n",
       "      <td>NaN</td>\n",
       "      <td>NaN</td>\n",
       "      <td>NaN</td>\n",
       "      <td>NaN</td>\n",
       "      <td>NaN</td>\n",
       "    </tr>\n",
       "    <tr>\n",
       "      <th>7676</th>\n",
       "      <td>1</td>\n",
       "      <td>NaN</td>\n",
       "      <td>NaN</td>\n",
       "      <td>NaN</td>\n",
       "      <td>NaN</td>\n",
       "      <td>NaN</td>\n",
       "      <td>NaN</td>\n",
       "      <td>NaN</td>\n",
       "      <td>NaN</td>\n",
       "      <td>NaN</td>\n",
       "      <td>...</td>\n",
       "      <td>NaN</td>\n",
       "      <td>NaN</td>\n",
       "      <td>NaN</td>\n",
       "      <td>NaN</td>\n",
       "      <td>NaN</td>\n",
       "      <td>NaN</td>\n",
       "      <td>NaN</td>\n",
       "      <td>NaN</td>\n",
       "      <td>NaN</td>\n",
       "      <td>NaN</td>\n",
       "    </tr>\n",
       "    <tr>\n",
       "      <th>7678</th>\n",
       "      <td>1</td>\n",
       "      <td>NaN</td>\n",
       "      <td>NaN</td>\n",
       "      <td>NaN</td>\n",
       "      <td>NaN</td>\n",
       "      <td>NaN</td>\n",
       "      <td>NaN</td>\n",
       "      <td>NaN</td>\n",
       "      <td>NaN</td>\n",
       "      <td>NaN</td>\n",
       "      <td>...</td>\n",
       "      <td>NaN</td>\n",
       "      <td>NaN</td>\n",
       "      <td>NaN</td>\n",
       "      <td>NaN</td>\n",
       "      <td>NaN</td>\n",
       "      <td>NaN</td>\n",
       "      <td>NaN</td>\n",
       "      <td>NaN</td>\n",
       "      <td>NaN</td>\n",
       "      <td>NaN</td>\n",
       "    </tr>\n",
       "    <tr>\n",
       "      <th>...</th>\n",
       "      <td>...</td>\n",
       "      <td>...</td>\n",
       "      <td>...</td>\n",
       "      <td>...</td>\n",
       "      <td>...</td>\n",
       "      <td>...</td>\n",
       "      <td>...</td>\n",
       "      <td>...</td>\n",
       "      <td>...</td>\n",
       "      <td>...</td>\n",
       "      <td>...</td>\n",
       "      <td>...</td>\n",
       "      <td>...</td>\n",
       "      <td>...</td>\n",
       "      <td>...</td>\n",
       "      <td>...</td>\n",
       "      <td>...</td>\n",
       "      <td>...</td>\n",
       "      <td>...</td>\n",
       "      <td>...</td>\n",
       "      <td>...</td>\n",
       "    </tr>\n",
       "    <tr>\n",
       "      <th>9831</th>\n",
       "      <td>1</td>\n",
       "      <td>NaN</td>\n",
       "      <td>NaN</td>\n",
       "      <td>NaN</td>\n",
       "      <td>NaN</td>\n",
       "      <td>NaN</td>\n",
       "      <td>NaN</td>\n",
       "      <td>NaN</td>\n",
       "      <td>NaN</td>\n",
       "      <td>NaN</td>\n",
       "      <td>...</td>\n",
       "      <td>NaN</td>\n",
       "      <td>NaN</td>\n",
       "      <td>NaN</td>\n",
       "      <td>NaN</td>\n",
       "      <td>NaN</td>\n",
       "      <td>NaN</td>\n",
       "      <td>NaN</td>\n",
       "      <td>NaN</td>\n",
       "      <td>NaN</td>\n",
       "      <td>NaN</td>\n",
       "    </tr>\n",
       "    <tr>\n",
       "      <th>9833</th>\n",
       "      <td>1</td>\n",
       "      <td>NaN</td>\n",
       "      <td>NaN</td>\n",
       "      <td>NaN</td>\n",
       "      <td>NaN</td>\n",
       "      <td>NaN</td>\n",
       "      <td>NaN</td>\n",
       "      <td>NaN</td>\n",
       "      <td>NaN</td>\n",
       "      <td>NaN</td>\n",
       "      <td>...</td>\n",
       "      <td>NaN</td>\n",
       "      <td>NaN</td>\n",
       "      <td>NaN</td>\n",
       "      <td>NaN</td>\n",
       "      <td>NaN</td>\n",
       "      <td>NaN</td>\n",
       "      <td>NaN</td>\n",
       "      <td>NaN</td>\n",
       "      <td>NaN</td>\n",
       "      <td>NaN</td>\n",
       "    </tr>\n",
       "    <tr>\n",
       "      <th>9834</th>\n",
       "      <td>1</td>\n",
       "      <td>NaN</td>\n",
       "      <td>NaN</td>\n",
       "      <td>NaN</td>\n",
       "      <td>NaN</td>\n",
       "      <td>NaN</td>\n",
       "      <td>NaN</td>\n",
       "      <td>NaN</td>\n",
       "      <td>NaN</td>\n",
       "      <td>NaN</td>\n",
       "      <td>...</td>\n",
       "      <td>NaN</td>\n",
       "      <td>NaN</td>\n",
       "      <td>NaN</td>\n",
       "      <td>NaN</td>\n",
       "      <td>NaN</td>\n",
       "      <td>NaN</td>\n",
       "      <td>NaN</td>\n",
       "      <td>NaN</td>\n",
       "      <td>NaN</td>\n",
       "      <td>NaN</td>\n",
       "    </tr>\n",
       "    <tr>\n",
       "      <th>9835</th>\n",
       "      <td>1</td>\n",
       "      <td>NaN</td>\n",
       "      <td>NaN</td>\n",
       "      <td>NaN</td>\n",
       "      <td>NaN</td>\n",
       "      <td>NaN</td>\n",
       "      <td>NaN</td>\n",
       "      <td>NaN</td>\n",
       "      <td>NaN</td>\n",
       "      <td>NaN</td>\n",
       "      <td>...</td>\n",
       "      <td>NaN</td>\n",
       "      <td>NaN</td>\n",
       "      <td>NaN</td>\n",
       "      <td>NaN</td>\n",
       "      <td>NaN</td>\n",
       "      <td>NaN</td>\n",
       "      <td>NaN</td>\n",
       "      <td>NaN</td>\n",
       "      <td>NaN</td>\n",
       "      <td>NaN</td>\n",
       "    </tr>\n",
       "    <tr>\n",
       "      <th>9839</th>\n",
       "      <td>1</td>\n",
       "      <td>NaN</td>\n",
       "      <td>NaN</td>\n",
       "      <td>NaN</td>\n",
       "      <td>NaN</td>\n",
       "      <td>NaN</td>\n",
       "      <td>NaN</td>\n",
       "      <td>NaN</td>\n",
       "      <td>NaN</td>\n",
       "      <td>NaN</td>\n",
       "      <td>...</td>\n",
       "      <td>NaN</td>\n",
       "      <td>NaN</td>\n",
       "      <td>NaN</td>\n",
       "      <td>NaN</td>\n",
       "      <td>NaN</td>\n",
       "      <td>NaN</td>\n",
       "      <td>NaN</td>\n",
       "      <td>NaN</td>\n",
       "      <td>NaN</td>\n",
       "      <td>NaN</td>\n",
       "    </tr>\n",
       "  </tbody>\n",
       "</table>\n",
       "<p>829 rows × 24 columns</p>\n",
       "</div>"
      ],
      "text/plain": [
       "      FLAG   Total ERC20 tnxs   ERC20 total Ether received  \\\n",
       "7662     1                NaN                          NaN   \n",
       "7666     1                NaN                          NaN   \n",
       "7675     1                NaN                          NaN   \n",
       "7676     1                NaN                          NaN   \n",
       "7678     1                NaN                          NaN   \n",
       "...    ...                ...                          ...   \n",
       "9831     1                NaN                          NaN   \n",
       "9833     1                NaN                          NaN   \n",
       "9834     1                NaN                          NaN   \n",
       "9835     1                NaN                          NaN   \n",
       "9839     1                NaN                          NaN   \n",
       "\n",
       "       ERC20 total ether sent   ERC20 total Ether sent contract  \\\n",
       "7662                      NaN                               NaN   \n",
       "7666                      NaN                               NaN   \n",
       "7675                      NaN                               NaN   \n",
       "7676                      NaN                               NaN   \n",
       "7678                      NaN                               NaN   \n",
       "...                       ...                               ...   \n",
       "9831                      NaN                               NaN   \n",
       "9833                      NaN                               NaN   \n",
       "9834                      NaN                               NaN   \n",
       "9835                      NaN                               NaN   \n",
       "9839                      NaN                               NaN   \n",
       "\n",
       "       ERC20 uniq sent addr   ERC20 uniq rec addr   ERC20 uniq sent addr.1  \\\n",
       "7662                    NaN                   NaN                      NaN   \n",
       "7666                    NaN                   NaN                      NaN   \n",
       "7675                    NaN                   NaN                      NaN   \n",
       "7676                    NaN                   NaN                      NaN   \n",
       "7678                    NaN                   NaN                      NaN   \n",
       "...                     ...                   ...                      ...   \n",
       "9831                    NaN                   NaN                      NaN   \n",
       "9833                    NaN                   NaN                      NaN   \n",
       "9834                    NaN                   NaN                      NaN   \n",
       "9835                    NaN                   NaN                      NaN   \n",
       "9839                    NaN                   NaN                      NaN   \n",
       "\n",
       "       ERC20 uniq rec contract addr   ERC20 avg time between sent tnx  ...  \\\n",
       "7662                            NaN                               NaN  ...   \n",
       "7666                            NaN                               NaN  ...   \n",
       "7675                            NaN                               NaN  ...   \n",
       "7676                            NaN                               NaN  ...   \n",
       "7678                            NaN                               NaN  ...   \n",
       "...                             ...                               ...  ...   \n",
       "9831                            NaN                               NaN  ...   \n",
       "9833                            NaN                               NaN  ...   \n",
       "9834                            NaN                               NaN  ...   \n",
       "9835                            NaN                               NaN  ...   \n",
       "9839                            NaN                               NaN  ...   \n",
       "\n",
       "       ERC20 max val rec   ERC20 avg val rec   ERC20 min val sent  \\\n",
       "7662                 NaN                 NaN                  NaN   \n",
       "7666                 NaN                 NaN                  NaN   \n",
       "7675                 NaN                 NaN                  NaN   \n",
       "7676                 NaN                 NaN                  NaN   \n",
       "7678                 NaN                 NaN                  NaN   \n",
       "...                  ...                 ...                  ...   \n",
       "9831                 NaN                 NaN                  NaN   \n",
       "9833                 NaN                 NaN                  NaN   \n",
       "9834                 NaN                 NaN                  NaN   \n",
       "9835                 NaN                 NaN                  NaN   \n",
       "9839                 NaN                 NaN                  NaN   \n",
       "\n",
       "       ERC20 max val sent   ERC20 avg val sent   ERC20 min val sent contract  \\\n",
       "7662                  NaN                  NaN                           NaN   \n",
       "7666                  NaN                  NaN                           NaN   \n",
       "7675                  NaN                  NaN                           NaN   \n",
       "7676                  NaN                  NaN                           NaN   \n",
       "7678                  NaN                  NaN                           NaN   \n",
       "...                   ...                  ...                           ...   \n",
       "9831                  NaN                  NaN                           NaN   \n",
       "9833                  NaN                  NaN                           NaN   \n",
       "9834                  NaN                  NaN                           NaN   \n",
       "9835                  NaN                  NaN                           NaN   \n",
       "9839                  NaN                  NaN                           NaN   \n",
       "\n",
       "       ERC20 max val sent contract   ERC20 avg val sent contract  \\\n",
       "7662                           NaN                           NaN   \n",
       "7666                           NaN                           NaN   \n",
       "7675                           NaN                           NaN   \n",
       "7676                           NaN                           NaN   \n",
       "7678                           NaN                           NaN   \n",
       "...                            ...                           ...   \n",
       "9831                           NaN                           NaN   \n",
       "9833                           NaN                           NaN   \n",
       "9834                           NaN                           NaN   \n",
       "9835                           NaN                           NaN   \n",
       "9839                           NaN                           NaN   \n",
       "\n",
       "       ERC20 uniq sent token name   ERC20 uniq rec token name  \n",
       "7662                          NaN                         NaN  \n",
       "7666                          NaN                         NaN  \n",
       "7675                          NaN                         NaN  \n",
       "7676                          NaN                         NaN  \n",
       "7678                          NaN                         NaN  \n",
       "...                           ...                         ...  \n",
       "9831                          NaN                         NaN  \n",
       "9833                          NaN                         NaN  \n",
       "9834                          NaN                         NaN  \n",
       "9835                          NaN                         NaN  \n",
       "9839                          NaN                         NaN  \n",
       "\n",
       "[829 rows x 24 columns]"
      ]
     },
     "execution_count": 17,
     "metadata": {},
     "output_type": "execute_result"
    }
   ],
   "source": [
    "# Observing the `flag` and the columns with NA values\n",
    "na_dataframe1 = df[df[' Total ERC20 tnxs'].isna()]\n",
    "na_df1 = na_dataframe1['FLAG']\n",
    "na_df2 = na_dataframe1.iloc[:,25:48]\n",
    "newdf1 = pd.concat([na_df1, na_df2], axis=1)\n",
    "newdf1"
   ]
  },
  {
   "cell_type": "code",
   "execution_count": 18,
   "metadata": {
    "colab": {
     "base_uri": "https://localhost:8080/"
    },
    "id": "soj9FG6RnMxZ",
    "outputId": "803ba489-6b05-4779-b1ee-e923281234bd"
   },
   "outputs": [
    {
     "data": {
      "text/html": [
       "<div>\n",
       "<style scoped>\n",
       "    .dataframe tbody tr th:only-of-type {\n",
       "        vertical-align: middle;\n",
       "    }\n",
       "\n",
       "    .dataframe tbody tr th {\n",
       "        vertical-align: top;\n",
       "    }\n",
       "\n",
       "    .dataframe thead th {\n",
       "        text-align: right;\n",
       "    }\n",
       "</style>\n",
       "<table border=\"1\" class=\"dataframe\">\n",
       "  <thead>\n",
       "    <tr style=\"text-align: right;\">\n",
       "      <th></th>\n",
       "      <th>FLAG</th>\n",
       "      <th>Total ERC20 tnxs</th>\n",
       "      <th>ERC20 total Ether received</th>\n",
       "      <th>ERC20 total ether sent</th>\n",
       "      <th>ERC20 total Ether sent contract</th>\n",
       "      <th>ERC20 uniq sent addr</th>\n",
       "      <th>ERC20 uniq rec addr</th>\n",
       "      <th>ERC20 uniq sent addr.1</th>\n",
       "      <th>ERC20 uniq rec contract addr</th>\n",
       "      <th>ERC20 avg time between sent tnx</th>\n",
       "      <th>...</th>\n",
       "      <th>ERC20 max val rec</th>\n",
       "      <th>ERC20 avg val rec</th>\n",
       "      <th>ERC20 min val sent</th>\n",
       "      <th>ERC20 max val sent</th>\n",
       "      <th>ERC20 avg val sent</th>\n",
       "      <th>ERC20 min val sent contract</th>\n",
       "      <th>ERC20 max val sent contract</th>\n",
       "      <th>ERC20 avg val sent contract</th>\n",
       "      <th>ERC20 uniq sent token name</th>\n",
       "      <th>ERC20 uniq rec token name</th>\n",
       "    </tr>\n",
       "  </thead>\n",
       "  <tbody>\n",
       "  </tbody>\n",
       "</table>\n",
       "<p>0 rows × 24 columns</p>\n",
       "</div>"
      ],
      "text/plain": [
       "Empty DataFrame\n",
       "Columns: [FLAG,  Total ERC20 tnxs,  ERC20 total Ether received,  ERC20 total ether sent,  ERC20 total Ether sent contract,  ERC20 uniq sent addr,  ERC20 uniq rec addr,  ERC20 uniq sent addr.1,  ERC20 uniq rec contract addr,  ERC20 avg time between sent tnx,  ERC20 avg time between rec tnx,  ERC20 avg time between rec 2 tnx,  ERC20 avg time between contract tnx,  ERC20 min val rec,  ERC20 max val rec,  ERC20 avg val rec,  ERC20 min val sent,  ERC20 max val sent,  ERC20 avg val sent,  ERC20 min val sent contract,  ERC20 max val sent contract,  ERC20 avg val sent contract,  ERC20 uniq sent token name,  ERC20 uniq rec token name]\n",
       "Index: []\n",
       "\n",
       "[0 rows x 24 columns]"
      ]
     },
     "execution_count": 18,
     "metadata": {},
     "output_type": "execute_result"
    }
   ],
   "source": [
    "# Verifying if the rows with NA values for columns 25 and onwards have their `flag` values as 1\n",
    "newdf1[newdf1['FLAG'] == 0]"
   ]
  },
  {
   "cell_type": "markdown",
   "metadata": {
    "id": "29LTGFM9nIDm"
   },
   "source": [
    "There are no rows (transactions) displayed above. This suggests that all the rows with missing values for columns 25 onwards are considered as fraudulent transactions."
   ]
  },
  {
   "cell_type": "code",
   "execution_count": 19,
   "metadata": {
    "colab": {
     "base_uri": "https://localhost:8080/"
    },
    "id": "NZF5WqJ2nSz9",
    "outputId": "5d992f90-f752-4d2a-dd22-cd33450b7c77"
   },
   "outputs": [
    {
     "name": "stdout",
     "output_type": "stream",
     "text": [
      "The missing values in columns 25 onwards make up 38.04% of all fraudulent transactions in the dataset.\n"
     ]
    }
   ],
   "source": [
    "percentage = na_dataframe1['FLAG'].sum()/df['FLAG'].sum()*100\n",
    "round(percentage, 2)\n",
    "print('The missing values in columns 25 onwards make up ' + str(round(percentage, 2)) + '% of all fraudulent transactions in the dataset.')"
   ]
  },
  {
   "cell_type": "markdown",
   "metadata": {
    "id": "AfOelIK7qwIK"
   },
   "source": [
    "This significant number of fraudulent transactions reminds us that we need to exercise caution when deciding what to do with the missing values later on during data cleaning. Deletion of the rows with missing values might not be the most ideal."
   ]
  },
  {
   "cell_type": "code",
   "execution_count": 15,
   "metadata": {
    "colab": {
     "base_uri": "https://localhost:8080/"
    },
    "id": "hNIkj3b6oVJ5",
    "outputId": "9b036663-4151-4dcc-c17c-0e5dc4dbac36"
   },
   "outputs": [
    {
     "name": "stdout",
     "output_type": "stream",
     "text": [
      "98.57% of the NA values in `ERC20 most sent token type` are fraudulent transactions.\n"
     ]
    }
   ],
   "source": [
    "# PART 2: Extracting columns with more than 829 missing values (`erc20 most sent token type` and `erc20_most_rec_token_type`)\n",
    "\n",
    "# `ERC20 most sent token type`\n",
    "na_dataframe2 = df[df[' ERC20 most sent token type'].isna()]\n",
    "na_df2a = na_dataframe2['FLAG']\n",
    "na_df2b = na_dataframe2[' ERC20 most sent token type']\n",
    "newdf2 = pd.concat([na_df2a, na_df2b], axis=1)\n",
    "\n",
    "no_of_fraud = newdf2['FLAG'].sum()\n",
    "no_of_na = df[' ERC20 most sent token type'].isnull().sum()\n",
    "percentage_of_fraud = no_of_fraud/no_of_na*100\n",
    "round(percentage_of_fraud, 2)\n",
    "print(str(round(percentage_of_fraud, 2)) + '% of the NA values in `ERC20 most sent token type` are fraudulent transactions.')"
   ]
  },
  {
   "cell_type": "code",
   "execution_count": 16,
   "metadata": {
    "colab": {
     "base_uri": "https://localhost:8080/"
    },
    "id": "hQCauOBQoqYI",
    "outputId": "5423ed5e-3ce7-493d-884c-2c9ced658dcc"
   },
   "outputs": [
    {
     "name": "stdout",
     "output_type": "stream",
     "text": [
      "97.41% of the NA values in `ERC20_most_rec_token_type` are fraudulent transactions.\n"
     ]
    }
   ],
   "source": [
    "# `ERC20_most_rec_token_type`\n",
    "na_dataframe3 = df[df[' ERC20_most_rec_token_type'].isna()]\n",
    "na_df3a = na_dataframe3['FLAG']\n",
    "na_df3b = na_dataframe3[' ERC20_most_rec_token_type']\n",
    "newdf3 = pd.concat([na_df3a, na_df3b], axis=1)\n",
    "\n",
    "no_of_fraud = newdf3['FLAG'].sum()\n",
    "no_of_na = df[' ERC20_most_rec_token_type'].isnull().sum()\n",
    "percentage_of_fraud = no_of_fraud/no_of_na*100\n",
    "print(str(round(percentage_of_fraud, 2)) + '% of the NA values in `ERC20_most_rec_token_type` are fraudulent transactions.')"
   ]
  },
  {
   "cell_type": "markdown",
   "metadata": {
    "id": "VggiqOpQ14UV"
   },
   "source": [
    "The percentage of Non-Fraud transactions is 77.86%, while the percentage of Fraudulent transactions is 22.14%. However, for both columns `ERC20 most sent token type` and `ERC20_most_rec_token_type`, we noticed that 98.57% and 97.41% of the NA values in `ERC20 most sent token type` and `ERC20_most_rec_token_type` are fraudulent transactions respectively. \n",
    "\n",
    "These much higher weightages of the fraudulent transactions of these NA values (98.57% and 97.41%)  as compared to that of the weightage of the overall dataset (22.14%) shows that there could be some correlation between the labels and the columns.\n",
    "\n",
    "Hence this reminds us that deletion of these columns might not be the most ideal. We could explore other methods of handling missing values in the data cleaning section."
   ]
  },
  {
   "cell_type": "markdown",
   "metadata": {
    "id": "aZZzk9ThO9J6"
   },
   "source": [
    "#### 2.2.5 Hypothesis 5: **Our data is skewed**\n"
   ]
  },
  {
   "cell_type": "markdown",
   "metadata": {
    "id": "NpL_E8Gp64Yo"
   },
   "source": [
    "##### A. Checking skewness using `.skew()`"
   ]
  },
  {
   "cell_type": "code",
   "execution_count": 17,
   "metadata": {
    "colab": {
     "base_uri": "https://localhost:8080/"
    },
    "id": "hlARy67m7ByL",
    "outputId": "13cf013b-edf2-4b1f-a3fb-9765f4a5ebf9"
   },
   "outputs": [
    {
     "data": {
      "text/plain": [
       "Index                                                    0.572970\n",
       "FLAG                                                     1.342100\n",
       "Avg min between sent tnx                                 8.420000\n",
       "Avg min between received tnx                             6.745298\n",
       "Time Diff between first and last (Mins)                  1.809977\n",
       "Sent tnx                                                10.484544\n",
       "Received Tnx                                             8.821383\n",
       "Number of Created Contracts                             51.720220\n",
       "Unique Received From Addresses                          18.116107\n",
       "Unique Sent To Addresses                                18.354325\n",
       "min value received                                      23.295883\n",
       "max value received                                      46.423682\n",
       "avg val received                                        96.513680\n",
       "min val sent                                            73.426748\n",
       "max val sent                                            59.833713\n",
       "avg val sent                                            25.531087\n",
       "min value sent to contract                              79.849427\n",
       "max val sent to contract                                78.848894\n",
       "avg value sent to contract                              63.607723\n",
       "total transactions (including tnx to create contract     6.849046\n",
       "total Ether sent                                        62.363237\n",
       "total ether received                                    58.795284\n",
       "total ether sent contracts                              78.848737\n",
       "total ether balance                                     -1.205262\n",
       " Total ERC20 tnxs                                       19.930233\n",
       " ERC20 total Ether received                             94.806604\n",
       " ERC20 total ether sent                                 94.786924\n",
       " ERC20 total Ether sent contract                        59.280265\n",
       " ERC20 uniq sent addr                                   40.648025\n",
       " ERC20 uniq rec addr                                    37.586021\n",
       " ERC20 uniq sent addr.1                                 23.720828\n",
       " ERC20 uniq rec contract addr                           16.330917\n",
       " ERC20 avg time between sent tnx                         0.000000\n",
       " ERC20 avg time between rec tnx                          0.000000\n",
       " ERC20 avg time between rec 2 tnx                        0.000000\n",
       " ERC20 avg time between contract tnx                     0.000000\n",
       " ERC20 min val rec                                      50.535806\n",
       " ERC20 max val rec                                      94.833841\n",
       " ERC20 avg val rec                                      71.026899\n",
       " ERC20 min val sent                                     94.882248\n",
       " ERC20 max val sent                                     94.904137\n",
       " ERC20 avg val sent                                     94.919941\n",
       " ERC20 min val sent contract                             0.000000\n",
       " ERC20 max val sent contract                             0.000000\n",
       " ERC20 avg val sent contract                             0.000000\n",
       " ERC20 uniq sent token name                             12.305550\n",
       " ERC20 uniq rec token name                              15.538524\n",
       "dtype: float64"
      ]
     },
     "execution_count": 17,
     "metadata": {},
     "output_type": "execute_result"
    }
   ],
   "source": [
    "df.select_dtypes(include = ['float64', 'int64']).skew()"
   ]
  },
  {
   "cell_type": "markdown",
   "metadata": {
    "id": "gG0pAOpM3l23"
   },
   "source": [
    "##### B. Investigating the distribution of our features using boxplots."
   ]
  },
  {
   "cell_type": "code",
   "execution_count": 18,
   "metadata": {
    "colab": {
     "base_uri": "https://localhost:8080/"
    },
    "id": "eEej1jpAPPrg",
    "outputId": "bd0a9a64-d3fe-486a-d152-b19cbc1f264e"
   },
   "outputs": [
    {
     "data": {
      "text/plain": [
       "Index(['Index', 'Address', 'FLAG', 'Avg min between sent tnx',\n",
       "       'Avg min between received tnx',\n",
       "       'Time Diff between first and last (Mins)', 'Sent tnx', 'Received Tnx',\n",
       "       'Number of Created Contracts', 'Unique Received From Addresses',\n",
       "       'Unique Sent To Addresses', 'min value received', 'max value received ',\n",
       "       'avg val received', 'min val sent', 'max val sent', 'avg val sent',\n",
       "       'min value sent to contract', 'max val sent to contract',\n",
       "       'avg value sent to contract',\n",
       "       'total transactions (including tnx to create contract',\n",
       "       'total Ether sent', 'total ether received',\n",
       "       'total ether sent contracts', 'total ether balance',\n",
       "       ' Total ERC20 tnxs', ' ERC20 total Ether received',\n",
       "       ' ERC20 total ether sent', ' ERC20 total Ether sent contract',\n",
       "       ' ERC20 uniq sent addr', ' ERC20 uniq rec addr',\n",
       "       ' ERC20 uniq sent addr.1', ' ERC20 uniq rec contract addr',\n",
       "       ' ERC20 avg time between sent tnx', ' ERC20 avg time between rec tnx',\n",
       "       ' ERC20 avg time between rec 2 tnx',\n",
       "       ' ERC20 avg time between contract tnx', ' ERC20 min val rec',\n",
       "       ' ERC20 max val rec', ' ERC20 avg val rec', ' ERC20 min val sent',\n",
       "       ' ERC20 max val sent', ' ERC20 avg val sent',\n",
       "       ' ERC20 min val sent contract', ' ERC20 max val sent contract',\n",
       "       ' ERC20 avg val sent contract', ' ERC20 uniq sent token name',\n",
       "       ' ERC20 uniq rec token name', ' ERC20 most sent token type',\n",
       "       ' ERC20_most_rec_token_type'],\n",
       "      dtype='object')"
      ]
     },
     "execution_count": 18,
     "metadata": {},
     "output_type": "execute_result"
    }
   ],
   "source": [
    "columns = df.columns\n",
    "columns"
   ]
  },
  {
   "cell_type": "code",
   "execution_count": 19,
   "metadata": {
    "colab": {
     "base_uri": "https://localhost:8080/"
    },
    "id": "Jtq2rFVX3zIo",
    "outputId": "d55dc0ab-61b5-4a4b-b084-8ce8fa12ca83"
   },
   "outputs": [
    {
     "data": {
      "image/png": "[encoded data removed]",
      "text/plain": [
       "<Figure size 1500x1500 with 46 Axes>"
      ]
     },
     "metadata": {},
     "output_type": "display_data"
    }
   ],
   "source": [
    "# Plotting the boxplots\n",
    "fig, axes = plt.subplots(12, 4, figsize=(15, 15))\n",
    "fig.delaxes(axes[11][2])\n",
    "fig.delaxes(axes[11][3])\n",
    "plt.subplots_adjust(wspace=0.25, hspace=1.5)\n",
    "plt.suptitle(\"Distribution of Features\",y=0.92, size=22, weight='bold')\n",
    "\n",
    "ax1 = sns.boxplot(ax = axes[0,0], data=df, x=columns[2])\n",
    "ax2 = sns.boxplot(ax = axes[0,1], data=df, x=columns[3])\n",
    "ax3 = sns.boxplot(ax = axes[0,2], data=df, x=columns[4])\n",
    "ax4 = sns.boxplot(ax = axes[0,3], data=df, x=columns[5])\n",
    "ax5 = sns.boxplot(ax = axes[1,0], data=df, x=columns[6])\n",
    "ax6 = sns.boxplot(ax = axes[1,1], data=df, x=columns[7])\n",
    "ax7 = sns.boxplot(ax = axes[1,2], data=df, x=columns[8])\n",
    "ax8 = sns.boxplot(ax = axes[1,3], data=df, x=columns[9])\n",
    "ax9 = sns.boxplot(ax = axes[2,0], data=df, x=columns[10])\n",
    "ax10 = sns.boxplot(ax = axes[2,1], data=df, x=columns[11])\n",
    "ax11 = sns.boxplot(ax = axes[2,2], data=df, x=columns[12])\n",
    "ax12 = sns.boxplot(ax = axes[2,3], data=df, x=columns[13])\n",
    "ax13 = sns.boxplot(ax = axes[3,0], data=df, x=columns[14])\n",
    "ax14 = sns.boxplot(ax = axes[3,1], data=df, x=columns[15])\n",
    "ax15 = sns.boxplot(ax = axes[3,2], data=df, x=columns[16])\n",
    "ax16 = sns.boxplot(ax = axes[3,3], data=df, x=columns[17])\n",
    "ax17 = sns.boxplot(ax = axes[4,0], data=df, x=columns[18])\n",
    "ax18 = sns.boxplot(ax = axes[4,1], data=df, x=columns[19])\n",
    "ax19 = sns.boxplot(ax = axes[4,2], data=df, x=columns[20])\n",
    "ax20 = sns.boxplot(ax = axes[4,3], data=df, x=columns[21])\n",
    "ax21 = sns.boxplot(ax = axes[5,0], data=df, x=columns[22])\n",
    "ax22 = sns.boxplot(ax = axes[5,1], data=df, x=columns[23])\n",
    "ax23 = sns.boxplot(ax = axes[5,2], data=df, x=columns[24])\n",
    "ax24 = sns.boxplot(ax = axes[5,3], data=df, x=columns[25])\n",
    "ax25 = sns.boxplot(ax = axes[6,0], data=df, x=columns[26])\n",
    "ax26 = sns.boxplot(ax = axes[6,1], data=df, x=columns[27])\n",
    "ax27 = sns.boxplot(ax = axes[6,2], data=df, x=columns[28])\n",
    "ax28 = sns.boxplot(ax = axes[6,3], data=df, x=columns[29])\n",
    "ax29 = sns.boxplot(ax = axes[7,0], data=df, x=columns[30])\n",
    "ax30 = sns.boxplot(ax = axes[7,1], data=df, x=columns[31])\n",
    "ax31 = sns.boxplot(ax = axes[7,2], data=df, x=columns[32])\n",
    "ax32 = sns.boxplot(ax = axes[7,3], data=df, x=columns[33])\n",
    "ax33 = sns.boxplot(ax = axes[8,0], data=df, x=columns[34])\n",
    "ax34 = sns.boxplot(ax = axes[8,1], data=df, x=columns[35])\n",
    "ax35 = sns.boxplot(ax = axes[8,2], data=df, x=columns[36])\n",
    "ax36 = sns.boxplot(ax = axes[8,3], data=df, x=columns[37])\n",
    "ax37 = sns.boxplot(ax = axes[9,0], data=df, x=columns[38])\n",
    "ax38 = sns.boxplot(ax = axes[9,1], data=df, x=columns[39])\n",
    "ax39 = sns.boxplot(ax = axes[9,2], data=df, x=columns[40])\n",
    "ax40 = sns.boxplot(ax = axes[9,3], data=df, x=columns[41])\n",
    "ax41 = sns.boxplot(ax = axes[10,0], data=df, x=columns[42])\n",
    "ax42 = sns.boxplot(ax = axes[10,1], data=df, x=columns[43])\n",
    "ax43 = sns.boxplot(ax = axes[10,2], data=df, x=columns[44])\n",
    "ax44 = sns.boxplot(ax = axes[10,3], data=df, x=columns[45])\n",
    "ax45 = sns.boxplot(ax = axes[11,0], data=df, x=columns[46])\n",
    "ax46 = sns.boxplot(ax = axes[11,1], data=df, x=columns[47])\n",
    "\n",
    "plt.show()"
   ]
  },
  {
   "cell_type": "markdown",
   "metadata": {
    "id": "41tBJUEwJwNX"
   },
   "source": [
    "#### 2.2.6 Hypothesis 6: **Our dataset has a mix of numerical and categorical type**"
   ]
  },
  {
   "cell_type": "code",
   "execution_count": 20,
   "metadata": {
    "colab": {
     "base_uri": "https://localhost:8080/"
    },
    "id": "Pv-CFMJNmERz",
    "outputId": "fe7f9e3f-d40d-4164-f789-6d4781e1a657"
   },
   "outputs": [
    {
     "name": "stdout",
     "output_type": "stream",
     "text": [
      "<class 'pandas.core.frame.DataFrame'>\n",
      "Int64Index: 9841 entries, 0 to 9840\n",
      "Data columns (total 50 columns):\n",
      " #   Column                                                Non-Null Count  Dtype  \n",
      "---  ------                                                --------------  -----  \n",
      " 0   Index                                                 9841 non-null   int64  \n",
      " 1   Address                                               9841 non-null   object \n",
      " 2   FLAG                                                  9841 non-null   int64  \n",
      " 3   Avg min between sent tnx                              9841 non-null   float64\n",
      " 4   Avg min between received tnx                          9841 non-null   float64\n",
      " 5   Time Diff between first and last (Mins)               9841 non-null   float64\n",
      " 6   Sent tnx                                              9841 non-null   int64  \n",
      " 7   Received Tnx                                          9841 non-null   int64  \n",
      " 8   Number of Created Contracts                           9841 non-null   int64  \n",
      " 9   Unique Received From Addresses                        9841 non-null   int64  \n",
      " 10  Unique Sent To Addresses                              9841 non-null   int64  \n",
      " 11  min value received                                    9841 non-null   float64\n",
      " 12  max value received                                    9841 non-null   float64\n",
      " 13  avg val received                                      9841 non-null   float64\n",
      " 14  min val sent                                          9841 non-null   float64\n",
      " 15  max val sent                                          9841 non-null   float64\n",
      " 16  avg val sent                                          9841 non-null   float64\n",
      " 17  min value sent to contract                            9841 non-null   float64\n",
      " 18  max val sent to contract                              9841 non-null   float64\n",
      " 19  avg value sent to contract                            9841 non-null   float64\n",
      " 20  total transactions (including tnx to create contract  9841 non-null   int64  \n",
      " 21  total Ether sent                                      9841 non-null   float64\n",
      " 22  total ether received                                  9841 non-null   float64\n",
      " 23  total ether sent contracts                            9841 non-null   float64\n",
      " 24  total ether balance                                   9841 non-null   float64\n",
      " 25   Total ERC20 tnxs                                     9012 non-null   float64\n",
      " 26   ERC20 total Ether received                           9012 non-null   float64\n",
      " 27   ERC20 total ether sent                               9012 non-null   float64\n",
      " 28   ERC20 total Ether sent contract                      9012 non-null   float64\n",
      " 29   ERC20 uniq sent addr                                 9012 non-null   float64\n",
      " 30   ERC20 uniq rec addr                                  9012 non-null   float64\n",
      " 31   ERC20 uniq sent addr.1                               9012 non-null   float64\n",
      " 32   ERC20 uniq rec contract addr                         9012 non-null   float64\n",
      " 33   ERC20 avg time between sent tnx                      9012 non-null   float64\n",
      " 34   ERC20 avg time between rec tnx                       9012 non-null   float64\n",
      " 35   ERC20 avg time between rec 2 tnx                     9012 non-null   float64\n",
      " 36   ERC20 avg time between contract tnx                  9012 non-null   float64\n",
      " 37   ERC20 min val rec                                    9012 non-null   float64\n",
      " 38   ERC20 max val rec                                    9012 non-null   float64\n",
      " 39   ERC20 avg val rec                                    9012 non-null   float64\n",
      " 40   ERC20 min val sent                                   9012 non-null   float64\n",
      " 41   ERC20 max val sent                                   9012 non-null   float64\n",
      " 42   ERC20 avg val sent                                   9012 non-null   float64\n",
      " 43   ERC20 min val sent contract                          9012 non-null   float64\n",
      " 44   ERC20 max val sent contract                          9012 non-null   float64\n",
      " 45   ERC20 avg val sent contract                          9012 non-null   float64\n",
      " 46   ERC20 uniq sent token name                           9012 non-null   float64\n",
      " 47   ERC20 uniq rec token name                            9012 non-null   float64\n",
      " 48   ERC20 most sent token type                           9000 non-null   object \n",
      " 49   ERC20_most_rec_token_type                            8990 non-null   object \n",
      "dtypes: float64(39), int64(8), object(3)\n",
      "memory usage: 3.8+ MB\n"
     ]
    }
   ],
   "source": [
    "df.info()"
   ]
  },
  {
   "cell_type": "markdown",
   "metadata": {
    "id": "bsg08DyUKun1"
   },
   "source": [
    "From the list displayed above, for the columns which we thought were numerical, we learnt that they have specific types - some of them are of 'int' type, while the rest are of 'float64' type.\n",
    "\n",
    "For the three columns which we thought were categorical, they are actually of type 'object'.\n",
    "\n"
   ]
  },
  {
   "cell_type": "markdown",
   "metadata": {
    "id": "JuBSjqfDhNVm"
   },
   "source": [
    "#### 2.2.7 Hypothesis 7: **Variables of type 'category' have better memory optimization than variables of type 'object'**"
   ]
  },
  {
   "cell_type": "markdown",
   "metadata": {
    "id": "pOSKMQHYhqWi"
   },
   "source": [
    "After discovering that the variables we thought were of type 'category' were actually of type 'object', we wanted to find which type would allow for better memory optimization, which thereby enables higher computational efficiency when we run our model."
   ]
  },
  {
   "cell_type": "code",
   "execution_count": 21,
   "metadata": {
    "colab": {
     "base_uri": "https://localhost:8080/"
    },
    "id": "jmJQLdjzjV4z",
    "outputId": "4b47240a-c473-4799-be27-396a7482be4f"
   },
   "outputs": [
    {
     "name": "stdout",
     "output_type": "stream",
     "text": [
      "The memory usage of `Address` when it is of object type is 1053060.\n",
      "The memory usage of `ERC20 most sent token type` when it is of object type is 645400.\n",
      "The memory usage of `ERC20_most_rec_token_type` when it is of object type is 672163.\n"
     ]
    }
   ],
   "source": [
    "# Memory usage for variables of type 'object'\n",
    "address_old_memory = df['Address'].memory_usage(deep=True)\n",
    "erc20sent_old_memory = df[' ERC20 most sent token type'].memory_usage(deep=True)\n",
    "erc20rec_old_memory = df[' ERC20_most_rec_token_type'].memory_usage(deep=True)\n",
    "\n",
    "print(f'The memory usage of `Address` when it is of object type is {address_old_memory}.')\n",
    "print(f'The memory usage of `ERC20 most sent token type` when it is of object type is {erc20sent_old_memory}.')\n",
    "print(f'The memory usage of `ERC20_most_rec_token_type` when it is of object type is {erc20rec_old_memory}.')"
   ]
  },
  {
   "cell_type": "code",
   "execution_count": 22,
   "metadata": {
    "colab": {
     "base_uri": "https://localhost:8080/"
    },
    "id": "tNgsWoSzhLin",
    "outputId": "5084d4c0-8a7f-45ef-9384-d9378cefc8f2"
   },
   "outputs": [
    {
     "name": "stdout",
     "output_type": "stream",
     "text": [
      "The memory usage of `Address` when it is of category type is 1334499.\n",
      "The memory usage of `ERC20 most sent token type` when it is of category type is 126823.\n",
      "The memory usage of `ERC20_most_rec_token_type` when it is of category type is 146048.\n"
     ]
    }
   ],
   "source": [
    "# Memory usage for variables of type 'category'\n",
    "address_new_memory = df['Address'].astype('category').memory_usage(deep=True)\n",
    "erc20sent_new_memory = df[' ERC20 most sent token type'].astype('category').memory_usage(deep=True)\n",
    "erc20rec_new_memory = df[' ERC20_most_rec_token_type'].astype('category').memory_usage(deep=True)\n",
    "\n",
    "print(f'The memory usage of `Address` when it is of category type is {address_new_memory}.')\n",
    "print(f'The memory usage of `ERC20 most sent token type` when it is of category type is {erc20sent_new_memory}.')\n",
    "print(f'The memory usage of `ERC20_most_rec_token_type` when it is of category type is {erc20rec_new_memory}.')"
   ]
  },
  {
   "cell_type": "code",
   "execution_count": 23,
   "metadata": {
    "colab": {
     "base_uri": "https://localhost:8080/"
    },
    "id": "CWKBLhbYkcZL",
    "outputId": "dd633905-59d3-4f8b-a706-2501a0c0e6c5"
   },
   "outputs": [
    {
     "name": "stdout",
     "output_type": "stream",
     "text": [
      "The percentage difference of the memory usage for `Address` is 26.73%.\n",
      "The percentage difference of the memory usage for `ERC20 most sent token type` is -80.35%.\n",
      "The percentage difference of the memory usage for `ERC20_most_rec_token_type` is -78.27%.\n"
     ]
    }
   ],
   "source": [
    "# Percentage difference of memory usage for 'object' vs 'category' type variables\n",
    "address_percdiff = round(((address_new_memory-address_old_memory)/address_old_memory*100), 2)\n",
    "erc20sent_percdiff = round(((erc20sent_new_memory-erc20sent_old_memory)/erc20sent_old_memory*100), 2)\n",
    "erc20rec_percdiff = round(((erc20rec_new_memory-erc20rec_old_memory)/erc20rec_old_memory*100), 2)\n",
    "\n",
    "print(f'The percentage difference of the memory usage for `Address` is {address_percdiff}%.')\n",
    "print(f'The percentage difference of the memory usage for `ERC20 most sent token type` is {erc20sent_percdiff}%.')\n",
    "print(f'The percentage difference of the memory usage for `ERC20_most_rec_token_type` is {erc20rec_percdiff}%.')"
   ]
  },
  {
   "cell_type": "markdown",
   "metadata": {
    "id": "m0e69rypq4nt"
   },
   "source": [
    "#### 2.2.8 Hypothesis 8: **Many repeated values for `ERC20 most sent token type` and `ERC20_most_rec_token_type`, but not for `Address`**"
   ]
  },
  {
   "cell_type": "code",
   "execution_count": 24,
   "metadata": {
    "colab": {
     "base_uri": "https://localhost:8080/"
    },
    "id": "MfSM8dEnrT9z",
    "outputId": "bdcc5d9e-71d3-466e-f0b5-5fcf92f62ea6"
   },
   "outputs": [
    {
     "name": "stdout",
     "output_type": "stream",
     "text": [
      "The percentage of unique values for `ERC20 most sent token type` is 3.1%.\n",
      "\n",
      "\n"
     ]
    },
    {
     "data": {
      "text/plain": [
       "0                                                         4399\n",
       "None                                                      1856\n",
       "                                                          1191\n",
       "EOS                                                        138\n",
       "OmiseGO                                                    137\n",
       "                                                          ... \n",
       "Arcona Distribution Contract                                 1\n",
       "HeroCoin                                                     1\n",
       "Cindicator                                                   1\n",
       "UnlimitedIP Token                                            1\n",
       "eosDAC Community Owned EOS Block Producer ERC20 Tokens       1\n",
       "Name:  ERC20 most sent token type, Length: 305, dtype: int64"
      ]
     },
     "execution_count": 24,
     "metadata": {},
     "output_type": "execute_result"
    }
   ],
   "source": [
    "total_rows = df.shape[0]\n",
    "\n",
    "erc20sent_unique = df[' ERC20 most sent token type'].nunique()\n",
    "erc20sent_unique_perc = round((erc20sent_unique/total_rows*100), 2)\n",
    "print(f'The percentage of unique values for `ERC20 most sent token type` is {erc20sent_unique_perc}%.')\n",
    "print('\\n')\n",
    "\n",
    "df[' ERC20 most sent token type'].value_counts()"
   ]
  },
  {
   "cell_type": "code",
   "execution_count": 25,
   "metadata": {
    "colab": {
     "base_uri": "https://localhost:8080/"
    },
    "id": "zsUSYJsRrciX",
    "outputId": "1444daa4-6e80-432c-c30f-7d7bb8586e5e"
   },
   "outputs": [
    {
     "name": "stdout",
     "output_type": "stream",
     "text": [
      "The percentage of unique values for `ERC20_most_rec_token_type` is 4.75%.\n",
      "\n",
      "\n"
     ]
    },
    {
     "data": {
      "text/plain": [
       "0                        4399\n",
       "OmiseGO                   873\n",
       "Blockwell say NOTSAFU     779\n",
       "DATAcoin                  358\n",
       "Livepeer Token            207\n",
       "                         ... \n",
       "BCDN                        1\n",
       "Egretia                     1\n",
       "UG Coin                     1\n",
       "Yun Planet                  1\n",
       "INS Promo1                  1\n",
       "Name:  ERC20_most_rec_token_type, Length: 467, dtype: int64"
      ]
     },
     "execution_count": 25,
     "metadata": {},
     "output_type": "execute_result"
    }
   ],
   "source": [
    "erc20rec_unique = df[' ERC20_most_rec_token_type'].nunique()\n",
    "erc20rec_unique_perc = round((erc20rec_unique/total_rows*100), 2)\n",
    "print(f'The percentage of unique values for `ERC20_most_rec_token_type` is {erc20rec_unique_perc}%.')\n",
    "print('\\n')\n",
    "\n",
    "df[' ERC20_most_rec_token_type'].value_counts()"
   ]
  },
  {
   "cell_type": "code",
   "execution_count": 26,
   "metadata": {
    "colab": {
     "base_uri": "https://localhost:8080/"
    },
    "id": "um-yur10rHLH",
    "outputId": "638640ec-e371-4055-f82e-7101265b7efa"
   },
   "outputs": [
    {
     "name": "stdout",
     "output_type": "stream",
     "text": [
      "The percentage of unique values for `Address` is 99.75%.\n",
      "\n",
      "\n"
     ]
    },
    {
     "data": {
      "text/plain": [
       "0x4cd526aa2db72eb1fd557b37c6b0394acd35b212    2\n",
       "0x4cd3bb2110eda1805dc63abc1959a5ee2d386e9f    2\n",
       "0x4c1da8781f6ca312bc11217b3f61e5dfdf428de1    2\n",
       "0x4c24af967901ec87a6644eb1ef42b680f58e67f5    2\n",
       "0x4c268c7b1d51b369153d6f1f28c61b15f0e17746    2\n",
       "                                             ..\n",
       "0x57b417366e5681ad493a03492d9b61ecd0d3d247    1\n",
       "0x57bb2d6426fed243c633d0b16d4297d12bc20638    1\n",
       "0x57c0cf70020f0af5073c24cb272e93e7529c6a40    1\n",
       "0x57ccf2b7ffe5e4497a7e04ac174646f5f16e24ce    1\n",
       "0xd624d046edbdef805c5e4140dce5fb5ec1b39a3c    1\n",
       "Name: Address, Length: 9816, dtype: int64"
      ]
     },
     "execution_count": 26,
     "metadata": {},
     "output_type": "execute_result"
    }
   ],
   "source": [
    "address_unique = df['Address'].nunique()\n",
    "address_unique_perc = round((address_unique/total_rows*100), 2)\n",
    "print(f'The percentage of unique values for `Address` is {address_unique_perc}%.')\n",
    "print('\\n')\n",
    "\n",
    "df['Address'].value_counts()"
   ]
  },
  {
   "cell_type": "markdown",
   "metadata": {
    "id": "8ZKOsZmmj0qm"
   },
   "source": [
    "## **3. Data Cleaning**"
   ]
  },
  {
   "cell_type": "markdown",
   "metadata": {
    "id": "QkyTCTKCpjNz"
   },
   "source": [
    "### 3.1 Making Column Names in Lowercase"
   ]
  },
  {
   "cell_type": "code",
   "execution_count": 27,
   "metadata": {
    "id": "WkLzGBUGpbST"
   },
   "outputs": [],
   "source": [
    "df.columns = [x.lower() for x in df.columns]"
   ]
  },
  {
   "cell_type": "markdown",
   "metadata": {
    "id": "9lk5bulRpojY"
   },
   "source": [
    "### 3.2 Removing Leading Spaces in Column Names"
   ]
  },
  {
   "cell_type": "code",
   "execution_count": 28,
   "metadata": {
    "id": "_4fMXW39kX7H"
   },
   "outputs": [],
   "source": [
    "df.columns = df.columns.str.lstrip()"
   ]
  },
  {
   "cell_type": "markdown",
   "metadata": {
    "id": "mwPttYfIqCuT"
   },
   "source": [
    "### 3.3 Omitting the `index` column"
   ]
  },
  {
   "cell_type": "code",
   "execution_count": 29,
   "metadata": {
    "colab": {
     "base_uri": "https://localhost:8080/"
    },
    "id": "zeZQLYbENbkL",
    "outputId": "9ee72827-31d9-4ed1-df0b-52c80d9e925e"
   },
   "outputs": [
    {
     "name": "stdout",
     "output_type": "stream",
     "text": [
      "(9841, 49)\n"
     ]
    },
    {
     "data": {
      "text/html": [
       "<div>\n",
       "<style scoped>\n",
       "    .dataframe tbody tr th:only-of-type {\n",
       "        vertical-align: middle;\n",
       "    }\n",
       "\n",
       "    .dataframe tbody tr th {\n",
       "        vertical-align: top;\n",
       "    }\n",
       "\n",
       "    .dataframe thead th {\n",
       "        text-align: right;\n",
       "    }\n",
       "</style>\n",
       "<table border=\"1\" class=\"dataframe\">\n",
       "  <thead>\n",
       "    <tr style=\"text-align: right;\">\n",
       "      <th></th>\n",
       "      <th>address</th>\n",
       "      <th>flag</th>\n",
       "      <th>avg min between sent tnx</th>\n",
       "      <th>avg min between received tnx</th>\n",
       "      <th>time diff between first and last (mins)</th>\n",
       "      <th>sent tnx</th>\n",
       "      <th>received tnx</th>\n",
       "      <th>number of created contracts</th>\n",
       "      <th>unique received from addresses</th>\n",
       "      <th>unique sent to addresses</th>\n",
       "      <th>...</th>\n",
       "      <th>erc20 min val sent</th>\n",
       "      <th>erc20 max val sent</th>\n",
       "      <th>erc20 avg val sent</th>\n",
       "      <th>erc20 min val sent contract</th>\n",
       "      <th>erc20 max val sent contract</th>\n",
       "      <th>erc20 avg val sent contract</th>\n",
       "      <th>erc20 uniq sent token name</th>\n",
       "      <th>erc20 uniq rec token name</th>\n",
       "      <th>erc20 most sent token type</th>\n",
       "      <th>erc20_most_rec_token_type</th>\n",
       "    </tr>\n",
       "  </thead>\n",
       "  <tbody>\n",
       "    <tr>\n",
       "      <th>0</th>\n",
       "      <td>0x00009277775ac7d0d59eaad8fee3d10ac6c805e8</td>\n",
       "      <td>0</td>\n",
       "      <td>844.26</td>\n",
       "      <td>1093.71</td>\n",
       "      <td>704785.63</td>\n",
       "      <td>721</td>\n",
       "      <td>89</td>\n",
       "      <td>0</td>\n",
       "      <td>40</td>\n",
       "      <td>118</td>\n",
       "      <td>...</td>\n",
       "      <td>0.000000</td>\n",
       "      <td>1.683100e+07</td>\n",
       "      <td>271779.920000</td>\n",
       "      <td>0.0</td>\n",
       "      <td>0.0</td>\n",
       "      <td>0.0</td>\n",
       "      <td>39.0</td>\n",
       "      <td>57.0</td>\n",
       "      <td>Cofoundit</td>\n",
       "      <td>Numeraire</td>\n",
       "    </tr>\n",
       "    <tr>\n",
       "      <th>1</th>\n",
       "      <td>0x0002b44ddb1476db43c868bd494422ee4c136fed</td>\n",
       "      <td>0</td>\n",
       "      <td>12709.07</td>\n",
       "      <td>2958.44</td>\n",
       "      <td>1218216.73</td>\n",
       "      <td>94</td>\n",
       "      <td>8</td>\n",
       "      <td>0</td>\n",
       "      <td>5</td>\n",
       "      <td>14</td>\n",
       "      <td>...</td>\n",
       "      <td>2.260809</td>\n",
       "      <td>2.260809e+00</td>\n",
       "      <td>2.260809</td>\n",
       "      <td>0.0</td>\n",
       "      <td>0.0</td>\n",
       "      <td>0.0</td>\n",
       "      <td>1.0</td>\n",
       "      <td>7.0</td>\n",
       "      <td>Livepeer Token</td>\n",
       "      <td>Livepeer Token</td>\n",
       "    </tr>\n",
       "    <tr>\n",
       "      <th>2</th>\n",
       "      <td>0x0002bda54cb772d040f779e88eb453cac0daa244</td>\n",
       "      <td>0</td>\n",
       "      <td>246194.54</td>\n",
       "      <td>2434.02</td>\n",
       "      <td>516729.30</td>\n",
       "      <td>2</td>\n",
       "      <td>10</td>\n",
       "      <td>0</td>\n",
       "      <td>10</td>\n",
       "      <td>2</td>\n",
       "      <td>...</td>\n",
       "      <td>0.000000</td>\n",
       "      <td>0.000000e+00</td>\n",
       "      <td>0.000000</td>\n",
       "      <td>0.0</td>\n",
       "      <td>0.0</td>\n",
       "      <td>0.0</td>\n",
       "      <td>0.0</td>\n",
       "      <td>8.0</td>\n",
       "      <td>None</td>\n",
       "      <td>XENON</td>\n",
       "    </tr>\n",
       "    <tr>\n",
       "      <th>3</th>\n",
       "      <td>0x00038e6ba2fd5c09aedb96697c8d7b8fa6632e5e</td>\n",
       "      <td>0</td>\n",
       "      <td>10219.60</td>\n",
       "      <td>15785.09</td>\n",
       "      <td>397555.90</td>\n",
       "      <td>25</td>\n",
       "      <td>9</td>\n",
       "      <td>0</td>\n",
       "      <td>7</td>\n",
       "      <td>13</td>\n",
       "      <td>...</td>\n",
       "      <td>100.000000</td>\n",
       "      <td>9.029231e+03</td>\n",
       "      <td>3804.076893</td>\n",
       "      <td>0.0</td>\n",
       "      <td>0.0</td>\n",
       "      <td>0.0</td>\n",
       "      <td>1.0</td>\n",
       "      <td>11.0</td>\n",
       "      <td>Raiden</td>\n",
       "      <td>XENON</td>\n",
       "    </tr>\n",
       "    <tr>\n",
       "      <th>4</th>\n",
       "      <td>0x00062d1dd1afb6fb02540ddad9cdebfe568e0d89</td>\n",
       "      <td>0</td>\n",
       "      <td>36.61</td>\n",
       "      <td>10707.77</td>\n",
       "      <td>382472.42</td>\n",
       "      <td>4598</td>\n",
       "      <td>20</td>\n",
       "      <td>1</td>\n",
       "      <td>7</td>\n",
       "      <td>19</td>\n",
       "      <td>...</td>\n",
       "      <td>0.000000</td>\n",
       "      <td>4.500000e+04</td>\n",
       "      <td>13726.659220</td>\n",
       "      <td>0.0</td>\n",
       "      <td>0.0</td>\n",
       "      <td>0.0</td>\n",
       "      <td>6.0</td>\n",
       "      <td>27.0</td>\n",
       "      <td>StatusNetwork</td>\n",
       "      <td>EOS</td>\n",
       "    </tr>\n",
       "  </tbody>\n",
       "</table>\n",
       "<p>5 rows × 49 columns</p>\n",
       "</div>"
      ],
      "text/plain": [
       "                                      address  flag  avg min between sent tnx  \\\n",
       "0  0x00009277775ac7d0d59eaad8fee3d10ac6c805e8     0                    844.26   \n",
       "1  0x0002b44ddb1476db43c868bd494422ee4c136fed     0                  12709.07   \n",
       "2  0x0002bda54cb772d040f779e88eb453cac0daa244     0                 246194.54   \n",
       "3  0x00038e6ba2fd5c09aedb96697c8d7b8fa6632e5e     0                  10219.60   \n",
       "4  0x00062d1dd1afb6fb02540ddad9cdebfe568e0d89     0                     36.61   \n",
       "\n",
       "   avg min between received tnx  time diff between first and last (mins)  \\\n",
       "0                       1093.71                                704785.63   \n",
       "1                       2958.44                               1218216.73   \n",
       "2                       2434.02                                516729.30   \n",
       "3                      15785.09                                397555.90   \n",
       "4                      10707.77                                382472.42   \n",
       "\n",
       "   sent tnx  received tnx  number of created contracts  \\\n",
       "0       721            89                            0   \n",
       "1        94             8                            0   \n",
       "2         2            10                            0   \n",
       "3        25             9                            0   \n",
       "4      4598            20                            1   \n",
       "\n",
       "   unique received from addresses  unique sent to addresses  ...  \\\n",
       "0                              40                       118  ...   \n",
       "1                               5                        14  ...   \n",
       "2                              10                         2  ...   \n",
       "3                               7                        13  ...   \n",
       "4                               7                        19  ...   \n",
       "\n",
       "   erc20 min val sent  erc20 max val sent  erc20 avg val sent  \\\n",
       "0            0.000000        1.683100e+07       271779.920000   \n",
       "1            2.260809        2.260809e+00            2.260809   \n",
       "2            0.000000        0.000000e+00            0.000000   \n",
       "3          100.000000        9.029231e+03         3804.076893   \n",
       "4            0.000000        4.500000e+04        13726.659220   \n",
       "\n",
       "   erc20 min val sent contract  erc20 max val sent contract  \\\n",
       "0                          0.0                          0.0   \n",
       "1                          0.0                          0.0   \n",
       "2                          0.0                          0.0   \n",
       "3                          0.0                          0.0   \n",
       "4                          0.0                          0.0   \n",
       "\n",
       "   erc20 avg val sent contract  erc20 uniq sent token name  \\\n",
       "0                          0.0                        39.0   \n",
       "1                          0.0                         1.0   \n",
       "2                          0.0                         0.0   \n",
       "3                          0.0                         1.0   \n",
       "4                          0.0                         6.0   \n",
       "\n",
       "   erc20 uniq rec token name  erc20 most sent token type  \\\n",
       "0                       57.0                   Cofoundit   \n",
       "1                        7.0              Livepeer Token   \n",
       "2                        8.0                        None   \n",
       "3                       11.0                      Raiden   \n",
       "4                       27.0               StatusNetwork   \n",
       "\n",
       "   erc20_most_rec_token_type  \n",
       "0                  Numeraire  \n",
       "1             Livepeer Token  \n",
       "2                      XENON  \n",
       "3                      XENON  \n",
       "4                        EOS  \n",
       "\n",
       "[5 rows x 49 columns]"
      ]
     },
     "execution_count": 29,
     "metadata": {},
     "output_type": "execute_result"
    }
   ],
   "source": [
    "df = df.iloc[: , 1:]\n",
    "\n",
    "print(df.shape)\n",
    "df.head()"
   ]
  },
  {
   "cell_type": "markdown",
   "metadata": {
    "id": "EgrNBGvpb7-W"
   },
   "source": [
    "### 3.4 Removing Duplicated Rows"
   ]
  },
  {
   "cell_type": "code",
   "execution_count": 30,
   "metadata": {
    "colab": {
     "base_uri": "https://localhost:8080/"
    },
    "id": "Onke8TZ_cFLm",
    "outputId": "c9231be8-28aa-42f3-af6d-487b325af989"
   },
   "outputs": [
    {
     "data": {
      "text/html": [
       "<div>\n",
       "<style scoped>\n",
       "    .dataframe tbody tr th:only-of-type {\n",
       "        vertical-align: middle;\n",
       "    }\n",
       "\n",
       "    .dataframe tbody tr th {\n",
       "        vertical-align: top;\n",
       "    }\n",
       "\n",
       "    .dataframe thead th {\n",
       "        text-align: right;\n",
       "    }\n",
       "</style>\n",
       "<table border=\"1\" class=\"dataframe\">\n",
       "  <thead>\n",
       "    <tr style=\"text-align: right;\">\n",
       "      <th></th>\n",
       "      <th>address</th>\n",
       "      <th>flag</th>\n",
       "      <th>avg min between sent tnx</th>\n",
       "      <th>avg min between received tnx</th>\n",
       "      <th>time diff between first and last (mins)</th>\n",
       "      <th>sent tnx</th>\n",
       "      <th>received tnx</th>\n",
       "      <th>number of created contracts</th>\n",
       "      <th>unique received from addresses</th>\n",
       "      <th>unique sent to addresses</th>\n",
       "      <th>...</th>\n",
       "      <th>erc20 min val sent</th>\n",
       "      <th>erc20 max val sent</th>\n",
       "      <th>erc20 avg val sent</th>\n",
       "      <th>erc20 min val sent contract</th>\n",
       "      <th>erc20 max val sent contract</th>\n",
       "      <th>erc20 avg val sent contract</th>\n",
       "      <th>erc20 uniq sent token name</th>\n",
       "      <th>erc20 uniq rec token name</th>\n",
       "      <th>erc20 most sent token type</th>\n",
       "      <th>erc20_most_rec_token_type</th>\n",
       "    </tr>\n",
       "  </thead>\n",
       "  <tbody>\n",
       "    <tr>\n",
       "      <th>0</th>\n",
       "      <td>0x00009277775ac7d0d59eaad8fee3d10ac6c805e8</td>\n",
       "      <td>0</td>\n",
       "      <td>844.26</td>\n",
       "      <td>1093.71</td>\n",
       "      <td>704785.63</td>\n",
       "      <td>721</td>\n",
       "      <td>89</td>\n",
       "      <td>0</td>\n",
       "      <td>40</td>\n",
       "      <td>118</td>\n",
       "      <td>...</td>\n",
       "      <td>0.000000</td>\n",
       "      <td>1.683100e+07</td>\n",
       "      <td>271779.920000</td>\n",
       "      <td>0.0</td>\n",
       "      <td>0.0</td>\n",
       "      <td>0.0</td>\n",
       "      <td>39.0</td>\n",
       "      <td>57.0</td>\n",
       "      <td>Cofoundit</td>\n",
       "      <td>Numeraire</td>\n",
       "    </tr>\n",
       "    <tr>\n",
       "      <th>1</th>\n",
       "      <td>0x0002b44ddb1476db43c868bd494422ee4c136fed</td>\n",
       "      <td>0</td>\n",
       "      <td>12709.07</td>\n",
       "      <td>2958.44</td>\n",
       "      <td>1218216.73</td>\n",
       "      <td>94</td>\n",
       "      <td>8</td>\n",
       "      <td>0</td>\n",
       "      <td>5</td>\n",
       "      <td>14</td>\n",
       "      <td>...</td>\n",
       "      <td>2.260809</td>\n",
       "      <td>2.260809e+00</td>\n",
       "      <td>2.260809</td>\n",
       "      <td>0.0</td>\n",
       "      <td>0.0</td>\n",
       "      <td>0.0</td>\n",
       "      <td>1.0</td>\n",
       "      <td>7.0</td>\n",
       "      <td>Livepeer Token</td>\n",
       "      <td>Livepeer Token</td>\n",
       "    </tr>\n",
       "    <tr>\n",
       "      <th>2</th>\n",
       "      <td>0x0002bda54cb772d040f779e88eb453cac0daa244</td>\n",
       "      <td>0</td>\n",
       "      <td>246194.54</td>\n",
       "      <td>2434.02</td>\n",
       "      <td>516729.30</td>\n",
       "      <td>2</td>\n",
       "      <td>10</td>\n",
       "      <td>0</td>\n",
       "      <td>10</td>\n",
       "      <td>2</td>\n",
       "      <td>...</td>\n",
       "      <td>0.000000</td>\n",
       "      <td>0.000000e+00</td>\n",
       "      <td>0.000000</td>\n",
       "      <td>0.0</td>\n",
       "      <td>0.0</td>\n",
       "      <td>0.0</td>\n",
       "      <td>0.0</td>\n",
       "      <td>8.0</td>\n",
       "      <td>None</td>\n",
       "      <td>XENON</td>\n",
       "    </tr>\n",
       "    <tr>\n",
       "      <th>3</th>\n",
       "      <td>0x00038e6ba2fd5c09aedb96697c8d7b8fa6632e5e</td>\n",
       "      <td>0</td>\n",
       "      <td>10219.60</td>\n",
       "      <td>15785.09</td>\n",
       "      <td>397555.90</td>\n",
       "      <td>25</td>\n",
       "      <td>9</td>\n",
       "      <td>0</td>\n",
       "      <td>7</td>\n",
       "      <td>13</td>\n",
       "      <td>...</td>\n",
       "      <td>100.000000</td>\n",
       "      <td>9.029231e+03</td>\n",
       "      <td>3804.076893</td>\n",
       "      <td>0.0</td>\n",
       "      <td>0.0</td>\n",
       "      <td>0.0</td>\n",
       "      <td>1.0</td>\n",
       "      <td>11.0</td>\n",
       "      <td>Raiden</td>\n",
       "      <td>XENON</td>\n",
       "    </tr>\n",
       "    <tr>\n",
       "      <th>4</th>\n",
       "      <td>0x00062d1dd1afb6fb02540ddad9cdebfe568e0d89</td>\n",
       "      <td>0</td>\n",
       "      <td>36.61</td>\n",
       "      <td>10707.77</td>\n",
       "      <td>382472.42</td>\n",
       "      <td>4598</td>\n",
       "      <td>20</td>\n",
       "      <td>1</td>\n",
       "      <td>7</td>\n",
       "      <td>19</td>\n",
       "      <td>...</td>\n",
       "      <td>0.000000</td>\n",
       "      <td>4.500000e+04</td>\n",
       "      <td>13726.659220</td>\n",
       "      <td>0.0</td>\n",
       "      <td>0.0</td>\n",
       "      <td>0.0</td>\n",
       "      <td>6.0</td>\n",
       "      <td>27.0</td>\n",
       "      <td>StatusNetwork</td>\n",
       "      <td>EOS</td>\n",
       "    </tr>\n",
       "    <tr>\n",
       "      <th>...</th>\n",
       "      <td>...</td>\n",
       "      <td>...</td>\n",
       "      <td>...</td>\n",
       "      <td>...</td>\n",
       "      <td>...</td>\n",
       "      <td>...</td>\n",
       "      <td>...</td>\n",
       "      <td>...</td>\n",
       "      <td>...</td>\n",
       "      <td>...</td>\n",
       "      <td>...</td>\n",
       "      <td>...</td>\n",
       "      <td>...</td>\n",
       "      <td>...</td>\n",
       "      <td>...</td>\n",
       "      <td>...</td>\n",
       "      <td>...</td>\n",
       "      <td>...</td>\n",
       "      <td>...</td>\n",
       "      <td>...</td>\n",
       "      <td>...</td>\n",
       "    </tr>\n",
       "    <tr>\n",
       "      <th>9836</th>\n",
       "      <td>0xff481ca14e6c16b79fc8ab299b4d2387ec8ecdd2</td>\n",
       "      <td>1</td>\n",
       "      <td>12635.10</td>\n",
       "      <td>631.39</td>\n",
       "      <td>58748.48</td>\n",
       "      <td>4</td>\n",
       "      <td>13</td>\n",
       "      <td>0</td>\n",
       "      <td>11</td>\n",
       "      <td>4</td>\n",
       "      <td>...</td>\n",
       "      <td>0.000000</td>\n",
       "      <td>0.000000e+00</td>\n",
       "      <td>0.000000</td>\n",
       "      <td>0.0</td>\n",
       "      <td>0.0</td>\n",
       "      <td>0.0</td>\n",
       "      <td>0.0</td>\n",
       "      <td>2.0</td>\n",
       "      <td></td>\n",
       "      <td>GSENetwork</td>\n",
       "    </tr>\n",
       "    <tr>\n",
       "      <th>9837</th>\n",
       "      <td>0xff718805bb9199ebf024ab6acd333e603ad77c85</td>\n",
       "      <td>1</td>\n",
       "      <td>0.00</td>\n",
       "      <td>0.00</td>\n",
       "      <td>0.00</td>\n",
       "      <td>0</td>\n",
       "      <td>0</td>\n",
       "      <td>0</td>\n",
       "      <td>0</td>\n",
       "      <td>0</td>\n",
       "      <td>...</td>\n",
       "      <td>0.000000</td>\n",
       "      <td>0.000000e+00</td>\n",
       "      <td>0.000000</td>\n",
       "      <td>0.0</td>\n",
       "      <td>0.0</td>\n",
       "      <td>0.0</td>\n",
       "      <td>0.0</td>\n",
       "      <td>1.0</td>\n",
       "      <td></td>\n",
       "      <td>Blockwell say NOTSAFU</td>\n",
       "    </tr>\n",
       "    <tr>\n",
       "      <th>9838</th>\n",
       "      <td>0xff8e6af02d41a576a0c82f7835535193e1a6bccc</td>\n",
       "      <td>1</td>\n",
       "      <td>2499.44</td>\n",
       "      <td>2189.29</td>\n",
       "      <td>261601.88</td>\n",
       "      <td>67</td>\n",
       "      <td>43</td>\n",
       "      <td>0</td>\n",
       "      <td>31</td>\n",
       "      <td>44</td>\n",
       "      <td>...</td>\n",
       "      <td>0.000000</td>\n",
       "      <td>0.000000e+00</td>\n",
       "      <td>0.000000</td>\n",
       "      <td>0.0</td>\n",
       "      <td>0.0</td>\n",
       "      <td>0.0</td>\n",
       "      <td>0.0</td>\n",
       "      <td>5.0</td>\n",
       "      <td></td>\n",
       "      <td>Free BOB Tokens - BobsRepair.com</td>\n",
       "    </tr>\n",
       "    <tr>\n",
       "      <th>9839</th>\n",
       "      <td>0xffde23396d57e10abf58bd929bb1e856c7718218</td>\n",
       "      <td>1</td>\n",
       "      <td>0.00</td>\n",
       "      <td>0.00</td>\n",
       "      <td>0.00</td>\n",
       "      <td>0</td>\n",
       "      <td>1</td>\n",
       "      <td>0</td>\n",
       "      <td>1</td>\n",
       "      <td>0</td>\n",
       "      <td>...</td>\n",
       "      <td>NaN</td>\n",
       "      <td>NaN</td>\n",
       "      <td>NaN</td>\n",
       "      <td>NaN</td>\n",
       "      <td>NaN</td>\n",
       "      <td>NaN</td>\n",
       "      <td>NaN</td>\n",
       "      <td>NaN</td>\n",
       "      <td>NaN</td>\n",
       "      <td>NaN</td>\n",
       "    </tr>\n",
       "    <tr>\n",
       "      <th>9840</th>\n",
       "      <td>0xd624d046edbdef805c5e4140dce5fb5ec1b39a3c</td>\n",
       "      <td>1</td>\n",
       "      <td>37242.70</td>\n",
       "      <td>149.56</td>\n",
       "      <td>670817.33</td>\n",
       "      <td>18</td>\n",
       "      <td>3</td>\n",
       "      <td>0</td>\n",
       "      <td>1</td>\n",
       "      <td>5</td>\n",
       "      <td>...</td>\n",
       "      <td>0.000000</td>\n",
       "      <td>0.000000e+00</td>\n",
       "      <td>0.000000</td>\n",
       "      <td>0.0</td>\n",
       "      <td>0.0</td>\n",
       "      <td>0.0</td>\n",
       "      <td>0.0</td>\n",
       "      <td>42.0</td>\n",
       "      <td></td>\n",
       "      <td>INS Promo1</td>\n",
       "    </tr>\n",
       "  </tbody>\n",
       "</table>\n",
       "<p>9823 rows × 49 columns</p>\n",
       "</div>"
      ],
      "text/plain": [
       "                                         address  flag  \\\n",
       "0     0x00009277775ac7d0d59eaad8fee3d10ac6c805e8     0   \n",
       "1     0x0002b44ddb1476db43c868bd494422ee4c136fed     0   \n",
       "2     0x0002bda54cb772d040f779e88eb453cac0daa244     0   \n",
       "3     0x00038e6ba2fd5c09aedb96697c8d7b8fa6632e5e     0   \n",
       "4     0x00062d1dd1afb6fb02540ddad9cdebfe568e0d89     0   \n",
       "...                                          ...   ...   \n",
       "9836  0xff481ca14e6c16b79fc8ab299b4d2387ec8ecdd2     1   \n",
       "9837  0xff718805bb9199ebf024ab6acd333e603ad77c85     1   \n",
       "9838  0xff8e6af02d41a576a0c82f7835535193e1a6bccc     1   \n",
       "9839  0xffde23396d57e10abf58bd929bb1e856c7718218     1   \n",
       "9840  0xd624d046edbdef805c5e4140dce5fb5ec1b39a3c     1   \n",
       "\n",
       "      avg min between sent tnx  avg min between received tnx  \\\n",
       "0                       844.26                       1093.71   \n",
       "1                     12709.07                       2958.44   \n",
       "2                    246194.54                       2434.02   \n",
       "3                     10219.60                      15785.09   \n",
       "4                        36.61                      10707.77   \n",
       "...                        ...                           ...   \n",
       "9836                  12635.10                        631.39   \n",
       "9837                      0.00                          0.00   \n",
       "9838                   2499.44                       2189.29   \n",
       "9839                      0.00                          0.00   \n",
       "9840                  37242.70                        149.56   \n",
       "\n",
       "      time diff between first and last (mins)  sent tnx  received tnx  \\\n",
       "0                                   704785.63       721            89   \n",
       "1                                  1218216.73        94             8   \n",
       "2                                   516729.30         2            10   \n",
       "3                                   397555.90        25             9   \n",
       "4                                   382472.42      4598            20   \n",
       "...                                       ...       ...           ...   \n",
       "9836                                 58748.48         4            13   \n",
       "9837                                     0.00         0             0   \n",
       "9838                                261601.88        67            43   \n",
       "9839                                     0.00         0             1   \n",
       "9840                                670817.33        18             3   \n",
       "\n",
       "      number of created contracts  unique received from addresses  \\\n",
       "0                               0                              40   \n",
       "1                               0                               5   \n",
       "2                               0                              10   \n",
       "3                               0                               7   \n",
       "4                               1                               7   \n",
       "...                           ...                             ...   \n",
       "9836                            0                              11   \n",
       "9837                            0                               0   \n",
       "9838                            0                              31   \n",
       "9839                            0                               1   \n",
       "9840                            0                               1   \n",
       "\n",
       "      unique sent to addresses  ...  erc20 min val sent  erc20 max val sent  \\\n",
       "0                          118  ...            0.000000        1.683100e+07   \n",
       "1                           14  ...            2.260809        2.260809e+00   \n",
       "2                            2  ...            0.000000        0.000000e+00   \n",
       "3                           13  ...          100.000000        9.029231e+03   \n",
       "4                           19  ...            0.000000        4.500000e+04   \n",
       "...                        ...  ...                 ...                 ...   \n",
       "9836                         4  ...            0.000000        0.000000e+00   \n",
       "9837                         0  ...            0.000000        0.000000e+00   \n",
       "9838                        44  ...            0.000000        0.000000e+00   \n",
       "9839                         0  ...                 NaN                 NaN   \n",
       "9840                         5  ...            0.000000        0.000000e+00   \n",
       "\n",
       "      erc20 avg val sent  erc20 min val sent contract  \\\n",
       "0          271779.920000                          0.0   \n",
       "1               2.260809                          0.0   \n",
       "2               0.000000                          0.0   \n",
       "3            3804.076893                          0.0   \n",
       "4           13726.659220                          0.0   \n",
       "...                  ...                          ...   \n",
       "9836            0.000000                          0.0   \n",
       "9837            0.000000                          0.0   \n",
       "9838            0.000000                          0.0   \n",
       "9839                 NaN                          NaN   \n",
       "9840            0.000000                          0.0   \n",
       "\n",
       "      erc20 max val sent contract  erc20 avg val sent contract  \\\n",
       "0                             0.0                          0.0   \n",
       "1                             0.0                          0.0   \n",
       "2                             0.0                          0.0   \n",
       "3                             0.0                          0.0   \n",
       "4                             0.0                          0.0   \n",
       "...                           ...                          ...   \n",
       "9836                          0.0                          0.0   \n",
       "9837                          0.0                          0.0   \n",
       "9838                          0.0                          0.0   \n",
       "9839                          NaN                          NaN   \n",
       "9840                          0.0                          0.0   \n",
       "\n",
       "      erc20 uniq sent token name  erc20 uniq rec token name  \\\n",
       "0                           39.0                       57.0   \n",
       "1                            1.0                        7.0   \n",
       "2                            0.0                        8.0   \n",
       "3                            1.0                       11.0   \n",
       "4                            6.0                       27.0   \n",
       "...                          ...                        ...   \n",
       "9836                         0.0                        2.0   \n",
       "9837                         0.0                        1.0   \n",
       "9838                         0.0                        5.0   \n",
       "9839                         NaN                        NaN   \n",
       "9840                         0.0                       42.0   \n",
       "\n",
       "      erc20 most sent token type         erc20_most_rec_token_type  \n",
       "0                      Cofoundit                         Numeraire  \n",
       "1                 Livepeer Token                    Livepeer Token  \n",
       "2                           None                             XENON  \n",
       "3                         Raiden                             XENON  \n",
       "4                  StatusNetwork                               EOS  \n",
       "...                          ...                               ...  \n",
       "9836                                                    GSENetwork  \n",
       "9837                                         Blockwell say NOTSAFU  \n",
       "9838                              Free BOB Tokens - BobsRepair.com  \n",
       "9839                         NaN                               NaN  \n",
       "9840                                                    INS Promo1  \n",
       "\n",
       "[9823 rows x 49 columns]"
      ]
     },
     "execution_count": 30,
     "metadata": {},
     "output_type": "execute_result"
    }
   ],
   "source": [
    "df.drop_duplicates(inplace=True)\n",
    "df"
   ]
  },
  {
   "cell_type": "markdown",
   "metadata": {
    "id": "5U1QEj-FF0Zy"
   },
   "source": [
    "### 3.5 Dealing with Missing Values"
   ]
  },
  {
   "cell_type": "markdown",
   "metadata": {
    "id": "O00YNVoMosY3"
   },
   "source": [
    "#### PART 1 ANALYSIS\n",
    "\n",
    "We learnt that all rows that have missing values in columns 25 onwards are labelled as fraudulent transactions. This is a case of Missing data At Random (MAR). The missing values in columns 25 onwards make up 38.04% of all fraudulent transactions in the dataset.\n",
    "\n",
    "Deletion of these rows with missing values is therefore not ideal as it can potentially bias data, whereby we delete a significant number of fraudulent transactions.\n",
    "\n",
    "Since deletion of rows is not wise, we explored the possibility of column deletion. We checked the correlation coefficient of the `flag` column with the columns with missing values.\n"
   ]
  },
  {
   "cell_type": "code",
   "execution_count": 31,
   "metadata": {
    "colab": {
     "base_uri": "https://localhost:8080/"
    },
    "id": "rB8rcW0qpcXj",
    "outputId": "a6574745-72fd-438d-9587-c0f1602c30b2"
   },
   "outputs": [
    {
     "data": {
      "text/plain": [
       "flag                                   1.000000\n",
       "total erc20 tnxs                      -0.025737\n",
       "erc20 total ether received            -0.004486\n",
       "erc20 total ether sent                 0.024758\n",
       "erc20 total ether sent contract        0.013501\n",
       "erc20 uniq sent addr                  -0.020593\n",
       "erc20 uniq rec addr                   -0.017574\n",
       "erc20 uniq sent addr.1                -0.003092\n",
       "erc20 uniq rec contract addr          -0.018509\n",
       "erc20 avg time between sent tnx             NaN\n",
       "erc20 avg time between rec tnx              NaN\n",
       "erc20 avg time between rec 2 tnx            NaN\n",
       "erc20 avg time between contract tnx         NaN\n",
       "erc20 min val rec                      0.011143\n",
       "erc20 max val rec                     -0.004324\n",
       "erc20 avg val rec                      0.007866\n",
       "erc20 min val sent                     0.025359\n",
       "erc20 max val sent                     0.025034\n",
       "erc20 avg val sent                     0.025039\n",
       "erc20 min val sent contract                 NaN\n",
       "erc20 max val sent contract                 NaN\n",
       "erc20 avg val sent contract                 NaN\n",
       "erc20 uniq sent token name             0.009490\n",
       "erc20 uniq rec token name             -0.018029\n",
       "dtype: float64"
      ]
     },
     "execution_count": 31,
     "metadata": {},
     "output_type": "execute_result"
    }
   ],
   "source": [
    "# Correlation between `flag` and the columns with missing values\n",
    "df1 = df['flag']\n",
    "df2 = df.iloc[:,24:47]\n",
    "newdf = pd.concat([df1, df2], axis=1)\n",
    "\n",
    "newdf.corrwith(newdf['flag']) "
   ]
  },
  {
   "cell_type": "markdown",
   "metadata": {
    "id": "VSCD2Qxb9d6e"
   },
   "source": [
    "None of the columns with missing values are strongly correlated with the label (`flag`)."
   ]
  },
  {
   "cell_type": "code",
   "execution_count": 32,
   "metadata": {
    "id": "iDRoGsey9XXb"
   },
   "outputs": [],
   "source": [
    "# Removing the columns with missing values\n",
    "drop_columns_with_missing_values = ['total erc20 tnxs', 'erc20 total ether received', 'erc20 total ether sent', 'erc20 total ether sent contract', \n",
    "                                    'erc20 uniq sent addr', 'erc20 uniq rec addr', 'erc20 uniq sent addr.1', 'erc20 uniq rec contract addr',\n",
    "                                    'erc20 avg time between sent tnx', 'erc20 avg time between rec tnx', 'erc20 avg time between rec 2 tnx',\n",
    "                                    'erc20 avg time between contract tnx', 'erc20 min val rec', 'erc20 max val rec', 'erc20 avg val rec',\n",
    "                                    'erc20 min val sent', 'erc20 max val sent', 'erc20 avg val sent', \n",
    "                                    'erc20 min val sent contract', 'erc20 max val sent contract', 'erc20 avg val sent contract',\n",
    "                                    'erc20 uniq sent token name', 'erc20 uniq rec token name']\n",
    "df.drop(drop_columns_with_missing_values, axis=1, inplace=True)"
   ]
  },
  {
   "cell_type": "code",
   "execution_count": 33,
   "metadata": {
    "colab": {
     "base_uri": "https://localhost:8080/"
    },
    "id": "T016CtCa-ogg",
    "outputId": "e1eaf9a8-2f63-4f69-ae70-5ec38b831ab2"
   },
   "outputs": [
    {
     "data": {
      "image/png": "[encoded data removed]",
      "text/plain": [
       "<Figure size 1200x600 with 1 Axes>"
      ]
     },
     "metadata": {},
     "output_type": "display_data"
    }
   ],
   "source": [
    "plt.figure(figsize=(12,6))\n",
    "sns.heatmap(df.isnull(), cbar = False)\n",
    "plt.show()"
   ]
  },
  {
   "cell_type": "markdown",
   "metadata": {
    "id": "JmQnTBjJKjxO"
   },
   "source": [
    "There are still some white portions for the columns `erc20 most sent token type` and `erc20_most_rec_token_type`. These are actually categorical variables."
   ]
  },
  {
   "cell_type": "markdown",
   "metadata": {
    "id": "veRmgGXfoOr4"
   },
   "source": [
    "#### PART 2 ANALYSIS\n",
    "\n",
    "We learnt that there could be some correlation between these columns and the labels. We verified the presence of correlation using the Chi-Square Test in the first code block.\n",
    "\n",
    "Hence we should not delete the columns as that might cause the model to perform not as well. Thus, we chose imputation of values as our method of dealing with missing values in these two columns.\n",
    "\n",
    "We are also aware that imputing the modal value can make the data imbalanced if there are a huge number of missing values present in our dataset. However, we have verified that only 9.36% and 9.49% of the values in `erc20 most sent token type` and `erc20_most_rec_token_type` respectively are missing, as shown by the second and third code blocks below."
   ]
  },
  {
   "cell_type": "code",
   "execution_count": 34,
   "metadata": {
    "colab": {
     "base_uri": "https://localhost:8080/"
    },
    "id": "Grugk7MVH5sW",
    "outputId": "8c3a7e44-7d6f-4af6-8ce5-cb220a2fdb62"
   },
   "outputs": [
    {
     "name": "stdout",
     "output_type": "stream",
     "text": [
      "The p-value of the Chi-Square Test for `erc20 most sent token type` and `flag` is 0.0.\n",
      "The p-value of the Chi-Square Test for `erc20_most_rec_token_type` and `flag` is 0.0.\n"
     ]
    }
   ],
   "source": [
    "# Finding correlation between the two column and `flag` using Chi-Square Test\n",
    "dfcopy = df[['flag']].copy()\n",
    "dfcopy[['flag']] = dfcopy[['flag']].astype('category')\n",
    "\n",
    "contigency = pd.crosstab(df['erc20 most sent token type'], dfcopy['flag'])\n",
    "c, p, dof, expected = chi2_contingency(contigency)\n",
    "pvalue = round(p, 5)\n",
    "print(f'The p-value of the Chi-Square Test for `erc20 most sent token type` and `flag` is {pvalue}.')\n",
    "\n",
    "contigency = pd.crosstab(df['erc20_most_rec_token_type'], dfcopy['flag'])\n",
    "c, p, dof, expected = chi2_contingency(contigency)\n",
    "pvalue = round(p, 5)\n",
    "print(f'The p-value of the Chi-Square Test for `erc20_most_rec_token_type` and `flag` is {pvalue}.')"
   ]
  },
  {
   "cell_type": "markdown",
   "metadata": {
    "id": "ZPyEY1DXMwTo"
   },
   "source": [
    "The null hypothesis of the Chi-Square Test is that `erc20 most sent token type`/`erc20_most_rec_token_type` and `flag` are independent. Since the p-values for both Chi-Square Test is 0.0, we have sufficient evidence to reject the null hypothesis at 5% level of significance. Thus we say that both `erc20 most sent token type` and `erc20_most_rec_token_type` are correlated with `flag`."
   ]
  },
  {
   "cell_type": "code",
   "execution_count": 35,
   "metadata": {
    "colab": {
     "base_uri": "https://localhost:8080/"
    },
    "id": "PA_5f2Lo29Jx",
    "outputId": "c1b3017e-2bbc-4164-af43-fa4b1feedef5"
   },
   "outputs": [
    {
     "name": "stdout",
     "output_type": "stream",
     "text": [
      "9.36% of the values in `erc20 most sent token type` are NA values.\n"
     ]
    }
   ],
   "source": [
    "# Percentage of missing data in `erc20 most sent token type`\n",
    "no_of_na = df['erc20 most sent token type'].isnull().sum()\n",
    "total_no_of_data = df['erc20 most sent token type'].count()\n",
    "percentage_missing_data = no_of_na/total_no_of_data*100\n",
    "print(str(round(percentage_missing_data, 2)) + '% of the values in `erc20 most sent token type` are NA values.')"
   ]
  },
  {
   "cell_type": "code",
   "execution_count": 36,
   "metadata": {
    "colab": {
     "base_uri": "https://localhost:8080/"
    },
    "id": "yoQhon5t3B5s",
    "outputId": "0a7dedde-93db-461e-c3f4-a1caaca8296e"
   },
   "outputs": [
    {
     "name": "stdout",
     "output_type": "stream",
     "text": [
      "9.49% of the values in `erc20_most_rec_token_type` are NA values.\n"
     ]
    }
   ],
   "source": [
    "# Percentage of missing data in `erc20_most_rec_token_type`\n",
    "no_of_na = df['erc20_most_rec_token_type'].isnull().sum()\n",
    "total_no_of_data = df['erc20_most_rec_token_type'].count()\n",
    "percentage_missing_data = no_of_na/total_no_of_data*100\n",
    "print(str(round(percentage_missing_data, 2)) + '% of the values in `erc20_most_rec_token_type` are NA values.')"
   ]
  },
  {
   "cell_type": "markdown",
   "metadata": {
    "id": "bipvnLY-MhwN"
   },
   "source": [
    "Thus using the method of imputation to deal with the missing values will not result in an imbalanced dataset."
   ]
  },
  {
   "cell_type": "code",
   "execution_count": 37,
   "metadata": {
    "id": "lzmeOP-hneok"
   },
   "outputs": [],
   "source": [
    "# Replace missing categorical variables with the category of the highest frequency\n",
    "mode_for_most_cat = df['erc20 most sent token type'].mode()[0]\n",
    "mode_for_rec_cat = df['erc20_most_rec_token_type'].mode()[0]\n",
    "\n",
    "df['erc20 most sent token type'].fillna(mode_for_most_cat, inplace=True)\n",
    "df['erc20_most_rec_token_type'].fillna(mode_for_rec_cat, inplace=True)\n",
    "\n",
    "df['erc20 most sent token type'].replace('\\s+', mode_for_most_cat, regex=True, inplace=True)\n",
    "df['erc20_most_rec_token_type'].replace('\\s+', mode_for_rec_cat, regex=True, inplace=True)"
   ]
  },
  {
   "cell_type": "code",
   "execution_count": 38,
   "metadata": {
    "colab": {
     "base_uri": "https://localhost:8080/"
    },
    "id": "TzRwQgmNnqMS",
    "outputId": "3fdff4ed-8f5f-400d-f5fd-c53d17c338fe"
   },
   "outputs": [
    {
     "data": {
      "image/png": "[encoded data removed]",
      "text/plain": [
       "<Figure size 1200x600 with 1 Axes>"
      ]
     },
     "metadata": {},
     "output_type": "display_data"
    }
   ],
   "source": [
    "plt.figure(figsize=(12,6))\n",
    "sns.heatmap(df.isnull(), cbar = False)\n",
    "plt.show()"
   ]
  },
  {
   "cell_type": "markdown",
   "metadata": {
    "id": "hMPBcfvInt3k"
   },
   "source": [
    "The above heatmap shows that there are no longer any missing values in our dataset."
   ]
  },
  {
   "cell_type": "markdown",
   "metadata": {
    "id": "J_vGgUKrA7LB"
   },
   "source": [
    "### 3.6 Changing selected 'object' variables to 'category' type"
   ]
  },
  {
   "cell_type": "markdown",
   "metadata": {
    "id": "slzJ-OSqPUSf"
   },
   "source": [
    "We deduced that only columns with many repeated values (`erc20 most sent token type` and `erc20_most_rec_token_type`) led to a decrease in memory usage when changed from 'object' to 'category' type.\n",
    "\n",
    "Conversely, changing the `address` column from 'object' type to 'category' type led to an increase in memory usage as there are very few repeated values in the `address` column.\n",
    "\n",
    "Hence we would only be changing the type of columns `erc20 most sent token type` and `erc20_most_rec_token_type` from 'object' to 'category' for better memory optimization and computational efficiency, we decided to change the object variables into 'category' Dtype."
   ]
  },
  {
   "cell_type": "code",
   "execution_count": 39,
   "metadata": {
    "colab": {
     "base_uri": "https://localhost:8080/"
    },
    "id": "RTIFRWuqlFlW",
    "outputId": "6e3279f7-9fb9-497c-a7a9-2539dfd5e7c7"
   },
   "outputs": [
    {
     "name": "stdout",
     "output_type": "stream",
     "text": [
      "<class 'pandas.core.frame.DataFrame'>\n",
      "Int64Index: 9823 entries, 0 to 9840\n",
      "Data columns (total 26 columns):\n",
      " #   Column                                                Non-Null Count  Dtype   \n",
      "---  ------                                                --------------  -----   \n",
      " 0   address                                               9823 non-null   object  \n",
      " 1   flag                                                  9823 non-null   int64   \n",
      " 2   avg min between sent tnx                              9823 non-null   float64 \n",
      " 3   avg min between received tnx                          9823 non-null   float64 \n",
      " 4   time diff between first and last (mins)               9823 non-null   float64 \n",
      " 5   sent tnx                                              9823 non-null   int64   \n",
      " 6   received tnx                                          9823 non-null   int64   \n",
      " 7   number of created contracts                           9823 non-null   int64   \n",
      " 8   unique received from addresses                        9823 non-null   int64   \n",
      " 9   unique sent to addresses                              9823 non-null   int64   \n",
      " 10  min value received                                    9823 non-null   float64 \n",
      " 11  max value received                                    9823 non-null   float64 \n",
      " 12  avg val received                                      9823 non-null   float64 \n",
      " 13  min val sent                                          9823 non-null   float64 \n",
      " 14  max val sent                                          9823 non-null   float64 \n",
      " 15  avg val sent                                          9823 non-null   float64 \n",
      " 16  min value sent to contract                            9823 non-null   float64 \n",
      " 17  max val sent to contract                              9823 non-null   float64 \n",
      " 18  avg value sent to contract                            9823 non-null   float64 \n",
      " 19  total transactions (including tnx to create contract  9823 non-null   int64   \n",
      " 20  total ether sent                                      9823 non-null   float64 \n",
      " 21  total ether received                                  9823 non-null   float64 \n",
      " 22  total ether sent contracts                            9823 non-null   float64 \n",
      " 23  total ether balance                                   9823 non-null   float64 \n",
      " 24  erc20 most sent token type                            9823 non-null   category\n",
      " 25  erc20_most_rec_token_type                             9823 non-null   category\n",
      "dtypes: category(2), float64(16), int64(7), object(1)\n",
      "memory usage: 2.2+ MB\n"
     ]
    }
   ],
   "source": [
    "df[['erc20 most sent token type', 'erc20_most_rec_token_type']] = df[['erc20 most sent token type', 'erc20_most_rec_token_type']].astype('category')\n",
    "df.info()"
   ]
  },
  {
   "cell_type": "markdown",
   "metadata": {
    "id": "BTyXC3WmmTMs"
   },
   "source": [
    "We notice a decrease in the memory usage of the dataset. The memory usage decreased from 3.8+ MB to the current 2.2+ MB after converting `erc20 most sent token type` and `erc20_most_rec_token_type` columns to be of type 'category'."
   ]
  },
  {
   "cell_type": "markdown",
   "metadata": {
    "id": "im5X-cJejBYD"
   },
   "source": [
    "### 3.7 Removing ‘object’/ ‘category’ Variables"
   ]
  },
  {
   "cell_type": "markdown",
   "metadata": {
    "id": "6t9todHBPJXZ"
   },
   "source": [
    "To determine whether we should keep the three categorical variables (`address`, `erc20 most sent token type` and `erc20_most_rec_token_type`) or not, we looked further into each of the columns."
   ]
  },
  {
   "cell_type": "code",
   "execution_count": 40,
   "metadata": {
    "colab": {
     "base_uri": "https://localhost:8080/"
    },
    "id": "g3L-x8N9VMjg",
    "outputId": "3a00a372-5ee2-406b-d386-81d7c716f889"
   },
   "outputs": [
    {
     "data": {
      "text/plain": [
       "0               6420\n",
       "None            1853\n",
       "EOS              138\n",
       "OmiseGO          136\n",
       "Golem            129\n",
       "                ... \n",
       "Nexium             1\n",
       "DAPSTOKEN          1\n",
       "DADI               1\n",
       "Not                1\n",
       "Litecoin0One       1\n",
       "Name: erc20 most sent token type, Length: 304, dtype: int64"
      ]
     },
     "execution_count": 40,
     "metadata": {},
     "output_type": "execute_result"
    }
   ],
   "source": [
    "df['erc20 most sent token type'].value_counts()"
   ]
  },
  {
   "cell_type": "code",
   "execution_count": 41,
   "metadata": {
    "colab": {
     "base_uri": "https://localhost:8080/"
    },
    "id": "7BO7lLDgVPEA",
    "outputId": "611af1c0-516f-4d3d-d9b2-1023c4838795"
   },
   "outputs": [
    {
     "data": {
      "text/plain": [
       "0                        5260\n",
       "OmiseGO                   870\n",
       "Blockwell0say0NOTSAFU     779\n",
       "DATAcoin                  358\n",
       "Livepeer0Token            205\n",
       "                         ... \n",
       "Kuende0Token                1\n",
       "KredX0Token                 1\n",
       "KingOfCandy                 1\n",
       "Cappasity                   1\n",
       "yocoinclassic               1\n",
       "Name: erc20_most_rec_token_type, Length: 466, dtype: int64"
      ]
     },
     "execution_count": 41,
     "metadata": {},
     "output_type": "execute_result"
    }
   ],
   "source": [
    "df['erc20_most_rec_token_type'].value_counts()"
   ]
  },
  {
   "cell_type": "markdown",
   "metadata": {
    "id": "xxmTAJW-V_Ff"
   },
   "source": [
    "For `erc20 most sent token type` and `erc20_most_rec_token_type`, we noticed that more than half of all the rows in the two columns is made up of the value '0'.\n",
    "\n",
    "Based on our domain knowledge, these two columns are supposed to have values that represent actual names of the token. The value '0' does not mean anything in these two categorical columns.\n",
    "\n",
    "Hence we will drop these two columns."
   ]
  },
  {
   "cell_type": "code",
   "execution_count": 42,
   "metadata": {
    "id": "r0L9oJlgW1nW"
   },
   "outputs": [],
   "source": [
    "# Dropping `erc20 most sent token type` and `erc20_most_rec_token_type` columns\n",
    "df.drop(columns=['erc20 most sent token type', 'erc20_most_rec_token_type'], inplace = True)"
   ]
  },
  {
   "cell_type": "markdown",
   "metadata": {
    "id": "coJPy9THXPKI"
   },
   "source": [
    "On the other hand, the `address` column has very few repeated values. Most of its values are unique.\n",
    "\n",
    "\n"
   ]
  },
  {
   "cell_type": "code",
   "execution_count": 43,
   "metadata": {
    "colab": {
     "base_uri": "https://localhost:8080/"
    },
    "id": "v84dTcUxXUw6",
    "outputId": "1731d3c1-1f87-49fc-b47c-14d6a67df79f"
   },
   "outputs": [
    {
     "data": {
      "text/plain": [
       "0x4c7520df888aa4569a37ac7d132f89c65821f0af    2\n",
       "0x4c77f6b01da78d053d5885e43bce5239b623dd3e    2\n",
       "0x4c7accc2689708892be29256fbe9d45a92f0aa97    2\n",
       "0x4c271764eadcf0d07e5a937b2de290294c9d11c2    2\n",
       "0x4cad652b71519a7a68d05dada31122c4c9a5ed95    2\n",
       "                                             ..\n",
       "0x57441a8c4ab2bc7afaf1d866d62847ce94fea869    1\n",
       "0x574800f39a26a2b7975ead18fa6b9c0ea1411493    1\n",
       "0x575882e95351709861cc985a49c313a4cd314409    1\n",
       "0x5760802a2efecd24bc98c1fb04d3245c214c1e4d    1\n",
       "0xd624d046edbdef805c5e4140dce5fb5ec1b39a3c    1\n",
       "Name: address, Length: 9816, dtype: int64"
      ]
     },
     "execution_count": 43,
     "metadata": {},
     "output_type": "execute_result"
    }
   ],
   "source": [
    "df['address'].value_counts()"
   ]
  },
  {
   "cell_type": "markdown",
   "metadata": {
    "id": "0pUqjG7QXqwv"
   },
   "source": [
    "Therefore, we will use the correlation between the `address` column and `flag` label to determine whether we should keep this variable or not."
   ]
  },
  {
   "cell_type": "code",
   "execution_count": 44,
   "metadata": {
    "colab": {
     "base_uri": "https://localhost:8080/"
    },
    "id": "5dNSSwmiXrbb",
    "outputId": "8ed26143-fc0c-442c-b161-1f996689bc36"
   },
   "outputs": [
    {
     "name": "stdout",
     "output_type": "stream",
     "text": [
      "The p-value of the Chi-Square Test is 0.47534.\n"
     ]
    }
   ],
   "source": [
    "# Chi-Square Test\n",
    "contigency = pd.crosstab(df['address'], dfcopy['flag'])\n",
    "c, p, dof, expected = chi2_contingency(contigency)\n",
    "pvalue = round(p, 5)\n",
    "print(f'The p-value of the Chi-Square Test is {pvalue}.')"
   ]
  },
  {
   "cell_type": "markdown",
   "metadata": {
    "id": "f1b9EOVXaUPk"
   },
   "source": [
    "The null hypothesis of the Chi-Square Test is that `address` and `flag` are independent. \n",
    "\n",
    "Since the p-value of our Chi-Square Test is 0.47534, we do not have sufficient evidence to reject the null hypothesis at 5% level of significance. This means that the `address` column and `flag` label are not correlated to each other. \n",
    "\n",
    "Thus we will drop the `address` column."
   ]
  },
  {
   "cell_type": "code",
   "execution_count": 45,
   "metadata": {
    "id": "1-25-JYRX3qB"
   },
   "outputs": [],
   "source": [
    "df.drop(columns=['address'], inplace = True)"
   ]
  },
  {
   "cell_type": "markdown",
   "metadata": {
    "id": "OQaD3oMmqQRV"
   },
   "source": [
    "## **4. Balancing the Imbalanced Dataset**"
   ]
  },
  {
   "cell_type": "code",
   "execution_count": 47,
   "metadata": {
    "colab": {
     "base_uri": "https://localhost:8080/"
    },
    "id": "APwABeIIN5_k",
    "outputId": "3a91567c-93e3-4326-c83b-dcae2f223146"
   },
   "outputs": [
    {
     "ename": "ModuleNotFoundError",
     "evalue": "No module named 'iblearn'",
     "output_type": "error",
     "traceback": [
      "\u001b[1;31m---------------------------------------------------------------------------\u001b[0m",
      "\u001b[1;31mModuleNotFoundError\u001b[0m                       Traceback (most recent call last)",
      "\u001b[1;32m~\\AppData\\Local\\Temp\\ipykernel_25400\\3862031.py\u001b[0m in \u001b[0;36m<module>\u001b[1;34m\u001b[0m\n\u001b[1;32m----> 1\u001b[1;33m \u001b[1;32mimport\u001b[0m \u001b[0miblearn\u001b[0m\u001b[1;33m\u001b[0m\u001b[1;33m\u001b[0m\u001b[0m\n\u001b[0m\u001b[0;32m      2\u001b[0m \u001b[1;32mfrom\u001b[0m \u001b[0mimblearn\u001b[0m\u001b[1;33m.\u001b[0m\u001b[0munder_sampling\u001b[0m \u001b[1;32mimport\u001b[0m \u001b[0mEditedNearestNeighbours\u001b[0m\u001b[1;33m\u001b[0m\u001b[1;33m\u001b[0m\u001b[0m\n\u001b[0;32m      3\u001b[0m \u001b[1;32mfrom\u001b[0m \u001b[0mcollections\u001b[0m \u001b[1;32mimport\u001b[0m \u001b[0mCounter\u001b[0m\u001b[1;33m\u001b[0m\u001b[1;33m\u001b[0m\u001b[0m\n\u001b[0;32m      4\u001b[0m \u001b[1;33m\u001b[0m\u001b[0m\n\u001b[0;32m      5\u001b[0m \u001b[0mundersample\u001b[0m \u001b[1;33m=\u001b[0m \u001b[0mEditedNearestNeighbours\u001b[0m\u001b[1;33m(\u001b[0m\u001b[0mn_neighbors\u001b[0m\u001b[1;33m=\u001b[0m\u001b[1;36m3\u001b[0m\u001b[1;33m)\u001b[0m\u001b[1;33m\u001b[0m\u001b[1;33m\u001b[0m\u001b[0m\n",
      "\u001b[1;31mModuleNotFoundError\u001b[0m: No module named 'iblearn'"
     ]
    }
   ],
   "source": [
    "import iblearn\n",
    "from imblearn.under_sampling import EditedNearestNeighbours\n",
    "from collections import Counter\n",
    "\n",
    "undersample = EditedNearestNeighbours(n_neighbors=3)\n",
    "\n",
    "train_size=0.8\n",
    "features = [x for x in df.columns if (x != 'flag')]\n",
    "unique_values = df.nunique()\n",
    "features = [x for x in features if x in unique_values.loc[(unique_values>1)]]\n",
    "X = df[features]\n",
    "y = df['flag']\n",
    "counter = Counter(y)\n",
    "print(counter)\n",
    "# Apply ENN-all twice\n",
    "X, y = undersample.fit_resample(X,y)\n",
    "counter = Counter(y)\n",
    "print(counter)\n",
    "X, y = undersample.fit_resample(X,y)\n",
    "counter = Counter(y)\n",
    "print(counter)"
   ]
  },
  {
   "cell_type": "markdown",
   "metadata": {
    "id": "-WvA7BBmYsKv"
   },
   "source": [
    "## **5. Splitting Data into Training, Validation & Test Sets**"
   ]
  },
  {
   "cell_type": "code",
   "execution_count": null,
   "metadata": {
    "colab": {
     "base_uri": "https://localhost:8080/"
    },
    "id": "L8EqN3pqYrLq",
    "outputId": "f55cde88-f208-48c2-fe60-04bbbceb5f6e"
   },
   "outputs": [],
   "source": [
    "# Split the data into training and remaining dataset\n",
    "X_train, X_rem, y_train, y_rem = train_test_split(X, y, train_size = 0.8)\n",
    "\n",
    "# Split the remaining dataset into validation and test sets\n",
    "test_size = 0.5\n",
    "X_valid, X_test, y_valid, y_test = train_test_split(X_rem, y_rem, test_size = 0.5)\n",
    "\n",
    "df[features].info()"
   ]
  },
  {
   "cell_type": "markdown",
   "metadata": {
    "id": "XJhGb3NB61ZK"
   },
   "source": [
    "## **6. Feature Scaling**"
   ]
  },
  {
   "cell_type": "code",
   "execution_count": null,
   "metadata": {
    "colab": {
     "base_uri": "https://localhost:8080/"
    },
    "id": "92RoD1GI6Fdt",
    "outputId": "995d3176-c6e2-4ac3-f954-a3b438ca537a"
   },
   "outputs": [],
   "source": [
    "from sklearn import preprocessing\n",
    "import numpy as np\n",
    "# from feature_engine import transformation as vt\n",
    "from scipy.special import boxcox1p\n",
    "from sklearn.preprocessing import PowerTransformer\n",
    "\n",
    "pt = PowerTransformer(method='yeo-johnson')\n",
    "X_train_robust = pt.fit_transform(X_train)\n",
    "# robust_scaler = preprocessing.RobustScaler()\n",
    "# X_train_robust = robust_scaler.fit_transform(X_train)\n",
    "\n",
    "# tf = vt.BoxCoxTransformer(variables = list(X_train.columns))\n",
    "# X_train_robust = pd.DataFrame()\n",
    "# for col in X_train:\n",
    "#   # print(X_train[col])\n",
    "#   # print(len([num for num in X_train[col] if num < 0]))\n",
    "#   X_train_robust[col], fitted_lambda = stats.boxcox(X_train[col])\n",
    "\n",
    "columns = X_train.columns\n",
    "X_train_robust = pd.DataFrame(data=X_train_robust, columns=columns)\n",
    "\n",
    "fig, axes = plt.subplots(8, 3, figsize=(15, 15))\n",
    "fig.delaxes(axes[7][1])\n",
    "fig.delaxes(axes[7][2])\n",
    "\n",
    "plt.subplots_adjust(wspace = 0.7, hspace=0.8)\n",
    "plt.suptitle(\"Distribution of features\",y=0.95, size=18, weight='bold')\n",
    "\n",
    "ax1 = sns.boxplot(ax = axes[0,0], data=X_train_robust, x=columns[0])\n",
    "ax1.set_title(f'Distribution of {columns[0]}')\n",
    "\n",
    "ax2 = sns.boxplot(ax = axes[0,1], data=X_train_robust, x=columns[1])\n",
    "ax2.set_title(f'Distribution of {columns[1]}')\n",
    "\n",
    "ax3 = sns.boxplot(ax = axes[0,2], data=X_train_robust, x=columns[2])\n",
    "ax3.set_title(f'Distribution of {columns[2]}')\n",
    "\n",
    "ax4 = sns.boxplot(ax = axes[1,0], data=X_train_robust, x=columns[3])\n",
    "ax4.set_title(f'Distribution of {columns[3]}')\n",
    "\n",
    "ax5 = sns.boxplot(ax = axes[1,1], data=X_train_robust, x=columns[4])\n",
    "ax5.set_title(f'Distribution of {columns[4]}')\n",
    "\n",
    "ax6 = sns.boxplot(ax = axes[1,2], data=X_train_robust, x=columns[5])\n",
    "ax6.set_title(f'Distribution of {columns[5]}')\n",
    "\n",
    "ax7 = sns.boxplot(ax = axes[2,0], data=X_train_robust, x=columns[6])\n",
    "ax7.set_title(f'Distribution of {columns[6]}')\n",
    "\n",
    "ax8 = sns.boxplot(ax = axes[2,1], data=X_train_robust, x=columns[7])\n",
    "ax8.set_title(f'Distribution of {columns[7]}')\n",
    "\n",
    "ax9 = sns.boxplot(ax = axes[2,2], data=X_train_robust, x=columns[8])\n",
    "ax9.set_title(f'Distribution of {columns[8]}')\n",
    "\n",
    "ax10 = sns.boxplot(ax = axes[3,0], data=X_train_robust, x=columns[9])\n",
    "ax10.set_title(f'Distribution of {columns[9]}')\n",
    "\n",
    "ax11 = sns.boxplot(ax = axes[3,1], data=X_train_robust, x=columns[10])\n",
    "ax11.set_title(f'Distribution of {columns[10]}')\n",
    " \n",
    "ax12 = sns.boxplot(ax = axes[3,2], data=X_train_robust, x=columns[11])\n",
    "ax12.set_title(f'Distribution of {columns[11]}')\n",
    "\n",
    "ax13 = sns.boxplot(ax = axes[4,0], data=X_train_robust, x=columns[12])\n",
    "ax13.set_title(f'Distribution of {columns[12]}')\n",
    " \n",
    "ax14 = sns.boxplot(ax = axes[4,1], data=X_train_robust, x=columns[13])\n",
    "ax14.set_title(f'Distribution of {columns[13]}')\n",
    " \n",
    "ax15 = sns.boxplot(ax = axes[4,2], data=X_train_robust, x=columns[14])\n",
    "ax15.set_title(f'Distribution of {columns[14]}')\n",
    " \n",
    "ax16 = sns.boxplot(ax = axes[5,0], data=X_train_robust, x=columns[15])\n",
    "ax16.set_title(f'Distribution of {columns[15]}')\n",
    " \n",
    "ax17 = sns.boxplot(ax = axes[5,1], data=X_train_robust, x=columns[16])\n",
    "ax17.set_title(f'Distribution of {columns[16]}')\n",
    " \n",
    "ax18 = sns.boxplot(ax = axes[5,2], data=X_train_robust, x=columns[17])\n",
    "ax18.set_title(f'Distribution of {columns[17]}')\n",
    " \n",
    "ax19 = sns.boxplot(ax = axes[6,0], data=X_train_robust, x=columns[18])\n",
    "ax19.set_title(f'Distribution of {columns[18]}')\n",
    "\n",
    "ax20 = sns.boxplot(ax = axes[6,1], data=X_train_robust, x=columns[19])\n",
    "ax20.set_title(f'Distribution of {columns[19]}')\n",
    "\n",
    "ax21 = sns.boxplot(ax = axes[6,2], data=X_train_robust, x=columns[20])\n",
    "ax21.set_title(f'Distribution of {columns[20]}')\n",
    "\n",
    "ax22 = sns.boxplot(ax = axes[7,0], data=X_train_robust, x=columns[21])\n",
    "ax22.set_title(f'Distribution of {columns[21]}')"
   ]
  },
  {
   "cell_type": "markdown",
   "metadata": {
    "id": "xHnfznE1oiuG"
   },
   "source": [
    "## **7. Feature Selection**"
   ]
  },
  {
   "cell_type": "markdown",
   "metadata": {
    "id": "3NDVzq7QArd0"
   },
   "source": [
    "### 7.1 Removing Highly Correlated Features"
   ]
  },
  {
   "cell_type": "markdown",
   "metadata": {
    "id": "rtfaK_biyY_f"
   },
   "source": [
    "We created a correlation matrix to determine the correlation between the features in our dataset."
   ]
  },
  {
   "cell_type": "code",
   "execution_count": null,
   "metadata": {
    "colab": {
     "base_uri": "https://localhost:8080/"
    },
    "id": "92JnrmEN4jk4",
    "outputId": "f4da34af-17cf-48d6-e72c-387e01a0c737"
   },
   "outputs": [],
   "source": [
    "X_train_robust.corr()"
   ]
  },
  {
   "cell_type": "code",
   "execution_count": null,
   "metadata": {
    "colab": {
     "base_uri": "https://localhost:8080/"
    },
    "id": "eTpYTkQEAAiw",
    "outputId": "7d03147b-e99c-45c3-ff34-a2889c8c188b"
   },
   "outputs": [],
   "source": [
    "corr = X_train_robust.corr()\n",
    "mask = np.zeros_like(corr)\n",
    "mask[np.triu_indices_from(mask)] = True\n",
    "with sns.axes_style('white'):\n",
    "    fig, ax = plt.subplots(figsize = (15, 8))\n",
    "    sns.heatmap(corr,  mask = mask, annot = False, cmap = 'CMRmap', center = 0, square = True)"
   ]
  },
  {
   "cell_type": "markdown",
   "metadata": {
    "id": "gwDDG3BIUUzk"
   },
   "source": [
    "Based on the correlation matrix, we noticed that there are several variables that are very highly correlated with each other. We define 'very highly correlated' as correlation coefficients that are between 0.95 and 1.0 (inclusive)."
   ]
  },
  {
   "cell_type": "code",
   "execution_count": null,
   "metadata": {
    "colab": {
     "base_uri": "https://localhost:8080/"
    },
    "id": "E5th9ILhxR7O",
    "outputId": "98a6971e-0170-47db-b966-419289b79a32"
   },
   "outputs": [],
   "source": [
    "corr_mat = X_train_robust.corr(method='pearson')\n",
    "upper_corr_mat = corr_mat.where(np.triu(np.ones(corr_mat.shape), k=1).astype(np.bool))\n",
    "unique_corr_pairs = upper_corr_mat.unstack().dropna()\n",
    "abs_unique_corr_pairs = abs(unique_corr_pairs)\n",
    "sorted_mat = abs_unique_corr_pairs.sort_values()\n",
    "print(sorted_mat)"
   ]
  },
  {
   "cell_type": "code",
   "execution_count": null,
   "metadata": {
    "colab": {
     "base_uri": "https://localhost:8080/"
    },
    "id": "-zN5jD2E7rL4",
    "outputId": "4bdb7874-2126-404c-f22f-e59017029f39"
   },
   "outputs": [],
   "source": [
    "# Extracting very highly correlated variables\n",
    "sorted_mat[sorted_mat >= 0.95]"
   ]
  },
  {
   "cell_type": "code",
   "execution_count": null,
   "metadata": {
    "id": "EJfSjhlZnTyT"
   },
   "outputs": [],
   "source": [
    "# Removing variables that are very highly correlated with each other\n",
    "highly_related_variables = ['avg value sent to contract', 'max val sent to contract', 'total ether sent contracts', 'received tnx']\n",
    "X_train_robust.drop(highly_related_variables, axis=1, inplace=True)\n",
    "X_test.drop(highly_related_variables, axis=1, inplace=True)\n",
    "X_valid.drop(highly_related_variables, axis=1, inplace=True)"
   ]
  },
  {
   "cell_type": "code",
   "execution_count": null,
   "metadata": {
    "colab": {
     "base_uri": "https://localhost:8080/"
    },
    "id": "5j63sBA7oVdx",
    "outputId": "b60c6629-f5b4-4838-d609-4607e485dbfd"
   },
   "outputs": [],
   "source": [
    "# Recheck the correlation matrix\n",
    "new_corr = X_train_robust.corr()\n",
    "\n",
    "mask = np.zeros_like(new_corr)\n",
    "mask[np.triu_indices_from(mask)]=True\n",
    "with sns.axes_style('white'):\n",
    "    fig, ax = plt.subplots(figsize=(18,10))\n",
    "    sns.heatmap(new_corr,  mask=mask, annot=False, cmap='CMRmap', center=0, linewidths=0.1, square=True)"
   ]
  },
  {
   "cell_type": "markdown",
   "metadata": {
    "id": "wk2-0VNhnDKt"
   },
   "source": [
    "### 7.2 Removing Features with a Small Distribution"
   ]
  },
  {
   "cell_type": "code",
   "execution_count": null,
   "metadata": {
    "colab": {
     "base_uri": "https://localhost:8080/"
    },
    "id": "Mwiz2qxBRttU",
    "outputId": "6677ca72-ccb4-494a-d8f6-9576a1d2d35b"
   },
   "outputs": [],
   "source": [
    "# Features that have a small distribution\n",
    "for i in X_train_robust.columns:\n",
    "    if len(X_train_robust[i].value_counts()) < 10:\n",
    "        print(f'The column `{i}` has the following distribution: \\n{X_train_robust[i].value_counts()}')\n",
    "        print('======================================')"
   ]
  },
  {
   "cell_type": "code",
   "execution_count": null,
   "metadata": {
    "colab": {
     "base_uri": "https://localhost:8080/"
    },
    "id": "h8bMNPwdVrvw",
    "outputId": "0fb7b2c3-c71f-46f5-a4a9-7aef88acbd45"
   },
   "outputs": [],
   "source": [
    "# Removing the feature with a small distribution\n",
    "small_distri_column = ['min value sent to contract']\n",
    "X_train_robust.drop(small_distri_column, axis=1, inplace=True)\n",
    "X_test.drop(small_distri_column, axis=1, inplace=True)\n",
    "X_valid.drop(small_distri_column, axis=1, inplace=True)\n",
    "print(X_train_robust.shape)\n",
    "X_train_robust.head()"
   ]
  },
  {
   "cell_type": "code",
   "execution_count": null,
   "metadata": {
    "colab": {
     "base_uri": "https://localhost:8080/"
    },
    "id": "vMsxVtQAvPKv",
    "outputId": "5f13ce5a-dafc-4321-8ae1-b0e02d890476"
   },
   "outputs": [],
   "source": [
    "# Distribution of final features\n",
    "columns = X_train_robust.columns\n",
    "fig, axes = plt.subplots(6, 3, figsize=(15, 15))\n",
    "fig.delaxes(axes[5][2])\n",
    "\n",
    "plt.subplots_adjust(wspace = 0.7, hspace=0.8)\n",
    "plt.suptitle(\"Distribution of features\",y=0.95, size=18, weight='bold')\n",
    "\n",
    "ax1 = sns.boxplot(ax = axes[0,0], data=X_train_robust, x=columns[0])\n",
    "ax1.set_title(f'Distribution of {columns[0]}')\n",
    "\n",
    "ax2 = sns.boxplot(ax = axes[0,1], data=X_train_robust, x=columns[1])\n",
    "ax2.set_title(f'Distribution of {columns[1]}')\n",
    "\n",
    "ax3 = sns.boxplot(ax = axes[0,2], data=X_train_robust, x=columns[2])\n",
    "ax3.set_title(f'Distribution of {columns[2]}')\n",
    "\n",
    "ax4 = sns.boxplot(ax = axes[1,0], data=X_train_robust, x=columns[3])\n",
    "ax4.set_title(f'Distribution of {columns[3]}')\n",
    "\n",
    "ax5 = sns.boxplot(ax = axes[1,1], data=X_train_robust, x=columns[4])\n",
    "ax5.set_title(f'Distribution of {columns[4]}')\n",
    "\n",
    "ax6 = sns.boxplot(ax = axes[1,2], data=X_train_robust, x=columns[5])\n",
    "ax6.set_title(f'Distribution of {columns[5]}')\n",
    "\n",
    "ax7 = sns.boxplot(ax = axes[2,0], data=X_train_robust, x=columns[6])\n",
    "ax7.set_title(f'Distribution of {columns[6]}')\n",
    "\n",
    "ax8 = sns.boxplot(ax = axes[2,1], data=X_train_robust, x=columns[7])\n",
    "ax8.set_title(f'Distribution of {columns[7]}')\n",
    "\n",
    "ax9 = sns.boxplot(ax = axes[2,2], data=X_train_robust, x=columns[8])\n",
    "ax9.set_title(f'Distribution of {columns[8]}')\n",
    "\n",
    "ax10 = sns.boxplot(ax = axes[3,0], data=X_train_robust, x=columns[9])\n",
    "ax10.set_title(f'Distribution of {columns[9]}')\n",
    "\n",
    "ax11 = sns.boxplot(ax = axes[3,1], data=X_train_robust, x=columns[10])\n",
    "ax11.set_title(f'Distribution of {columns[10]}')\n",
    " \n",
    "ax12 = sns.boxplot(ax = axes[3,2], data=X_train_robust, x=columns[11])\n",
    "ax12.set_title(f'Distribution of {columns[11]}')\n",
    "\n",
    "ax13 = sns.boxplot(ax = axes[4,0], data=X_train_robust, x=columns[12])\n",
    "ax13.set_title(f'Distribution of {columns[12]}')\n",
    " \n",
    "ax14 = sns.boxplot(ax = axes[4,1], data=X_train_robust, x=columns[13])\n",
    "ax14.set_title(f'Distribution of {columns[13]}')\n",
    "\n",
    "ax15 = sns.boxplot(ax = axes[4,2], data=X_train_robust, x=columns[14])\n",
    "ax15.set_title(f'Distribution of {columns[14]}')\n",
    " \n",
    "ax16 = sns.boxplot(ax = axes[5,0], data=X_train_robust, x=columns[15])\n",
    "ax16.set_title(f'Distribution of {columns[15]}')\n",
    " \n",
    "ax17 = sns.boxplot(ax = axes[5,1], data=X_train_robust, x=columns[16])\n",
    "ax17.set_title(f'Distribution of {columns[16]}')"
   ]
  },
  {
   "cell_type": "markdown",
   "metadata": {
    "id": "dihenK1tzZNV"
   },
   "source": [
    "# **B. Fraud Analytics Models**"
   ]
  },
  {
   "cell_type": "markdown",
   "metadata": {
    "id": "JRQQ5dOE-18Q"
   },
   "source": [
    "## **1. Logistic Regression**"
   ]
  },
  {
   "cell_type": "code",
   "execution_count": null,
   "metadata": {
    "id": "gpxxvBIC_rUw"
   },
   "outputs": [],
   "source": [
    "from sklearn.preprocessing import RobustScaler\n",
    "from sklearn.linear_model import LogisticRegression\n",
    "from sklearn.pipeline import Pipeline\n",
    "from sklearn.metrics import roc_curve, roc_auc_score, classification_report, accuracy_score, confusion_matrix, recall_score, log_loss\n",
    "\n",
    "class LogisticRegressionEstimator: \n",
    "  def __init__(self, x_train, y_train, x_validation, y_validation, x_test, y_test): \n",
    "    self.x_train = x_train\n",
    "    self.y_train = y_train\n",
    "    self.x_validation = x_validation\n",
    "    self.y_validation = y_validation\n",
    "    self.x_test = x_test\n",
    "    self.y_test = y_test\n",
    "\n",
    "  def fit_model(self): \n",
    "    \"\"\"\n",
    "    Returns fitted logistic regression model object\n",
    "    \"\"\"\n",
    "    lr = LogisticRegression()\n",
    "    lr.fit(self.x_train, self.y_train)\n",
    "    return lr\n",
    "\n",
    "  def display_model_performance(self, test_type, output_training=False): \n",
    "    \"\"\"\n",
    "    Displays confusion matrix, AUC, Accuracy, Precision and recall\n",
    "    after testing model on validation or testing dataset\n",
    "\n",
    "    Parameters\n",
    "    ==========\n",
    "    model\n",
    "      Fitted logistic regression model\n",
    "    test_type\n",
    "      Specify whether to use validation or test dataset\n",
    "    \"\"\"\n",
    "    # Fit model \n",
    "    model = self.fit_model()\n",
    "    y_train = self.y_train\n",
    "    x_train = self.x_train\n",
    "\n",
    "    if output_training:\n",
    "      #Training Score\n",
    "      y_train_hat = model.predict(x_train)\n",
    "      y_train_hat_probs = model.predict_proba(x_train)[:,1]\n",
    "\n",
    "      train_accuracy = accuracy_score(y_train, y_train_hat)*100\n",
    "      train_auc_roc = roc_auc_score(y_train, y_train_hat_probs)*100\n",
    "      train_log_loss = log_loss(y_train, y_train_hat)\n",
    "\n",
    "      print('Training Confusion matrix:\\n', confusion_matrix(y_train, y_train_hat))\n",
    "      print('Training AUC: %.4f %%' % train_auc_roc)\n",
    "      print('Training accuracy: %.4f %%' % train_accuracy)\n",
    "      print('Training Log Loss: ', train_log_loss)\n",
    "      print('Training Classification report:\\n', classification_report(y_train, y_train_hat, digits=6)) \n",
    "\n",
    "    else:\n",
    "      #Model validation\n",
    "      x_test = self.x_validation if test_type == 'validation' else self.x_test\n",
    "      y_test = self.y_validation if test_type == 'validation' else self.y_test\n",
    "\n",
    "      y_test_hat = model.predict(x_test)\n",
    "      y_test_probs = model.predict_proba(x_test)[:,1]\n",
    "\n",
    "      test_accuracy = accuracy_score(y_test, y_test_hat)*100\n",
    "      test_auc_roc = roc_auc_score(y_test, y_test_probs)*100\n",
    "      test_log_loss = log_loss(y_test, y_test_hat)\n",
    "\n",
    "\n",
    "      print(f'{test_type} Confusion matrix:\\n', confusion_matrix(y_test, y_test_hat))\n",
    "      print(f'{test_type} AUC: %.4f %%' % test_auc_roc)\n",
    "      print(f'{test_type} accuracy: %.4f %%' % test_accuracy) \n",
    "      print(f'{test_type} Log Loss: ', test_log_loss)\n",
    "      print(f'{test_type} Classification report:\\n', classification_report(y_test, y_test_hat, digits=6)) "
   ]
  },
  {
   "cell_type": "markdown",
   "metadata": {
    "id": "I73KY_2sB6ZS"
   },
   "source": [
    "We first train our baseline model which will be used as a benchmark to compare the performance of more complex models. <br>\n",
    "\n",
    "Our baseline model is a logistic regression model which uses all features from our training dataset after feature engineering was performed"
   ]
  },
  {
   "cell_type": "code",
   "execution_count": null,
   "metadata": {
    "colab": {
     "base_uri": "https://localhost:8080/"
    },
    "id": "Toqvv_u7greN",
    "outputId": "a3215d37-f929-495a-c59c-a08665fe4a4e"
   },
   "outputs": [],
   "source": [
    "%%time\n",
    "lr_estimator = LogisticRegressionEstimator(X_train_robust, y_train, X_valid, y_valid, X_test, y_test)\n",
    "lr_estimator.display_model_performance(test_type = \"test\", output_training=True)"
   ]
  },
  {
   "cell_type": "code",
   "execution_count": null,
   "metadata": {
    "colab": {
     "base_uri": "https://localhost:8080/"
    },
    "id": "GmvD3ld35Mrv",
    "outputId": "b02f56cd-162e-411b-b78b-f8baa17a1fc9"
   },
   "outputs": [],
   "source": [
    "%%time\n",
    "lr_estimator = LogisticRegressionEstimator(X_train_robust, y_train, X_valid, y_valid, X_test, y_test)\n",
    "lr_estimator.display_model_performance(test_type = \"validation\", output_training=False)"
   ]
  },
  {
   "cell_type": "code",
   "execution_count": null,
   "metadata": {
    "colab": {
     "base_uri": "https://localhost:8080/"
    },
    "id": "0NOO-nDdEYfW",
    "outputId": "61ba9ba7-0592-4a89-be55-fa5fc59d46a6"
   },
   "outputs": [],
   "source": [
    "%%time\n",
    "lr_estimator = LogisticRegressionEstimator(X_train_robust, y_train, X_valid, y_valid, X_test, y_test)\n",
    "lr_estimator.display_model_performance(test_type = \"test\", output_training=False)"
   ]
  },
  {
   "cell_type": "markdown",
   "metadata": {
    "id": "hCllnnLKby2W"
   },
   "source": [
    "## **3. Fully-Connected Neural Network**"
   ]
  },
  {
   "cell_type": "code",
   "execution_count": null,
   "metadata": {
    "id": "ocjvXDfbd9Ql"
   },
   "outputs": [],
   "source": [
    "import keras\n",
    "import tensorflow as tf\n",
    "from keras.models import Sequential\n",
    "from sklearn.model_selection import RandomizedSearchCV\n",
    "from keras import layers\n",
    "from keras.wrappers.scikit_learn import KerasClassifier\n",
    "from keras.layers import Flatten, Dense, Dropout, Activation\n",
    "from keras.optimizers import Adam\n",
    "from sklearn.metrics import r2_score as r2, confusion_matrix, accuracy_score, recall_score, make_scorer, precision_score"
   ]
  },
  {
   "cell_type": "markdown",
   "metadata": {
    "id": "xRyDVmiXcNti"
   },
   "source": [
    "Model 1 (Before Tuning Hyperparameters)"
   ]
  },
  {
   "cell_type": "code",
   "execution_count": null,
   "metadata": {
    "colab": {
     "base_uri": "https://localhost:8080/"
    },
    "id": "GTZZeOp4bxZV",
    "outputId": "ffe9b152-29fc-434a-cbbd-ff3701bef635"
   },
   "outputs": [],
   "source": [
    "%%time \n",
    "#Hyperparameters: Number of hidden nodes = 100, Number of epochs = 30, Batch size = 64\n",
    "\n",
    "# number of hidden nodes\n",
    "H = 100\n",
    "# input dimension\n",
    "input_dim = X_train_robust.shape[1]\n",
    "# num of epochs\n",
    "num_epochs = 30\n",
    "\n",
    "# create sequential multi-layer perceptron\n",
    "nn_model = Sequential()\n",
    "# layer 0\n",
    "nn_model.add(layers.Input(shape=(input_dim,))) \n",
    "\n",
    "# layer 1\n",
    "nn_model.add(layers.Dense(H, activation='relu'))\n",
    "\n",
    "#output layer\n",
    "nn_model.add(layers.Dense(1, activation='sigmoid'))\n",
    "\n",
    "# configure the model\n",
    "nn_model.compile(loss='binary_crossentropy',optimizer='rmsprop', metrics=['accuracy', tf.keras.metrics.Recall()])\n",
    "# fit the model \n",
    "history = nn_model.fit(X_train_robust, y_train, batch_size=64, epochs=num_epochs, verbose=0)\n",
    "\n",
    "#Compute recall score and loss for train, validation and test dataset\n",
    "train_score = nn_model.evaluate(X_train_robust, y_train, verbose=0)\n",
    "print('Train loss:', train_score[0]) \n",
    "\n",
    "val_score = nn_model.evaluate(X_valid, y_valid, verbose=0)\n",
    "print('Validation loss:', val_score[0]) \n",
    "\n",
    "test_score = nn_model.evaluate(X_test, y_test, verbose=0)\n",
    "print('Test loss:', test_score[0]) \n",
    "\n",
    "y_pred_train = (nn_model.predict(X_train_robust) > 0.5).astype(\"int32\")\n",
    "yhat_probs_train = y_pred_train[:, 0]\n",
    "print('Train Recall:' , recall_score(y_train, yhat_probs_train, average=\"macro\"))\n",
    "\n",
    "y_pred_valid = (nn_model.predict(X_valid) > 0.5).astype(\"int32\")\n",
    "yhat_probs_valid = y_pred_valid[:, 0]\n",
    "print('Validation Recall:' , recall_score(y_valid, yhat_probs_valid, average=\"macro\"))\n",
    "\n",
    "y_pred_test = (nn_model.predict(X_test) > 0.5).astype(\"int32\")\n",
    "yhat_probs_test = y_pred_test[:, 0]\n",
    "print('Test Recall:' , recall_score(y_test, yhat_probs_test, average=\"macro\"))"
   ]
  },
  {
   "cell_type": "markdown",
   "metadata": {
    "id": "kmi3ePuweQGZ"
   },
   "source": [
    "Tuning Hyperparameters with RandomizedSearchCV"
   ]
  },
  {
   "cell_type": "code",
   "execution_count": null,
   "metadata": {
    "colab": {
     "base_uri": "https://localhost:8080/"
    },
    "id": "zlLTwWqxkEbY",
    "outputId": "b1878852-0ae3-4f9a-f7ec-34ffee106e37"
   },
   "outputs": [],
   "source": [
    "%%time\n",
    "\n",
    "input_shape = X_train_robust.shape[1]\n",
    "\n",
    "def get_mlp_model(hiddenLayerOne=784,\n",
    "  dropout=0.2, learnRate=0.01):\n",
    "\t# initialize a sequential model and add layer to flatten the\n",
    "\t# input data\n",
    "  model = Sequential()\n",
    "  model.add(Dense(hiddenLayerOne, activation=\"relu\",\n",
    "\t\tinput_shape=(input_shape,)))\n",
    " \n",
    "\t# output layer\n",
    "  model.add(layers.Dense(1, activation=\"sigmoid\"))\n",
    " \n",
    "\t# compile the model\n",
    "  model.compile(\n",
    "\t\tloss=\"binary_crossentropy\",\n",
    "    optimizer = \"adam\",\n",
    "    metrics=[tf.keras.metrics.Recall()])\n",
    "\t# return compiled model\n",
    "  return model\n",
    "\n",
    "# wrap our model into a scikit-learn compatible classifier\n",
    "print(\"[INFO] initializing model...\")\n",
    "tuning_model = KerasClassifier(build_fn=get_mlp_model, verbose=0)\n",
    "\n",
    "hiddenLayerOne = [100, 300, 500]\n",
    "batchSize = [32, 64, 128, 256]\n",
    "epochs = [10, 20, 30, 40, 50]\n",
    "\n",
    "# create a dictionary from the hyperparameter grid\n",
    "grid = dict(\n",
    "\thiddenLayerOne=hiddenLayerOne,\n",
    "\tbatch_size=batchSize,\n",
    "\tepochs=epochs\n",
    ")\n",
    "\n",
    "# initialize a random search with a 3-fold cross-validation and then\n",
    "# start the hyperparameter search process\n",
    "print(\"[INFO] performing random search...\")\n",
    "scorer = make_scorer(recall_score)\n",
    "searcher = RandomizedSearchCV(estimator=tuning_model, n_jobs=-1, cv=3,\n",
    "\tparam_distributions=grid, scoring=scorer)\n",
    "searchResults = searcher.fit(X_train_robust, y_train)\n",
    "# summarize grid search information\n",
    "bestScore = searchResults.best_score_\n",
    "bestParams = searchResults.best_params_\n",
    "print(\"[INFO] best score is {:.2f} using {}\".format(bestScore,\n",
    "\tbestParams))\n"
   ]
  },
  {
   "cell_type": "markdown",
   "metadata": {
    "id": "EgnCUYTVe5tz"
   },
   "source": [
    "Model 2 (After Tuning Hyperparameters)"
   ]
  },
  {
   "cell_type": "code",
   "execution_count": null,
   "metadata": {
    "colab": {
     "base_uri": "https://localhost:8080/"
    },
    "id": "-lzTmGEwmHXD",
    "outputId": "6e433204-7a09-40f4-8638-a67fe5d5f3b8"
   },
   "outputs": [],
   "source": [
    "%%time\n",
    "\n",
    "# Using hyperparameters: Number of hidden nodes = 100, Number of epochs = 40, Batch size = 32\n",
    "\n",
    "#number of hidden nodes\n",
    "H = 300\n",
    "# input dimension\n",
    "input_dim = X_train_robust.shape[1]\n",
    "# num of epochs\n",
    "num_epochs = 40\n",
    "\n",
    "# create sequential multi-layer perceptron\n",
    "nn_model2 = Sequential()\n",
    "# layer 0\n",
    "nn_model2.add(layers.Input(shape=(input_dim,))) \n",
    "\n",
    "# layer 1\n",
    "nn_model2.add(layers.Dense(H, activation='relu'))\n",
    "\n",
    "#output layer\n",
    "nn_model2.add(layers.Dense(1, activation='sigmoid'))\n",
    "\n",
    "# configure the model\n",
    "nn_model2.compile(loss='binary_crossentropy', optimizer='adam', metrics=['accuracy', tf.keras.metrics.Recall()])\n",
    "# fit the model \n",
    "history = nn_model2.fit(X_train_robust, y_train, batch_size=32, epochs=num_epochs, verbose=0)\n",
    "\n",
    "#Compute recall score and loss for train, validation and test dataset\n",
    "train_score = nn_model2.evaluate(X_train_robust, y_train, verbose=0)\n",
    "print('Train loss:', train_score[0]) \n",
    "\n",
    "val_score = nn_model2.evaluate(X_valid, y_valid, verbose=0)\n",
    "print('Validation loss:', val_score[0]) \n",
    "\n",
    "test_score = nn_model2.evaluate(X_test, y_test, verbose=0)\n",
    "print('Test loss:', test_score[0]) \n",
    "\n",
    "y_pred_train = (nn_model2.predict(X_train_robust) > 0.5).astype(\"int32\")\n",
    "yhat_probs_train = y_pred_train[:, 0]\n",
    "print('Train Recall:' , recall_score(y_train, yhat_probs_train, average=\"macro\"))\n",
    "\n",
    "y_pred_valid = (nn_model2.predict(X_valid) > 0.5).astype(\"int32\")\n",
    "yhat_probs_valid = y_pred_valid[:, 0]\n",
    "print('Validation Recall:' , recall_score(y_valid, yhat_probs_valid, average=\"macro\"))\n",
    "\n",
    "y_pred_test = (nn_model2.predict(X_test) > 0.5).astype(\"int32\")\n",
    "yhat_probs_test = y_pred_test[:, 0]\n",
    "print('Test Recall:' , recall_score(y_test, yhat_probs_test, average=\"macro\"))"
   ]
  },
  {
   "cell_type": "markdown",
   "metadata": {
    "id": "6-NtmGKYfDTK"
   },
   "source": [
    "Tuning Number of Hidden Layers"
   ]
  },
  {
   "cell_type": "code",
   "execution_count": null,
   "metadata": {
    "colab": {
     "base_uri": "https://localhost:8080/"
    },
    "id": "-FiIDXm1fE_j",
    "outputId": "7d6db90e-cb4b-4a85-beb1-73b8aa9c8e39"
   },
   "outputs": [],
   "source": [
    "%%time\n",
    "# number of hidden nodes\n",
    "H = 100\n",
    "# input dimension\n",
    "input_dim = X_train_robust.shape[1]\n",
    "# num of epochs\n",
    "num_epochs = 30\n",
    "\n",
    "# create sequential multi-layer perceptron\n",
    "nn_model3 = Sequential()\n",
    "# layer 0\n",
    "nn_model3.add(layers.Input(shape=(input_dim,))) \n",
    "\n",
    "# layer 1\n",
    "nn_model3.add(layers.Dense(H, activation='relu'))\n",
    "\n",
    "# layer 2\n",
    "nn_model3.add(layers.Dense(H, activation='relu'))\n",
    "\n",
    "# layer 3\n",
    "nn_model3.add(layers.Dense(H, activation='relu'))\n",
    "\n",
    "# # layer 4\n",
    "# nn_model3.add(layers.Dense(H, activation='relu'))\n",
    "\n",
    "# # layer 5\n",
    "# nn_model3.add(layers.Dense(H, activation='relu'))\n",
    "\n",
    "# # layer 6\n",
    "# nn_model3.add(layers.Dense(H, activation='relu'))\n",
    "\n",
    "# # layer 7\n",
    "# nn_model3.add(layers.Dense(H, activation='relu'))\n",
    "\n",
    "# #output layer\n",
    "nn_model3.add(layers.Dense(1, activation='sigmoid'))\n",
    "\n",
    "# configure the model\n",
    "nn_model3.compile(loss='binary_crossentropy', optimizer='adam', metrics=['accuracy', tf.keras.metrics.Recall()])\n",
    "# fit the model \n",
    "history = nn_model3.fit(X_train_robust, y_train, batch_size=64, epochs=num_epochs, verbose=0)\n",
    "\n",
    "#Compute recall score and loss for train, validation and test dataset\n",
    "train_score = nn_model3.evaluate(X_train_robust, y_train, verbose=0)\n",
    "print('Train loss:', train_score[0]) \n",
    "\n",
    "val_score = nn_model3.evaluate(X_valid, y_valid, verbose=0)\n",
    "print('Validation loss:', val_score[0]) \n",
    "\n",
    "test_score = nn_model3.evaluate(X_test, y_test, verbose=0)\n",
    "print('Test loss:', test_score[0]) \n",
    "\n",
    "y_pred_train = (nn_model3.predict(X_train_robust) > 0.5).astype(\"int32\")\n",
    "yhat_probs_train = y_pred_train[:, 0]\n",
    "print('Train Recall:' , recall_score(y_train, yhat_probs_train, average=\"macro\"))\n",
    "\n",
    "y_pred_valid = (nn_model3.predict(X_valid) > 0.5).astype(\"int32\")\n",
    "yhat_probs_valid = y_pred_valid[:, 0]\n",
    "print('Validation Recall:' , recall_score(y_valid, yhat_probs_valid, average=\"macro\"))\n",
    "\n",
    "y_pred_test = (nn_model3.predict(X_test) > 0.5).astype(\"int32\")\n",
    "yhat_probs_test = y_pred_test[:, 0]\n",
    "print('Test Recall:' , recall_score(y_test, yhat_probs_test, average=\"macro\"))"
   ]
  },
  {
   "cell_type": "markdown",
   "metadata": {
    "id": "tnD-kIDuqMzW"
   },
   "source": [
    "Final Model Evaluation"
   ]
  },
  {
   "cell_type": "code",
   "execution_count": null,
   "metadata": {
    "colab": {
     "base_uri": "https://localhost:8080/"
    },
    "id": "B1MhIpQcqOaL",
    "outputId": "4d00b43e-ef93-4226-f5db-9e2b66a3624c"
   },
   "outputs": [],
   "source": [
    "%%time\n",
    "# number of hidden nodes\n",
    "H = 300\n",
    "# input dimension\n",
    "input_dim = X_train_robust.shape[1]\n",
    "# num of epochs\n",
    "num_epochs = 40\n",
    "\n",
    "# create sequential multi-layer perceptron\n",
    "nn_model4 = Sequential()\n",
    "\n",
    "# layer 0\n",
    "nn_model4.add(layers.Input(shape=(input_dim,))) \n",
    "\n",
    "# layer 1\n",
    "nn_model4.add(layers.Dense(H, activation='relu'))\n",
    "\n",
    "# layer 2\n",
    "nn_model4.add(layers.Dense(H, activation='relu'))\n",
    "\n",
    "# layer 3\n",
    "nn_model4.add(layers.Dense(H, activation='relu'))\n",
    "\n",
    "# #output layer\n",
    "nn_model4.add(layers.Dense(1, activation='sigmoid'))\n",
    "\n",
    "# configure the model\n",
    "nn_model4.compile(loss='binary_crossentropy', optimizer='adam', metrics=['accuracy', tf.keras.metrics.Recall()])\n",
    "# fit the model \n",
    "history = nn_model4.fit(X_train_robust, y_train, batch_size=32, epochs=num_epochs, verbose=0)\n",
    "\n",
    "\n",
    "#Compute recall score and loss for test dataset\n",
    "test_score = nn_model4.evaluate(X_test, y_test, verbose=0)\n",
    "print('Test loss:', test_score[0]) \n",
    "\n",
    "y_pred_test = (nn_model4.predict(X_test) > 0.5).astype(\"int32\")\n",
    "yhat_probs_test = y_pred_test[:, 0]\n",
    "print('Test Recall:' , recall_score(y_test, yhat_probs_test, average=\"macro\"))"
   ]
  }
 ],
 "metadata": {
  "colab": {
   "collapsed_sections": [
    "-d1t4YAsKCvJ",
    "b3XNqQaFE936",
    "uGa3CVTDGrno",
    "T5GgGCbRGtsc",
    "zUBlwbfQJFwI",
    "sslQN4WFKxQ8",
    "lBKBXWEpXywq",
    "CnxqnKT6PJWa",
    "aZZzk9ThO9J6",
    "NpL_E8Gp64Yo",
    "gG0pAOpM3l23",
    "41tBJUEwJwNX",
    "JuBSjqfDhNVm",
    "m0e69rypq4nt",
    "8ZKOsZmmj0qm",
    "QkyTCTKCpjNz",
    "9lk5bulRpojY",
    "mwPttYfIqCuT",
    "EgrNBGvpb7-W",
    "5U1QEj-FF0Zy",
    "O00YNVoMosY3",
    "veRmgGXfoOr4",
    "J_vGgUKrA7LB",
    "im5X-cJejBYD"
   ],
   "provenance": []
  },
  "kernelspec": {
   "display_name": "Python 3 (ipykernel)",
   "language": "python",
   "name": "python3"
  },
  "language_info": {
   "codemirror_mode": {
    "name": "ipython",
    "version": 3
   },
   "file_extension": ".py",
   "mimetype": "text/x-python",
   "name": "python",
   "nbconvert_exporter": "python",
   "pygments_lexer": "ipython3",
   "version": "3.10.11"
  }
 },
 "nbformat": 4,
 "nbformat_minor": 1
}
